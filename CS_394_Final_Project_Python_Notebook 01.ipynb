{
  "cells": [
    {
      "cell_type": "markdown",
      "metadata": {
        "id": "2j6dsRJThT9x"
      },
      "source": [
        "# Final project Python Notebook\n",
        "---\n",
        "- dealer policy: HIT17\n",
        "- fixed player policy: sticks on 20 or 21, otherwise hit\n",
        "- policy found by unwiehgted sampling MonteCarlo and off-policy n_step Satsa are both $\\varepsilon-greedy$ policies.\n",
        "---"
      ]
    },
    {
      "cell_type": "code",
      "execution_count": 1,
      "metadata": {
        "id": "ZiB1pIERhT90"
      },
      "outputs": [],
      "source": [
        "import numpy as np\n",
        "import matplotlib.pyplot as plt\n",
        "from mpl_toolkits.mplot3d import Axes3D\n",
        "#import pickle"
      ]
    },
    {
      "cell_type": "markdown",
      "source": [
        "This algorithm runs our target policy for a large amount of episodes."
      ],
      "metadata": {
        "id": "7vRpAmDoAmEX"
      }
    },
    {
      "cell_type": "code",
      "source": [
        "class BlackJack_estimate_run(object):\n",
        "\n",
        "    def __init__(self):\n",
        "        #self.player_state_value = {}\n",
        "        self.player_states = []\n",
        "        self.player_win = 0\n",
        "        self.player_draw = 0\n",
        "        self.player_returns={}\n",
        "        self.player_state_count={}\n",
        "\n",
        "\n",
        "        # initialise V values | (12-21) x (1-10) x (True, False) 200 in total\n",
        "\n",
        "        for i in range(12, 22):\n",
        "            for j in range(1, 11):\n",
        "                for k in [True, False]:\n",
        "                    self.player_returns[(i, j, k)] = 0\n",
        "                    self.player_state_count[(i,j,k)] = 0\n",
        "\n",
        "    # give card\n",
        "    # giveCard() function is borrowed from BlackJack base code\n",
        "    @staticmethod\n",
        "    def giveCard():\n",
        "        # 1 stands for ace\n",
        "        c_list = list(range(1, 11)) + [10, 10, 10]\n",
        "        return np.random.choice(c_list)\n",
        "\n",
        "    # dealerPolicy() function is borrowed from BlackJack base code\n",
        "    def dealerPolicy(self, current_value, usable_ace, is_end):\n",
        "        if current_value > 21:\n",
        "            if usable_ace:\n",
        "                current_value -= 10\n",
        "                usable_ace = False\n",
        "            else:\n",
        "                return current_value, usable_ace, True\n",
        "        # HIT17\n",
        "        if current_value >= 17:\n",
        "            return current_value, usable_ace, True\n",
        "        else:\n",
        "            card = self.giveCard()\n",
        "            if card == 1:\n",
        "                if current_value <= 10:\n",
        "                    return current_value+11, True, False\n",
        "                return current_value+1, usable_ace, False\n",
        "            else:\n",
        "                return current_value+card, usable_ace, False\n",
        "\n",
        "    # one can only has 1 usable ace\n",
        "    # playerPolicy() function is borrowed from BlackJack base code\n",
        "    def playerPolicy(self, current_value, usable_ace, is_end):\n",
        "        \"\"\"_summary_\n",
        "\n",
        "        Args:\n",
        "            current_value (_type_): _description_\n",
        "            usable_ace (_type_): _description_\n",
        "            is_end (bool): _description_\n",
        "\n",
        "        Returns:\n",
        "            state: return the next state\n",
        "            reward: temporal reward\n",
        "        \"\"\"\n",
        "        if current_value > 21:\n",
        "            if usable_ace:\n",
        "                current_value -= 10\n",
        "                usable_ace = False\n",
        "            else:\n",
        "                return (current_value, usable_ace, True),-1\n",
        "        # HIT20\n",
        "        if current_value >= 20:\n",
        "            return (current_value, usable_ace, True),0\n",
        "        else:\n",
        "            card = self.giveCard()\n",
        "            if card == 1:\n",
        "                if current_value <= 10:\n",
        "                    return (current_value+11, True, False),0\n",
        "                return (current_value+1, usable_ace, False),0\n",
        "            else:\n",
        "                return (current_value+card, usable_ace, False),0\n",
        "\n",
        "\n",
        "    def reset(self):\n",
        "        self.player_state_action = []\n",
        "        self.rewards = []\n",
        "        self.state = (0, 0, False)  # initial state\n",
        "        self.end = False\n",
        "\n",
        "    # modified to implement N-step TD method\n",
        "    def _giveCredit(self,player_value, dealer_value, is_end):\n",
        "        # update state value and win count\n",
        "        if is_end:\n",
        "            # give reward only to last state\n",
        "            last_state = self.player_states[-1]\n",
        "            if player_value > 21:\n",
        "                if dealer_value > 21:\n",
        "                    # draw\n",
        "                    self.player_draw += 1\n",
        "                    return 0\n",
        "                else:\n",
        "                    #self.player_state_value[last_state] -= 1\n",
        "                    return -1\n",
        "\n",
        "            else:\n",
        "                if dealer_value > 21:\n",
        "                    #self.player_state_value[last_state] += 1\n",
        "                    self.player_win += 1\n",
        "                    return 1\n",
        "                else:\n",
        "                    if player_value < dealer_value:\n",
        "                        #self.player_state_value[last_state] -= 1\n",
        "                        return -1\n",
        "                    elif player_value > dealer_value:\n",
        "                        #self.player_state_value[last_state] += 1\n",
        "                        self.player_win += 1\n",
        "                        return 1\n",
        "                    else:\n",
        "                        # draw\n",
        "                        self.player_draw += 1\n",
        "                        return 0\n",
        "\n",
        "\n",
        "\n",
        "\n",
        "    def play(self, rounds=1000):\n",
        "        for i in np.arange(rounds):\n",
        "            #self.reset()\n",
        "            #if i % 10000 == 0:\n",
        "            #    print(\"round\", i)\n",
        "            # hit 2 cards each\n",
        "            dealer_value, player_value = 0, 0\n",
        "            show_card = 0\n",
        "\n",
        "            # give dealer 2 cards and show 1\n",
        "            dealer_value += self.giveCard()\n",
        "            show_card = dealer_value\n",
        "            dealer_value += self.giveCard()\n",
        "\n",
        "            # player's turn\n",
        "            # always hit if less than 12\n",
        "            usable_ace, is_end = False, False\n",
        "\n",
        "            lis_states = []\n",
        "            while True:\n",
        "                state,reward = self.playerPolicy(player_value, usable_ace, is_end)\n",
        "                player_value, usable_ace, is_end = state\n",
        "\n",
        "                # when value goes higher than 12, record states\n",
        "                if (player_value >= 12) and (player_value <= 21):\n",
        "                    lis_states.append((player_value, show_card, usable_ace))\n",
        "\n",
        "                if is_end:\n",
        "                    break\n",
        "            self.player_states.append(lis_states)\n",
        "            # print(\"player card sum\", player_value)\n",
        "\n",
        "            # dealer's turn\n",
        "            usable_ace, is_end = False, False\n",
        "            while not is_end:\n",
        "                dealer_value, usable_ace, is_end = self.dealerPolicy(dealer_value, usable_ace, is_end)\n",
        "            # print(\"dealer card sum\", dealer_value)\n",
        "\n",
        "            # judge winner\n",
        "            # set intermediate state to 0\n",
        "            #for s in self.player_states:\n",
        "            #    self.player_state_value[s] = 0 if self.player_state_value.get(s) is None else self.player_state_value.get(s)\n",
        "\n",
        "            final_reward = self._giveCredit(player_value,dealer_value,is_end)\n",
        "\n",
        "            #updating returns\n",
        "\n",
        "            for state in lis_states:\n",
        "                self.player_state_count[state] = self.player_state_count[state]+1\n",
        "                N=self.player_state_count[state]\n",
        "                cur_val = self.player_returns[state]\n",
        "                self.player_returns[state] = cur_val+(1/N)*(final_reward-cur_val)\n",
        "\n",
        "\n",
        "\n",
        "\n",
        "\n",
        "\n",
        "\n",
        "\n",
        "\n"
      ],
      "metadata": {
        "id": "tCNCQmddAhxu"
      },
      "execution_count": 2,
      "outputs": []
    },
    {
      "cell_type": "code",
      "source": [
        "np.random.seed(200)\n",
        "b_est = BlackJack_estimate_run()\n",
        "b_est.play(1000000)"
      ],
      "metadata": {
        "id": "cd1WxVu9DOfb"
      },
      "execution_count": 3,
      "outputs": []
    },
    {
      "cell_type": "code",
      "source": [
        "b_est.player_returns"
      ],
      "metadata": {
        "colab": {
          "base_uri": "https://localhost:8080/"
        },
        "id": "CBZ6_0qCEAYA",
        "outputId": "43523b1e-a643-4562-a029-15a2a194253d"
      },
      "execution_count": 4,
      "outputs": [
        {
          "output_type": "execute_result",
          "data": {
            "text/plain": [
              "{(12, 1, True): -0.09032258064516123,\n",
              " (12, 1, False): -0.3543554427932822,\n",
              " (12, 2, True): -0.059426229508196725,\n",
              " (12, 2, False): -0.26919362626750415,\n",
              " (12, 3, True): -0.08695652173913042,\n",
              " (12, 3, False): -0.2616314199395765,\n",
              " (12, 4, True): -0.004618937644341811,\n",
              " (12, 4, False): -0.23116295679085913,\n",
              " (12, 5, True): 0.0854166666666667,\n",
              " (12, 5, False): -0.2299439161180207,\n",
              " (12, 6, True): 0.06843267108167769,\n",
              " (12, 6, False): -0.2258064516129033,\n",
              " (12, 7, True): -0.021691973969631226,\n",
              " (12, 7, False): -0.3085995085995071,\n",
              " (12, 8, True): -0.09482758620689662,\n",
              " (12, 8, False): -0.3252586731588556,\n",
              " (12, 9, True): -0.022587268993839844,\n",
              " (12, 9, False): -0.3302207130730036,\n",
              " (12, 10, True): -0.11771117166212532,\n",
              " (12, 10, False): -0.3802193806435985,\n",
              " (13, 1, True): -0.19499478623566194,\n",
              " (13, 1, False): -0.3829279923700534,\n",
              " (13, 2, True): -0.06659267480577141,\n",
              " (13, 2, False): -0.28994845360824645,\n",
              " (13, 3, True): -0.07395143487858723,\n",
              " (13, 3, False): -0.2936489336770564,\n",
              " (13, 4, True): -0.026315789473684202,\n",
              " (13, 4, False): -0.2813626322520648,\n",
              " (13, 5, True): 0.02508178844056707,\n",
              " (13, 5, False): -0.24855354823473821,\n",
              " (13, 6, True): -0.01124859392575927,\n",
              " (13, 6, False): -0.23280802292263625,\n",
              " (13, 7, True): -0.09196617336152219,\n",
              " (13, 7, False): -0.3394280356305671,\n",
              " (13, 8, True): -0.08047210300429171,\n",
              " (13, 8, False): -0.3526564344746166,\n",
              " (13, 9, True): -0.0890052356020941,\n",
              " (13, 9, False): -0.35982236765221454,\n",
              " (13, 10, True): -0.1477182801371668,\n",
              " (13, 10, False): -0.40755437977660236,\n",
              " (14, 1, True): -0.1976284584980235,\n",
              " (14, 1, False): -0.39610239852398554,\n",
              " (14, 2, True): -0.08607350096711794,\n",
              " (14, 2, False): -0.322234762979684,\n",
              " (14, 3, True): -0.06511175898931,\n",
              " (14, 3, False): -0.3044971200708893,\n",
              " (14, 4, True): -0.08665338645418331,\n",
              " (14, 4, False): -0.2850045167118347,\n",
              " (14, 5, True): -0.068678459937565,\n",
              " (14, 5, False): -0.2869036903690352,\n",
              " (14, 6, True): -0.036468330134357,\n",
              " (14, 6, False): -0.2549240292628033,\n",
              " (14, 7, True): -0.1167355371900827,\n",
              " (14, 7, False): -0.35672316384180697,\n",
              " (14, 8, True): -0.06699507389162557,\n",
              " (14, 8, False): -0.3750421206334941,\n",
              " (14, 9, True): -0.11663286004056801,\n",
              " (14, 9, False): -0.38404267140793286,\n",
              " (14, 10, True): -0.20346646571213334,\n",
              " (14, 10, False): -0.4298736741411809,\n",
              " (15, 1, True): -0.18049615055603077,\n",
              " (15, 1, False): -0.4167672555689675,\n",
              " (15, 2, True): -0.12666076173604954,\n",
              " (15, 2, False): -0.33915780334274,\n",
              " (15, 3, True): -0.12706270627062718,\n",
              " (15, 3, False): -0.3303075608714209,\n",
              " (15, 4, True): -0.07290729072907284,\n",
              " (15, 4, False): -0.31204222317966296,\n",
              " (15, 5, True): -0.03775322283609577,\n",
              " (15, 5, False): -0.2993940705475002,\n",
              " (15, 6, True): -0.04838709677419346,\n",
              " (15, 6, False): -0.2813570205479448,\n",
              " (15, 7, True): -0.1292083712465878,\n",
              " (15, 7, False): -0.3843025173134025,\n",
              " (15, 8, True): -0.14068100358422933,\n",
              " (15, 8, False): -0.4050171526586619,\n",
              " (15, 9, True): -0.15573053368328932,\n",
              " (15, 9, False): -0.41840277777777984,\n",
              " (15, 10, True): -0.19934944237918176,\n",
              " (15, 10, False): -0.4548271363339874,\n",
              " (16, 1, True): -0.20215410107705029,\n",
              " (16, 1, False): -0.43803197010587613,\n",
              " (16, 2, True): -0.13354281225451695,\n",
              " (16, 2, False): -0.37438629478742264,\n",
              " (16, 3, True): -0.10023677979479087,\n",
              " (16, 3, False): -0.35880535530381075,\n",
              " (16, 4, True): -0.13685847589424577,\n",
              " (16, 4, False): -0.3336154008885113,\n",
              " (16, 5, True): -0.04149715215622464,\n",
              " (16, 5, False): -0.3203592814371246,\n",
              " (16, 6, True): -0.061550759392486026,\n",
              " (16, 6, False): -0.29581892486639244,\n",
              " (16, 7, True): -0.1436552274541102,\n",
              " (16, 7, False): -0.4120016963528416,\n",
              " (16, 8, True): -0.17614091273018392,\n",
              " (16, 8, False): -0.4300200697158549,\n",
              " (16, 9, True): -0.1498729889923793,\n",
              " (16, 9, False): -0.45216568544995717,\n",
              " (16, 10, True): -0.22093479968578172,\n",
              " (16, 10, False): -0.4823606214910592,\n",
              " (17, 1, True): -0.2506983240223462,\n",
              " (17, 1, False): -0.4591949964692831,\n",
              " (17, 2, True): -0.14577464788732375,\n",
              " (17, 2, False): -0.3839927147627237,\n",
              " (17, 3, True): -0.1413843888070694,\n",
              " (17, 3, False): -0.35379531343881493,\n",
              " (17, 4, True): -0.0859697386519945,\n",
              " (17, 4, False): -0.35607438851829526,\n",
              " (17, 5, True): -0.11790714812085469,\n",
              " (17, 5, False): -0.3469914335844771,\n",
              " (17, 6, True): -0.08807896735003795,\n",
              " (17, 6, False): -0.3250357069985708,\n",
              " (17, 7, True): -0.14555633310006996,\n",
              " (17, 7, False): -0.43497576736672255,\n",
              " (17, 8, True): -0.16714082503556202,\n",
              " (17, 8, False): -0.4486420257300402,\n",
              " (17, 9, True): -0.1800595238095238,\n",
              " (17, 9, False): -0.45346514879169314,\n",
              " (17, 10, True): -0.2566778701574381,\n",
              " (17, 10, False): -0.5011812523815597,\n",
              " (18, 1, True): -0.2531147540983604,\n",
              " (18, 1, False): -0.47934528448947805,\n",
              " (18, 2, True): -0.1938131313131315,\n",
              " (18, 2, False): -0.40687457758038115,\n",
              " (18, 3, True): -0.18103448275862108,\n",
              " (18, 3, False): -0.3882456828885381,\n",
              " (18, 4, True): -0.16926201760324996,\n",
              " (18, 4, False): -0.36049618320610655,\n",
              " (18, 5, True): -0.11441213653603025,\n",
              " (18, 5, False): -0.359678368307512,\n",
              " (18, 6, True): -0.1279590531030071,\n",
              " (18, 6, False): -0.3363215731636774,\n",
              " (18, 7, True): -0.15087040618955486,\n",
              " (18, 7, False): -0.4540280639780198,\n",
              " (18, 8, True): -0.2030178326474625,\n",
              " (18, 8, False): -0.47757255936675486,\n",
              " (18, 9, True): -0.22468142186452048,\n",
              " (18, 9, False): -0.48360655737705,\n",
              " (18, 10, True): -0.27983870967741836,\n",
              " (18, 10, False): -0.5249853458382192,\n",
              " (19, 1, True): -0.2785673678226258,\n",
              " (19, 1, False): -0.489786177930508,\n",
              " (19, 2, True): -0.20117302052785918,\n",
              " (19, 2, False): -0.42849077907414374,\n",
              " (19, 3, True): -0.1945236737022246,\n",
              " (19, 3, False): -0.40044227402561505,\n",
              " (19, 4, True): -0.17253948967193197,\n",
              " (19, 4, False): -0.37120359955005533,\n",
              " (19, 5, True): -0.16181818181818186,\n",
              " (19, 5, False): -0.3698177353857784,\n",
              " (19, 6, True): -0.17153067301965425,\n",
              " (19, 6, False): -0.354513790831216,\n",
              " (19, 7, True): -0.21581450653983328,\n",
              " (19, 7, False): -0.4699012533232052,\n",
              " (19, 8, True): -0.24016686531585169,\n",
              " (19, 8, False): -0.49608258825698137,\n",
              " (19, 9, True): -0.232419547079857,\n",
              " (19, 9, False): -0.5008734025926298,\n",
              " (19, 10, True): -0.2969216975493129,\n",
              " (19, 10, False): -0.5401933022864014,\n",
              " (20, 1, True): 0.5452597750401722,\n",
              " (20, 1, False): 0.5337329337329323,\n",
              " (20, 2, True): 0.6445750935328731,\n",
              " (20, 2, False): 0.6516086235489278,\n",
              " (20, 3, True): 0.6395721925133687,\n",
              " (20, 3, False): 0.6648366363149425,\n",
              " (20, 4, True): 0.6638513513513521,\n",
              " (20, 4, False): 0.6626300975322246,\n",
              " (20, 5, True): 0.6810207336523133,\n",
              " (20, 5, False): 0.6847047696257268,\n",
              " (20, 6, True): 0.6980932203389835,\n",
              " (20, 6, False): 0.6845769126790989,\n",
              " (20, 7, True): 0.7696447793326141,\n",
              " (20, 7, False): 0.7634143085958366,\n",
              " (20, 8, True): 0.7766415500538222,\n",
              " (20, 8, False): 0.7805056067945109,\n",
              " (20, 9, True): 0.8074807480748082,\n",
              " (20, 9, False): 0.7890935595017211,\n",
              " (20, 10, True): 0.5276461295418602,\n",
              " (20, 10, False): 0.5270944948498111,\n",
              " (21, 1, True): 0.8246067657832403,\n",
              " (21, 1, False): 0.8307611823175493,\n",
              " (21, 2, True): 0.8754508805431789,\n",
              " (21, 2, False): 0.8852094240837677,\n",
              " (21, 3, True): 0.8914273281114028,\n",
              " (21, 3, False): 0.891490201236352,\n",
              " (21, 4, True): 0.8915609969392216,\n",
              " (21, 4, False): 0.8917371502927772,\n",
              " (21, 5, True): 0.8974522292993607,\n",
              " (21, 5, False): 0.8950901671712526,\n",
              " (21, 6, True): 0.8966116420503926,\n",
              " (21, 6, False): 0.8983610890827413,\n",
              " (21, 7, True): 0.9177824267782424,\n",
              " (21, 7, False): 0.9244543196967758,\n",
              " (21, 8, True): 0.9270722917108353,\n",
              " (21, 8, False): 0.9249388438264468,\n",
              " (21, 9, True): 0.9315967810249881,\n",
              " (21, 9, False): 0.9278747433264891,\n",
              " (21, 10, True): 0.9386810028211025,\n",
              " (21, 10, False): 0.9408393174780968}"
            ]
          },
          "metadata": {},
          "execution_count": 4
        }
      ]
    },
    {
      "cell_type": "code",
      "source": [
        "basline_val = b_est.player_returns[(13,1,True)]"
      ],
      "metadata": {
        "id": "YjOpJC-4HUuQ"
      },
      "execution_count": 5,
      "outputs": []
    },
    {
      "cell_type": "code",
      "source": [
        "basline_val"
      ],
      "metadata": {
        "colab": {
          "base_uri": "https://localhost:8080/"
        },
        "id": "fMDhxsJQHaEu",
        "outputId": "f0f2b131-a146-45aa-9ad2-0b2650892429"
      },
      "execution_count": 6,
      "outputs": [
        {
          "output_type": "execute_result",
          "data": {
            "text/plain": [
              "-0.19499478623566194"
            ]
          },
          "metadata": {},
          "execution_count": 6
        }
      ]
    },
    {
      "cell_type": "markdown",
      "source": [
        "Now we check our winning rate by our fixed policy as in textbook, section 5.1, page 93."
      ],
      "metadata": {
        "id": "tCmwoJskcLCK"
      }
    },
    {
      "cell_type": "code",
      "source": [
        "print(\"fixed policy winning rate: \", b_est.player_win/1000000)\n",
        "print(\"fixed policy draw rate: \", b_est.player_draw/1000000)"
      ],
      "metadata": {
        "colab": {
          "base_uri": "https://localhost:8080/"
        },
        "id": "Ufqk8N5dcevE",
        "outputId": "42c90bf6-380e-48c8-fb03-d9cc3d348d51"
      },
      "execution_count": 7,
      "outputs": [
        {
          "output_type": "stream",
          "name": "stdout",
          "text": [
            "fixed policy winning rate:  0.306089\n",
            "fixed policy draw rate:  0.24448\n"
          ]
        }
      ]
    },
    {
      "cell_type": "markdown",
      "source": [
        "## Section: n_Step off policy Sarsa"
      ],
      "metadata": {
        "id": "nc883UXNcw2v"
      }
    },
    {
      "cell_type": "markdown",
      "source": [
        "This is our implemented n_Step off policy Sarsa evaluation algorithm. Mostly, the class below is borrowed from online article \"Reinforcement Learning — Solving Blackjack\" by Jeremy Zhang.  \n",
        "Except the part that we reare our own list of rewards and the final block of the code in this class \"BlackJack_N_step_Sarsa_eval\" that updates state value by N_step Sarsa method as in page 149 of textbook, \"Off policy n-step Sarsa estimating Q $\\approx$ $q*$\" or $q_\\pi$.  \n"
      ],
      "metadata": {
        "id": "6VbZqr3rF_XR"
      }
    },
    {
      "cell_type": "code",
      "execution_count": 8,
      "metadata": {
        "id": "6eoXgxHshT91"
      },
      "outputs": [],
      "source": [
        "class BlackJack_N_step_Sarsa_eval(object):\n",
        "\n",
        "    def __init__(self):\n",
        "        #self.player_state_value = {}\n",
        "        self.player_states = []\n",
        "        self.player_win = 0\n",
        "        self.player_draw = 0\n",
        "        self.rewards = []\n",
        "        self.lis_rewards=[]\n",
        "        self.lr = 0.1\n",
        "        self.max_T = []\n",
        "\n",
        "        self.player_V_Values={}\n",
        "        self.player_final_rewards = []\n",
        "        self.chosen_state_value = []\n",
        "\n",
        "\n",
        "        # initialise V values | (12-21) x (1-10) x (True, False) 200 in total\n",
        "\n",
        "        for i in range(12, 22):\n",
        "            for j in range(1, 11):\n",
        "                for k in [True, False]:\n",
        "                    self.player_V_Values[(i, j, k)] = 0\n",
        "\n",
        "    # give card\n",
        "    # giveCard() function is borrowed from BlackJack base code\n",
        "    @staticmethod\n",
        "    def giveCard():\n",
        "        # 1 stands for ace\n",
        "        c_list = list(range(1, 11)) + [10, 10, 10]\n",
        "        return np.random.choice(c_list)\n",
        "\n",
        "    # dealerPolicy() function is borrowed from BlackJack base code\n",
        "    def dealerPolicy(self, current_value, usable_ace, is_end):\n",
        "        if current_value > 21:\n",
        "            if usable_ace:\n",
        "                current_value -= 10\n",
        "                usable_ace = False\n",
        "            else:\n",
        "                return current_value, usable_ace, True\n",
        "        # HIT17\n",
        "        if current_value >= 17:\n",
        "            return current_value, usable_ace, True\n",
        "        else:\n",
        "            card = self.giveCard()\n",
        "            if card == 1:\n",
        "                if current_value <= 10:\n",
        "                    return current_value+11, True, False\n",
        "                return current_value+1, usable_ace, False\n",
        "            else:\n",
        "                return current_value+card, usable_ace, False\n",
        "\n",
        "    # one can only has 1 usable ace\n",
        "    # playerPolicy() function is borrowed from BlackJack base code\n",
        "    def playerPolicy(self, current_value, usable_ace, is_end):\n",
        "        \"\"\"_summary_\n",
        "\n",
        "        Args:\n",
        "            current_value (_type_): _description_\n",
        "            usable_ace (_type_): _description_\n",
        "            is_end (bool): _description_\n",
        "\n",
        "        Returns:\n",
        "            state: return the next state\n",
        "            reward: temporal reward\n",
        "        \"\"\"\n",
        "        if current_value > 21:\n",
        "            if usable_ace:\n",
        "                current_value -= 10\n",
        "                usable_ace = False\n",
        "            else:\n",
        "                return (current_value, usable_ace, True),-1\n",
        "        # HIT20\n",
        "        if current_value >= 20:\n",
        "            return (current_value, usable_ace, True),0\n",
        "        else:\n",
        "            card = self.giveCard()\n",
        "            if card == 1:\n",
        "                if current_value <= 10:\n",
        "                    return (current_value+11, True, False),0\n",
        "                return (current_value+1, usable_ace, False),0\n",
        "            else:\n",
        "                return (current_value+card, usable_ace, False),0\n",
        "\n",
        "\n",
        "    def reset(self):\n",
        "        self.player_state_action = []\n",
        "        self.rewards = []\n",
        "        self.state = (0, 0, False)  # initial state\n",
        "        self.end = False\n",
        "\n",
        "    # modified to implement N-step TD method\n",
        "    def _giveCredit(self,player_value, dealer_value, is_end):\n",
        "        # update state value and win count\n",
        "        if is_end:\n",
        "            # give reward only to last state\n",
        "            last_state = self.player_states[-1]\n",
        "            if player_value > 21:\n",
        "                if dealer_value > 21:\n",
        "                    # draw\n",
        "                    self.player_draw += 1\n",
        "                    self.player_final_rewards.append(0)\n",
        "                else:\n",
        "                    #self.player_state_value[last_state] -= 1\n",
        "                    self.player_final_rewards.append(-1)\n",
        "            else:\n",
        "                if dealer_value > 21:\n",
        "                    #self.player_state_value[last_state] += 1\n",
        "                    self.player_win += 1\n",
        "                    self.player_final_rewards.append(1)\n",
        "                else:\n",
        "                    if player_value < dealer_value:\n",
        "                        #self.player_state_value[last_state] -= 1\n",
        "                        self.player_final_rewards.append(-1)\n",
        "                    elif player_value > dealer_value:\n",
        "                        #self.player_state_value[last_state] += 1\n",
        "                        self.player_win += 1\n",
        "                        self.player_final_rewards.append(1)\n",
        "                    else:\n",
        "                        # draw\n",
        "                        self.player_draw += 1\n",
        "                        self.player_final_rewards.append(0)\n",
        "\n",
        "\n",
        "\n",
        "\n",
        "    def play(self, rounds=1000,n=3,chosen_state=(13,1,True)):\n",
        "        for i in np.arange(rounds):\n",
        "            #self.reset()\n",
        "            #if i % 10000 == 0:\n",
        "            #    print(\"round\", i)\n",
        "            # hit 2 cards each\n",
        "            dealer_value, player_value = 0, 0\n",
        "            show_card = 0\n",
        "\n",
        "            # give dealer 2 cards and show 1\n",
        "            dealer_value += self.giveCard()\n",
        "            show_card = dealer_value\n",
        "            dealer_value += self.giveCard()\n",
        "\n",
        "            # player's turn\n",
        "            # always hit if less than 12\n",
        "            usable_ace, is_end = False, False\n",
        "\n",
        "            lis_states = []\n",
        "            while True:\n",
        "                state,reward = self.playerPolicy(player_value, usable_ace, is_end)\n",
        "                player_value, usable_ace, is_end = state\n",
        "\n",
        "                # when value goes higher than 12, record states\n",
        "                if (player_value >= 12) and (player_value <= 21):\n",
        "                    lis_states.append((player_value, show_card, usable_ace))\n",
        "                    self.rewards.append(reward)\n",
        "\n",
        "                if is_end:\n",
        "                    break\n",
        "            self.player_states.append(lis_states)\n",
        "            # print(\"player card sum\", player_value)\n",
        "\n",
        "            # dealer's turn\n",
        "            usable_ace, is_end = False, False\n",
        "            while not is_end:\n",
        "                dealer_value, usable_ace, is_end = self.dealerPolicy(dealer_value, usable_ace, is_end)\n",
        "            # print(\"dealer card sum\", dealer_value)\n",
        "\n",
        "            # judge winner\n",
        "            # set intermediate state to 0\n",
        "            #for s in self.player_states:\n",
        "            #    self.player_state_value[s] = 0 if self.player_state_value.get(s) is None else self.player_state_value.get(s)\n",
        "\n",
        "            self._giveCredit(player_value,dealer_value,is_end)\n",
        "\n",
        "            #creating list of rewards\n",
        "            rewards_here = list(np.zeros(len(self.player_states[i])-1))+[self.player_final_rewards[i]]\n",
        "            #following code borrowed from my own solution in programming assignment 2\n",
        "            #off policy n_step sarsa algorithm\n",
        "            #help from class txt book, page 144, n step TD method estimating V approximately equivalent to v_pi\n",
        "            t=0\n",
        "            T=len(self.player_states[i])\n",
        "            tau=0-n+1\n",
        "            for t in range(0,T+n-1):\n",
        "                tau=t-n+1\n",
        "                if tau>=0:\n",
        "                    upper = np.min([tau+n,T])\n",
        "                    G=0\n",
        "                    for ind in range(tau+1,upper+1):\n",
        "                        G=G+rewards_here[ind-1]\n",
        "                    if tau + n < T:\n",
        "                        s_tau_n = self.player_states[i][tau + n]\n",
        "                        G += self.player_V_Values[s_tau_n]\n",
        "                    # Update the value for the state at time tau\n",
        "                    state_to_update = self.player_states[i][tau]\n",
        "\n",
        "                    #importance sampling ratio in N_step TD\n",
        "                    rho=1\n",
        "                    for indx in np.arange(tau+1,upper):\n",
        "                        #estimate by random policy, and for our already chosen action, probability is always 1\n",
        "                        rho=rho*2\n",
        "\n",
        "                    # Update value function value V(s_tau)\n",
        "                    cur_val = self.player_V_Values[state_to_update]\n",
        "                    self.player_V_Values[state_to_update]=cur_val+self.lr * rho * (G - cur_val)\n",
        "            self.chosen_state_value.append(self.player_V_Values[chosen_state])\n",
        "\n",
        "\n",
        "\n",
        "\n",
        "\n",
        "\n",
        "\n",
        "\n",
        "\n"
      ]
    },
    {
      "cell_type": "code",
      "source": [
        "state_eval = 0\n",
        "chosen_state_val_lis = []\n",
        "for ind in range(100):\n",
        "    np.random.seed(ind)\n",
        "    print(\" seed: \",ind)\n",
        "    b_N_step_eval = BlackJack_N_step_Sarsa_eval()\n",
        "    b_N_step_eval.play(rounds=10000)\n",
        "    #print(b_N_step_eval.player_V_Values[(13,1,True)])\n",
        "    state_eval +=b_N_step_eval.player_V_Values[(13,1,True)]\n",
        "    chosen_state_val_lis.append(b_N_step_eval.chosen_state_value)\n"
      ],
      "metadata": {
        "colab": {
          "base_uri": "https://localhost:8080/"
        },
        "id": "wZy8gNdE3jvj",
        "outputId": "dec5cc3d-4d29-4682-bb38-1fc2cdbab643"
      },
      "execution_count": 9,
      "outputs": [
        {
          "output_type": "stream",
          "name": "stdout",
          "text": [
            " seed:  0\n",
            " seed:  1\n",
            " seed:  2\n",
            " seed:  3\n",
            " seed:  4\n",
            " seed:  5\n",
            " seed:  6\n",
            " seed:  7\n",
            " seed:  8\n",
            " seed:  9\n",
            " seed:  10\n",
            " seed:  11\n",
            " seed:  12\n",
            " seed:  13\n",
            " seed:  14\n",
            " seed:  15\n",
            " seed:  16\n",
            " seed:  17\n",
            " seed:  18\n",
            " seed:  19\n",
            " seed:  20\n",
            " seed:  21\n",
            " seed:  22\n",
            " seed:  23\n",
            " seed:  24\n",
            " seed:  25\n",
            " seed:  26\n",
            " seed:  27\n",
            " seed:  28\n",
            " seed:  29\n",
            " seed:  30\n",
            " seed:  31\n",
            " seed:  32\n",
            " seed:  33\n",
            " seed:  34\n",
            " seed:  35\n",
            " seed:  36\n",
            " seed:  37\n",
            " seed:  38\n",
            " seed:  39\n",
            " seed:  40\n",
            " seed:  41\n",
            " seed:  42\n",
            " seed:  43\n",
            " seed:  44\n",
            " seed:  45\n",
            " seed:  46\n",
            " seed:  47\n",
            " seed:  48\n",
            " seed:  49\n",
            " seed:  50\n",
            " seed:  51\n",
            " seed:  52\n",
            " seed:  53\n",
            " seed:  54\n",
            " seed:  55\n",
            " seed:  56\n",
            " seed:  57\n",
            " seed:  58\n",
            " seed:  59\n",
            " seed:  60\n",
            " seed:  61\n",
            " seed:  62\n",
            " seed:  63\n",
            " seed:  64\n",
            " seed:  65\n",
            " seed:  66\n",
            " seed:  67\n",
            " seed:  68\n",
            " seed:  69\n",
            " seed:  70\n",
            " seed:  71\n",
            " seed:  72\n",
            " seed:  73\n",
            " seed:  74\n",
            " seed:  75\n",
            " seed:  76\n",
            " seed:  77\n",
            " seed:  78\n",
            " seed:  79\n",
            " seed:  80\n",
            " seed:  81\n",
            " seed:  82\n",
            " seed:  83\n",
            " seed:  84\n",
            " seed:  85\n",
            " seed:  86\n",
            " seed:  87\n",
            " seed:  88\n",
            " seed:  89\n",
            " seed:  90\n",
            " seed:  91\n",
            " seed:  92\n",
            " seed:  93\n",
            " seed:  94\n",
            " seed:  95\n",
            " seed:  96\n",
            " seed:  97\n",
            " seed:  98\n",
            " seed:  99\n"
          ]
        }
      ]
    },
    {
      "cell_type": "markdown",
      "source": [
        "We check our off_policy n-step Sarsa method's performance on estimating state value for state player sum is 13, player has an usable ace and dealer shows an ace."
      ],
      "metadata": {
        "id": "dLf98gqZe9Fg"
      }
    },
    {
      "cell_type": "code",
      "source": [
        "state_eval/100"
      ],
      "metadata": {
        "colab": {
          "base_uri": "https://localhost:8080/"
        },
        "id": "tr50xW8d4Cxe",
        "outputId": "c74e8223-016c-4fc8-91b1-8a8234d7f166"
      },
      "execution_count": 10,
      "outputs": [
        {
          "output_type": "execute_result",
          "data": {
            "text/plain": [
              "0.04848063001942913"
            ]
          },
          "metadata": {},
          "execution_count": 10
        }
      ]
    },
    {
      "cell_type": "code",
      "source": [
        "basline_val"
      ],
      "metadata": {
        "colab": {
          "base_uri": "https://localhost:8080/"
        },
        "id": "M-OukTvEJEqr",
        "outputId": "6dfc2a8c-7e6b-42c4-cf7f-67d4c5d2b9eb"
      },
      "execution_count": 11,
      "outputs": [
        {
          "output_type": "execute_result",
          "data": {
            "text/plain": [
              "-0.19499478623566194"
            ]
          },
          "metadata": {},
          "execution_count": 11
        }
      ]
    },
    {
      "cell_type": "markdown",
      "source": [
        "This is rather far from baseline value for state (13,1,True). We will have a further check of our off_policy n-step Sarsa method's performance on estimating state value for state player sum is 13, player has an usable ace and dealer shows an ace through computing an mean square error of our **off_policy n-step Sarsa** method's estimation of state value for state (13,1,True) throughout the 10000 iterations, and averaged over all 100 runs."
      ],
      "metadata": {
        "id": "pkJGsUn4fLDu"
      }
    },
    {
      "cell_type": "markdown",
      "source": [
        "Computing mean square error averaging our off policy n_step Sarsa method over 100 runs for each of episode."
      ],
      "metadata": {
        "id": "_ul34iEbLgAN"
      }
    },
    {
      "cell_type": "code",
      "source": [
        "MSE_col_n_Step_Sarsa = []\n",
        "\n",
        "for iter in range(0,10000):\n",
        "    MSE = 0\n",
        "    N=0\n",
        "    for j in range(0,100):\n",
        "        N=N+1\n",
        "        mse_cur = (chosen_state_val_lis[j][iter]-basline_val)**2\n",
        "        MSE = MSE+(1/N)*(mse_cur-MSE)\n",
        "    MSE_col_n_Step_Sarsa.append(MSE)"
      ],
      "metadata": {
        "id": "maJmD2mRLx3y"
      },
      "execution_count": 12,
      "outputs": []
    },
    {
      "cell_type": "code",
      "source": [
        "import matplotlib.pyplot as plt"
      ],
      "metadata": {
        "id": "EIEvtK3IN1Bp"
      },
      "execution_count": null,
      "outputs": []
    },
    {
      "cell_type": "code",
      "source": [
        "plt.plot(MSE_col_n_Step_Sarsa)\n",
        "plt.title(\"MSE plot for off policy N step Sarsa method\")\n",
        "plt.ylabel(\"Mean square error, average over 100 runs\")\n",
        "plt.xlabel(\"episodes\")"
      ],
      "metadata": {
        "colab": {
          "base_uri": "https://localhost:8080/",
          "height": 489
        },
        "id": "2ZGBojACNLWs",
        "outputId": "31ead4ff-1367-4e22-c58a-47e7dbab665b"
      },
      "execution_count": 13,
      "outputs": [
        {
          "output_type": "execute_result",
          "data": {
            "text/plain": [
              "Text(0.5, 0, 'episodes')"
            ]
          },
          "metadata": {},
          "execution_count": 13
        },
        {
          "output_type": "display_data",
          "data": {
            "text/plain": [
              "<Figure size 640x480 with 1 Axes>"
            ],
            "image/png": "[encoded data removed]"
          },
          "metadata": {}
        }
      ]
    },
    {
      "cell_type": "code",
      "source": [],
      "metadata": {
        "id": "dY9WFAu7ODru"
      },
      "execution_count": null,
      "outputs": []
    },
    {
      "cell_type": "markdown",
      "source": [
        "It seems that in our off-policy n_step SARSA method, since the $\\rho(t:h)$ for each return G is too large, if there's any error due to randomness in our computating process, this error might be enlarged and propagate. Thus our algorithm fails to converge."
      ],
      "metadata": {
        "id": "oZElWZf7OFAk"
      }
    },
    {
      "cell_type": "markdown",
      "source": [
        "Now we try to figure out a epsilon-greedy policy for playing blackjack by using our n_Step Sarsa control METHOD."
      ],
      "metadata": {
        "id": "0NlL2AxhOmeK"
      }
    },
    {
      "cell_type": "markdown",
      "source": [
        "This is our implemented n_Step off policy Sarsa control algorithm findind an optimal policy playing Blakcjack. Mostly, the class below is borrowed from online article \"Reinforcement Learning — Solving Blackjack\" by Jeremy Zhang.  \n",
        "Except the part that we reare our own list of rewards and the final block of the code in this class \"BlackJack_N_step_Sarsa_eval\" that updates state value by N_step Sarsa method as in page 149 of textbook, \"Off policy n-step Sarsa estimating Q $\\approx$ $q*$\" or $q_\\pi$.  \n"
      ],
      "metadata": {
        "id": "4mwQ0hMWgpj2"
      }
    },
    {
      "cell_type": "code",
      "source": [
        "class BlackJack_n_Step_Sarsa_control(object):\n",
        "    # init function borrowed from website article \"Reinforcement Learning — Solving Blackjack\"\n",
        "    # by Jeremy Zhang in towardsdatascience.com\n",
        "    # initizliation function of blackjack object\n",
        "    def __init__(self,epsilon=0.1):\n",
        "        #self.player_state_value = {}\n",
        "        self.epsilon=epsilon\n",
        "        self.lr = 0.1\n",
        "        self.player_Q_Values={}\n",
        "        self.policy = {} #initialize a epsilon-soft policy\n",
        "        self.player_states = []\n",
        "        self.player_final_rewards=[]\n",
        "        self.player_draw = 0\n",
        "        self.player_win=0\n",
        "\n",
        "\n",
        "        # initialise V values | (12-21) x (1-10) x (True, False) x (1,0) 400 in total\n",
        "\n",
        "        for i in range(12, 22):\n",
        "            for j in range(1, 11):\n",
        "                for k in [True, False]:\n",
        "                    self.player_Q_Values[(i, j, k)] = {}\n",
        "                    self.player_Q_Values[(i,j,k)][1]=0\n",
        "                    self.player_Q_Values[(i,j,k)][0]=0\n",
        "                    self.policy[(i,j,k)]=[0.5,0.5]\n",
        "    # give card\n",
        "    # give card function borrowed from website article \"Reinforcement Learning — Solving Blackjack\"\n",
        "    # by Jeremy Zhang in towardsdatascience.com\n",
        "    @staticmethod\n",
        "    def giveCard():\n",
        "        # 1 stands for ace\n",
        "        c_list = list(range(1, 11)) + [10, 10, 10]\n",
        "        return np.random.choice(c_list)\n",
        "    # dealer policy and player policy function borrowed from website article\n",
        "    # \"Reinforcement Learning — Solving Blackjack\"\n",
        "    # by Jeremy Zhang in towardsdatascience.com\n",
        "    def dealerPolicy(self, current_value, usable_ace, is_end):\n",
        "        if current_value > 21:\n",
        "            if usable_ace:\n",
        "                current_value -= 10\n",
        "                usable_ace = False\n",
        "            else:\n",
        "                return current_value, usable_ace, True\n",
        "        # HIT17\n",
        "        if current_value >= 17:\n",
        "            return current_value, usable_ace, True\n",
        "        else:\n",
        "            card = self.giveCard()\n",
        "            if card == 1:\n",
        "                if current_value <= 10:\n",
        "                    return current_value+11, True, False\n",
        "                return current_value+1, usable_ace, False\n",
        "            else:\n",
        "                return current_value+card, usable_ace, False\n",
        "\n",
        "    # one can only has 1 usable ace\n",
        "    def playerPolicy(self, current_value, show_card, usable_ace, is_end):\n",
        "        if current_value > 21:\n",
        "            if usable_ace:\n",
        "                current_value -= 10\n",
        "                usable_ace = False\n",
        "            else:\n",
        "                return current_value, usable_ace, None, True\n",
        "\n",
        "        #always hit when total sum smaller than 12\n",
        "        if current_value < 12:\n",
        "            card = self.giveCard()\n",
        "            if card == 1:\n",
        "                if current_value <= 10:\n",
        "                    return current_value+11, True, 1, False\n",
        "                return current_value+1, usable_ace, 1, False\n",
        "            else:\n",
        "                return current_value+card, usable_ace, 1, False\n",
        "        # epsilon-soft policy here performed\n",
        "        action = np.random.choice([0,1],p=self.policy[(current_value,show_card,usable_ace)])\n",
        "        if action==0:\n",
        "            return current_value, usable_ace, 0, True\n",
        "        else:\n",
        "            card = self.giveCard()\n",
        "            if card == 1:\n",
        "                if current_value <= 10:\n",
        "                    return current_value+11, True, 1, False\n",
        "                return current_value+1, usable_ace, 1, False\n",
        "            else:\n",
        "                return current_value+card, usable_ace, 1, False\n",
        "\n",
        "\n",
        "    # give credit function borrowed from website article\n",
        "    # \"Reinforcement Learning — Solving Blackjack\"\n",
        "    # by Jeremy Zhang in towardsdatascience.com\n",
        "    def _giveCredit(self, player_value, dealer_value, cur_traj, is_end=True):\n",
        "        if is_end:\n",
        "            if player_value > 21:\n",
        "                if dealer_value > 21:\n",
        "                    # draw\n",
        "                    self.player_draw += 1\n",
        "                    self.player_final_rewards.append(0)\n",
        "                else:\n",
        "                    self.player_final_rewards.append(-1)\n",
        "            else:\n",
        "                if dealer_value > 21:\n",
        "                    self.player_final_rewards.append(1)\n",
        "                    self.player_win += 1\n",
        "                else:\n",
        "                    if player_value < dealer_value:\n",
        "                        self.player_final_rewards.append(-1)\n",
        "                    elif player_value > dealer_value:\n",
        "                        self.player_final_rewards.append(1)\n",
        "                        self.player_win += 1\n",
        "                    else:\n",
        "                        # draw\n",
        "                        self.player_draw += 1\n",
        "                        self.player_final_rewards.append(0)\n",
        "    def play(self, rounds=1000,n=3):\n",
        "        for i in range(rounds):\n",
        "            if i % 10000 == 0:\n",
        "                print(\"round\", i)\n",
        "\n",
        "\n",
        "\n",
        "\n",
        "            # hit 2 cards each\n",
        "            dealer_value, player_value = 0, 0\n",
        "            show_card = 0\n",
        "\n",
        "            # give dealer 2 cards and show 1\n",
        "            dealer_value += self.giveCard()\n",
        "            show_card = dealer_value\n",
        "            dealer_value += self.giveCard()\n",
        "\n",
        "            #list of states for players\n",
        "            lis_player_states = []\n",
        "\n",
        "            #col of actions\n",
        "            col_actions = {}\n",
        "            # player's turn\n",
        "            # always hit if less than 12\n",
        "            usable_ace, is_end = False, False\n",
        "            while True:\n",
        "\n",
        "                player_value, usable_ace, action, is_end = self.playerPolicy(player_value, show_card, usable_ace, is_end)\n",
        "                col_actions[(player_value, show_card, usable_ace)]=action\n",
        "\n",
        "                # when value goes higher than 12, record states\n",
        "                if (player_value >= 12) and (player_value <= 21):\n",
        "                    lis_player_states.append((player_value, show_card, usable_ace))\n",
        "\n",
        "                    #self.player_state_count[(player_value, show_card, usable_ace)]+=1\n",
        "\n",
        "                if is_end:\n",
        "                    break\n",
        "\n",
        "            self.player_states.append(lis_player_states)\n",
        "            # print(\"player card sum\", player_value)\n",
        "\n",
        "            # dealer's turn\n",
        "            usable_ace, is_end = False, False\n",
        "            while not is_end:\n",
        "                dealer_value, usable_ace, is_end = self.dealerPolicy(dealer_value, usable_ace, is_end)\n",
        "\n",
        "            # judge winner\n",
        "            # set intermediate state to 0\n",
        "            #for s in self.player_states:\n",
        "            #    self.player_state_value[s] = 0 if self.player_state_value.get(s) is None else self.player_state_value.get(s)\n",
        "\n",
        "            self._giveCredit(player_value, dealer_value,self.player_states[-1])\n",
        "\n",
        "            #creating list of rewards\n",
        "            rewards_here = list(np.zeros(len(self.player_states[i])-1))+[self.player_final_rewards[i]]\n",
        "\n",
        "            #following code borrowed from my own solution in programming assignment 2\n",
        "            #off policy n_step sarsa algorithm\n",
        "            #help from class txt book, page 144, n step TD method estimating V approximately equivalent to v_pi\n",
        "            t=0\n",
        "            T=len(self.player_states[i])\n",
        "            tau=0-n+1\n",
        "            for t in range(0,T+n-1):\n",
        "                tau=t-n+1\n",
        "                if tau>=0:\n",
        "                    upper = np.min([tau+n,T])\n",
        "                    G=0\n",
        "                    for ind in range(tau+1,upper+1):\n",
        "                        G=G+rewards_here[ind-1]\n",
        "                    if tau + n < T:\n",
        "                        s_tau_n = self.player_states[i][tau + n]\n",
        "                        a_tau_n = col_actions[s_tau_n]\n",
        "                        G += self.player_Q_Values[s_tau_n][a_tau_n]\n",
        "                    # Update the value for the state at time tau\n",
        "                    s_tau = self.player_states[i][tau]\n",
        "                    a_tau= col_actions[s_tau]\n",
        "\n",
        "\n",
        "                    #importance sampling ratio in N_step TD\n",
        "                    rho=1\n",
        "                    for indx in np.arange(tau+1,upper):\n",
        "                        #estimate by random policy, and for our already chosen action, probability is always 1\n",
        "                        s_here=self.player_states[i][indx]\n",
        "                        a_here=col_actions[s_here]\n",
        "                        ratio = self.policy[s_here][a_here] / 0.5\n",
        "                        rho=rho*ratio\n",
        "\n",
        "                    # Update value function value V(s_tau)\n",
        "                    cur_val = self.player_Q_Values[s_tau][a_tau]\n",
        "                    self.player_Q_Values[s_tau][a_tau]=cur_val+self.lr * rho * (G - cur_val)\n",
        "                    a_star = np.argmax([self.player_Q_Values[s_tau][0],self.player_Q_Values[s_tau][1]])\n",
        "\n",
        "                    for a in range(2):\n",
        "                        if a==a_star:\n",
        "                            self.policy[s_tau][a]=1-self.epsilon+self.epsilon/2\n",
        "                        else:\n",
        "                            self.policy[s_tau][a]=self.epsilon/2\n",
        "\n",
        "\n",
        "\n"
      ],
      "metadata": {
        "id": "z00qTiOxOkmA"
      },
      "execution_count": 14,
      "outputs": []
    },
    {
      "cell_type": "markdown",
      "source": [
        "We develop an averaged policy for playing Blakcjack through using 5 seeds, and averaging the policy probabilities generated by the 5 seeds, 300 to 304."
      ],
      "metadata": {
        "id": "QuaR8S0ygLD6"
      }
    },
    {
      "cell_type": "code",
      "source": [
        "policies = []\n",
        "for i in range(300,305):\n",
        "    np.random.seed(i)\n",
        "    b_N_step_Sarsa_control = BlackJack_n_Step_Sarsa_control()\n",
        "    b_N_step_Sarsa_control.play(rounds=10000)\n",
        "    policies.append(b_N_step_Sarsa_control.policy)"
      ],
      "metadata": {
        "colab": {
          "base_uri": "https://localhost:8080/"
        },
        "id": "KupNOQOISFWg",
        "outputId": "58939ed6-7352-46a0-cda3-0a60c9a8218b"
      },
      "execution_count": 15,
      "outputs": [
        {
          "output_type": "stream",
          "name": "stdout",
          "text": [
            "round 0\n",
            "round 0\n",
            "round 0\n",
            "round 0\n",
            "round 0\n"
          ]
        }
      ]
    },
    {
      "cell_type": "code",
      "source": [
        "final_policy_n_step_Sarsa = {}\n",
        "for i in range(12, 22):\n",
        "    for j in range(1, 11):\n",
        "        for k in [True, False]:\n",
        "            final_policy_n_step_Sarsa[(i,j,k)]=[0,0]\n",
        "N=0\n",
        "for ind in range(0,5):\n",
        "    N=N+1\n",
        "    for i in range(12, 22):\n",
        "        for j in range(1, 11):\n",
        "            for k in [True, False]:\n",
        "                update_prob=policies[ind][(i,j,k)]\n",
        "                cur_prob=final_policy_n_step_Sarsa[(i,j,k)]\n",
        "\n",
        "                final_policy_n_step_Sarsa[(i,j,k)][0]=cur_prob[0]+(1/N)*(update_prob[0]-cur_prob[0])\n",
        "                final_policy_n_step_Sarsa[(i,j,k)][1]=cur_prob[1]+(1/N)*(update_prob[1]-cur_prob[1])"
      ],
      "metadata": {
        "id": "_l-b2hB_TygD"
      },
      "execution_count": 16,
      "outputs": []
    },
    {
      "cell_type": "code",
      "source": [],
      "metadata": {
        "id": "bKNZ3_5y7QP3"
      },
      "execution_count": null,
      "outputs": []
    },
    {
      "cell_type": "code",
      "source": [
        "final_policy_n_step_Sarsa"
      ],
      "metadata": {
        "colab": {
          "base_uri": "https://localhost:8080/"
        },
        "id": "OZx7XEwfU6rq",
        "outputId": "9e0a36ee-459d-4265-efee-05c8810813b3"
      },
      "execution_count": 17,
      "outputs": [
        {
          "output_type": "execute_result",
          "data": {
            "text/plain": [
              "{(12, 1, True): [0.23, 0.7700000000000001],\n",
              " (12, 1, False): [0.05, 0.9500000000000001],\n",
              " (12, 2, True): [0.41, 0.5900000000000001],\n",
              " (12, 2, False): [0.22999999999999998, 0.7700000000000001],\n",
              " (12, 3, True): [0.23, 0.7700000000000001],\n",
              " (12, 3, False): [0.05, 0.9500000000000001],\n",
              " (12, 4, True): [0.41, 0.5900000000000001],\n",
              " (12, 4, False): [0.41, 0.5900000000000001],\n",
              " (12, 5, True): [0.41, 0.5900000000000001],\n",
              " (12, 5, False): [0.22999999999999998, 0.7700000000000001],\n",
              " (12, 6, True): [0.7700000000000001, 0.22999999999999998],\n",
              " (12, 6, False): [0.41, 0.5900000000000001],\n",
              " (12, 7, True): [0.23000000000000004, 0.77],\n",
              " (12, 7, False): [0.05, 0.9500000000000001],\n",
              " (12, 8, True): [0.41, 0.5900000000000001],\n",
              " (12, 8, False): [0.05, 0.9500000000000001],\n",
              " (12, 9, True): [0.41, 0.5900000000000001],\n",
              " (12, 9, False): [0.05, 0.9500000000000001],\n",
              " (12, 10, True): [0.22999999999999998, 0.7700000000000001],\n",
              " (12, 10, False): [0.05, 0.9500000000000001],\n",
              " (13, 1, True): [0.23, 0.7700000000000001],\n",
              " (13, 1, False): [0.05, 0.9500000000000001],\n",
              " (13, 2, True): [0.22999999999999998, 0.7700000000000001],\n",
              " (13, 2, False): [0.23, 0.7700000000000001],\n",
              " (13, 3, True): [0.41, 0.5900000000000001],\n",
              " (13, 3, False): [0.05, 0.9500000000000001],\n",
              " (13, 4, True): [0.22999999999999998, 0.7700000000000001],\n",
              " (13, 4, False): [0.05, 0.9500000000000001],\n",
              " (13, 5, True): [0.22999999999999998, 0.7700000000000001],\n",
              " (13, 5, False): [0.41, 0.5900000000000001],\n",
              " (13, 6, True): [0.41, 0.5900000000000001],\n",
              " (13, 6, False): [0.23000000000000004, 0.77],\n",
              " (13, 7, True): [0.05, 0.9500000000000001],\n",
              " (13, 7, False): [0.05, 0.9500000000000001],\n",
              " (13, 8, True): [0.05, 0.9500000000000001],\n",
              " (13, 8, False): [0.05, 0.9500000000000001],\n",
              " (13, 9, True): [0.22999999999999998, 0.7700000000000001],\n",
              " (13, 9, False): [0.05, 0.9500000000000001],\n",
              " (13, 10, True): [0.05, 0.9500000000000001],\n",
              " (13, 10, False): [0.05, 0.9500000000000001],\n",
              " (14, 1, True): [0.23, 0.7700000000000001],\n",
              " (14, 1, False): [0.05, 0.9500000000000001],\n",
              " (14, 2, True): [0.23000000000000004, 0.77],\n",
              " (14, 2, False): [0.41, 0.5900000000000001],\n",
              " (14, 3, True): [0.22999999999999998, 0.7700000000000001],\n",
              " (14, 3, False): [0.41000000000000003, 0.5900000000000001],\n",
              " (14, 4, True): [0.5900000000000001, 0.41],\n",
              " (14, 4, False): [0.05, 0.9500000000000001],\n",
              " (14, 5, True): [0.05, 0.9500000000000001],\n",
              " (14, 5, False): [0.23, 0.7700000000000001],\n",
              " (14, 6, True): [0.5900000000000001, 0.41],\n",
              " (14, 6, False): [0.5900000000000001, 0.41],\n",
              " (14, 7, True): [0.22999999999999998, 0.7700000000000001],\n",
              " (14, 7, False): [0.05, 0.9500000000000001],\n",
              " (14, 8, True): [0.05, 0.9500000000000001],\n",
              " (14, 8, False): [0.05, 0.9500000000000001],\n",
              " (14, 9, True): [0.23, 0.7700000000000001],\n",
              " (14, 9, False): [0.23000000000000004, 0.77],\n",
              " (14, 10, True): [0.05, 0.9500000000000001],\n",
              " (14, 10, False): [0.05, 0.9500000000000001],\n",
              " (15, 1, True): [0.05, 0.9500000000000001],\n",
              " (15, 1, False): [0.05, 0.9500000000000001],\n",
              " (15, 2, True): [0.41, 0.5900000000000001],\n",
              " (15, 2, False): [0.05, 0.9500000000000001],\n",
              " (15, 3, True): [0.23000000000000004, 0.77],\n",
              " (15, 3, False): [0.22999999999999998, 0.7700000000000001],\n",
              " (15, 4, True): [0.05, 0.9500000000000001],\n",
              " (15, 4, False): [0.22999999999999998, 0.7700000000000001],\n",
              " (15, 5, True): [0.22999999999999998, 0.7700000000000001],\n",
              " (15, 5, False): [0.41, 0.5900000000000001],\n",
              " (15, 6, True): [0.41, 0.5900000000000001],\n",
              " (15, 6, False): [0.22999999999999998, 0.7700000000000001],\n",
              " (15, 7, True): [0.22999999999999998, 0.7700000000000001],\n",
              " (15, 7, False): [0.05, 0.9500000000000001],\n",
              " (15, 8, True): [0.05, 0.9500000000000001],\n",
              " (15, 8, False): [0.05, 0.9500000000000001],\n",
              " (15, 9, True): [0.22999999999999998, 0.7700000000000001],\n",
              " (15, 9, False): [0.05, 0.9500000000000001],\n",
              " (15, 10, True): [0.22999999999999998, 0.7700000000000001],\n",
              " (15, 10, False): [0.05, 0.9500000000000001],\n",
              " (16, 1, True): [0.23, 0.7700000000000001],\n",
              " (16, 1, False): [0.05, 0.9500000000000001],\n",
              " (16, 2, True): [0.05, 0.9500000000000001],\n",
              " (16, 2, False): [0.05, 0.9500000000000001],\n",
              " (16, 3, True): [0.41000000000000003, 0.5900000000000001],\n",
              " (16, 3, False): [0.23, 0.7700000000000001],\n",
              " (16, 4, True): [0.5900000000000001, 0.41],\n",
              " (16, 4, False): [0.41, 0.5900000000000001],\n",
              " (16, 5, True): [0.5900000000000001, 0.41],\n",
              " (16, 5, False): [0.41, 0.5900000000000001],\n",
              " (16, 6, True): [0.05, 0.9500000000000001],\n",
              " (16, 6, False): [0.22999999999999998, 0.7700000000000001],\n",
              " (16, 7, True): [0.22999999999999998, 0.7700000000000001],\n",
              " (16, 7, False): [0.05, 0.9500000000000001],\n",
              " (16, 8, True): [0.05, 0.9500000000000001],\n",
              " (16, 8, False): [0.23000000000000004, 0.77],\n",
              " (16, 9, True): [0.23000000000000004, 0.77],\n",
              " (16, 9, False): [0.05, 0.9500000000000001],\n",
              " (16, 10, True): [0.05, 0.9500000000000001],\n",
              " (16, 10, False): [0.05, 0.9500000000000001],\n",
              " (17, 1, True): [0.05, 0.9500000000000001],\n",
              " (17, 1, False): [0.05, 0.9500000000000001],\n",
              " (17, 2, True): [0.41, 0.5900000000000001],\n",
              " (17, 2, False): [0.22999999999999998, 0.7700000000000001],\n",
              " (17, 3, True): [0.23000000000000004, 0.77],\n",
              " (17, 3, False): [0.5900000000000001, 0.41],\n",
              " (17, 4, True): [0.05, 0.9500000000000001],\n",
              " (17, 4, False): [0.41, 0.5900000000000001],\n",
              " (17, 5, True): [0.23, 0.7700000000000001],\n",
              " (17, 5, False): [0.5900000000000001, 0.41000000000000003],\n",
              " (17, 6, True): [0.05, 0.9500000000000001],\n",
              " (17, 6, False): [0.05, 0.9500000000000001],\n",
              " (17, 7, True): [0.23000000000000004, 0.77],\n",
              " (17, 7, False): [0.05, 0.9500000000000001],\n",
              " (17, 8, True): [0.05, 0.9500000000000001],\n",
              " (17, 8, False): [0.22999999999999998, 0.7700000000000001],\n",
              " (17, 9, True): [0.05, 0.9500000000000001],\n",
              " (17, 9, False): [0.22999999999999998, 0.7700000000000001],\n",
              " (17, 10, True): [0.05, 0.9500000000000001],\n",
              " (17, 10, False): [0.05, 0.9500000000000001],\n",
              " (18, 1, True): [0.22999999999999998, 0.7700000000000001],\n",
              " (18, 1, False): [0.22999999999999998, 0.7700000000000001],\n",
              " (18, 2, True): [0.41, 0.5900000000000001],\n",
              " (18, 2, False): [0.5900000000000001, 0.41],\n",
              " (18, 3, True): [0.41000000000000003, 0.5900000000000001],\n",
              " (18, 3, False): [0.7700000000000001, 0.22999999999999998],\n",
              " (18, 4, True): [0.22999999999999998, 0.7700000000000001],\n",
              " (18, 4, False): [0.41000000000000003, 0.5900000000000001],\n",
              " (18, 5, True): [0.22999999999999998, 0.7700000000000001],\n",
              " (18, 5, False): [0.22999999999999998, 0.7700000000000001],\n",
              " (18, 6, True): [0.22999999999999998, 0.7700000000000001],\n",
              " (18, 6, False): [0.7700000000000001, 0.22999999999999998],\n",
              " (18, 7, True): [0.9500000000000001, 0.05],\n",
              " (18, 7, False): [0.7700000000000001, 0.22999999999999998],\n",
              " (18, 8, True): [0.5900000000000001, 0.41],\n",
              " (18, 8, False): [0.7700000000000001, 0.22999999999999998],\n",
              " (18, 9, True): [0.05, 0.9500000000000001],\n",
              " (18, 9, False): [0.23000000000000004, 0.77],\n",
              " (18, 10, True): [0.41, 0.5900000000000001],\n",
              " (18, 10, False): [0.05, 0.9500000000000001],\n",
              " (19, 1, True): [0.41, 0.5900000000000001],\n",
              " (19, 1, False): [0.9500000000000001, 0.05],\n",
              " (19, 2, True): [0.5900000000000001, 0.41],\n",
              " (19, 2, False): [0.7700000000000001, 0.22999999999999998],\n",
              " (19, 3, True): [0.41, 0.5900000000000001],\n",
              " (19, 3, False): [0.5900000000000001, 0.41],\n",
              " (19, 4, True): [0.41, 0.5900000000000001],\n",
              " (19, 4, False): [0.5900000000000001, 0.41],\n",
              " (19, 5, True): [0.41000000000000003, 0.5900000000000001],\n",
              " (19, 5, False): [0.7700000000000001, 0.22999999999999998],\n",
              " (19, 6, True): [0.5900000000000001, 0.41],\n",
              " (19, 6, False): [0.7700000000000001, 0.22999999999999998],\n",
              " (19, 7, True): [0.5900000000000001, 0.41],\n",
              " (19, 7, False): [0.9500000000000001, 0.05],\n",
              " (19, 8, True): [0.5900000000000001, 0.41],\n",
              " (19, 8, False): [0.7700000000000001, 0.23],\n",
              " (19, 9, True): [0.77, 0.23000000000000004],\n",
              " (19, 9, False): [0.9500000000000001, 0.05],\n",
              " (19, 10, True): [0.05, 0.9500000000000001],\n",
              " (19, 10, False): [0.41, 0.5900000000000001],\n",
              " (20, 1, True): [0.7700000000000001, 0.22999999999999998],\n",
              " (20, 1, False): [0.9500000000000001, 0.05],\n",
              " (20, 2, True): [0.5900000000000001, 0.41],\n",
              " (20, 2, False): [0.9500000000000001, 0.05],\n",
              " (20, 3, True): [0.9500000000000001, 0.05],\n",
              " (20, 3, False): [0.9500000000000001, 0.05],\n",
              " (20, 4, True): [0.9500000000000001, 0.05],\n",
              " (20, 4, False): [0.9500000000000001, 0.05],\n",
              " (20, 5, True): [0.5900000000000001, 0.41],\n",
              " (20, 5, False): [0.9500000000000001, 0.05],\n",
              " (20, 6, True): [0.7700000000000001, 0.22999999999999998],\n",
              " (20, 6, False): [0.9500000000000001, 0.05],\n",
              " (20, 7, True): [0.5900000000000001, 0.41],\n",
              " (20, 7, False): [0.9500000000000001, 0.05],\n",
              " (20, 8, True): [0.7700000000000001, 0.22999999999999998],\n",
              " (20, 8, False): [0.9500000000000001, 0.05],\n",
              " (20, 9, True): [0.7700000000000001, 0.22999999999999998],\n",
              " (20, 9, False): [0.9500000000000001, 0.05],\n",
              " (20, 10, True): [0.5900000000000001, 0.41],\n",
              " (20, 10, False): [0.9500000000000001, 0.05],\n",
              " (21, 1, True): [0.9500000000000001, 0.05],\n",
              " (21, 1, False): [0.9500000000000001, 0.05],\n",
              " (21, 2, True): [0.7700000000000001, 0.22999999999999998],\n",
              " (21, 2, False): [0.9500000000000001, 0.05],\n",
              " (21, 3, True): [0.9500000000000001, 0.05],\n",
              " (21, 3, False): [0.9500000000000001, 0.05],\n",
              " (21, 4, True): [0.9500000000000001, 0.05],\n",
              " (21, 4, False): [0.9500000000000001, 0.05],\n",
              " (21, 5, True): [0.9500000000000001, 0.05],\n",
              " (21, 5, False): [0.9500000000000001, 0.05],\n",
              " (21, 6, True): [0.9500000000000001, 0.05],\n",
              " (21, 6, False): [0.9500000000000001, 0.05],\n",
              " (21, 7, True): [0.7700000000000001, 0.22999999999999998],\n",
              " (21, 7, False): [0.9500000000000001, 0.05],\n",
              " (21, 8, True): [0.9500000000000001, 0.05],\n",
              " (21, 8, False): [0.9500000000000001, 0.05],\n",
              " (21, 9, True): [0.9500000000000001, 0.05],\n",
              " (21, 9, False): [0.9500000000000001, 0.05],\n",
              " (21, 10, True): [0.9500000000000001, 0.05],\n",
              " (21, 10, False): [0.9500000000000001, 0.05]}"
            ]
          },
          "metadata": {},
          "execution_count": 17
        }
      ]
    },
    {
      "cell_type": "markdown",
      "source": [
        "We defined the corresponding blackjack running process with our final policy as follow"
      ],
      "metadata": {
        "id": "VztfrkltVOyi"
      }
    },
    {
      "cell_type": "markdown",
      "source": [
        "This is our implemented n_Step off policy Sarsa rerun algorithm testing if our generated optimal policy beats the dealer or has some improvement over our original run. Mostly, the class below is borrowed from online article \"Reinforcement Learning — Solving Blackjack\" by Jeremy Zhang.  \n",
        "Except the part that we reare our own list of rewards and the final block of the code in this class \"BlackJack_N_step_Sarsa_eval\" that updates state value by N_step Sarsa method as in page 149 of textbook, \"Off policy n-step Sarsa estimating Q $\\approx$ $q*$\" or $q_\\pi$.  \n"
      ],
      "metadata": {
        "id": "alQUib6xhA7V"
      }
    },
    {
      "cell_type": "code",
      "source": [
        "class BlackJack_estimate_rerun(object):\n",
        "\n",
        "    def __init__(self,policy_prob):\n",
        "        #self.player_state_value = {}\n",
        "        self.player_states = []\n",
        "        self.player_win = 0\n",
        "        self.player_draw = 0\n",
        "        self.player_lose=0\n",
        "        self.policy_prob=policy_prob\n",
        "\n",
        "        # initialise V values | (12-21) x (1-10) x (True, False) 200 in total\n",
        "\n",
        "\n",
        "\n",
        "    # give card\n",
        "    # giveCard() function is borrowed from BlackJack base code\n",
        "    @staticmethod\n",
        "    def giveCard():\n",
        "        # 1 stands for ace\n",
        "        c_list = list(range(1, 11)) + [10, 10, 10]\n",
        "        return np.random.choice(c_list)\n",
        "\n",
        "    # dealerPolicy() function is borrowed from BlackJack base code\n",
        "    def dealerPolicy(self, current_value, usable_ace, is_end):\n",
        "        if current_value > 21:\n",
        "            if usable_ace:\n",
        "                current_value -= 10\n",
        "                usable_ace = False\n",
        "            else:\n",
        "                return current_value, usable_ace, True\n",
        "        # HIT17\n",
        "        if current_value >= 17:\n",
        "            return current_value, usable_ace, True\n",
        "        else:\n",
        "            card = self.giveCard()\n",
        "            if card == 1:\n",
        "                if current_value <= 10:\n",
        "                    return current_value+11, True, False\n",
        "                return current_value+1, usable_ace, False\n",
        "            else:\n",
        "                return current_value+card, usable_ace, False\n",
        "\n",
        "    # one can only has 1 usable ace\n",
        "    # playerPolicy() function is borrowed from BlackJack base code\n",
        "    # one can only has 1 usable ace\n",
        "    def playerPolicy(self, current_value, show_card, usable_ace, is_end):\n",
        "        if current_value > 21:\n",
        "            if usable_ace:\n",
        "                current_value -= 10\n",
        "                usable_ace = False\n",
        "            else:\n",
        "                return current_value, usable_ace, True\n",
        "\n",
        "        #always hit when total sum smaller than 12\n",
        "        if current_value < 12:\n",
        "            card = self.giveCard()\n",
        "            if card == 1:\n",
        "                if current_value <= 10:\n",
        "                    return current_value+11, True, False\n",
        "                return current_value+1, usable_ace, False\n",
        "            else:\n",
        "                return current_value+card, usable_ace, False\n",
        "        # epsilon-soft policy here performed\n",
        "        action = np.random.choice([0,1],p=self.policy_prob[(current_value,show_card,usable_ace)])\n",
        "        if action==0:\n",
        "            return current_value, usable_ace, True\n",
        "        else:\n",
        "            card = self.giveCard()\n",
        "            if card == 1:\n",
        "                if current_value <= 10:\n",
        "                    return current_value+11, True, False\n",
        "                return current_value+1, usable_ace, False\n",
        "            else:\n",
        "                return current_value+card, usable_ace, False\n",
        "\n",
        "\n",
        "    def reset(self):\n",
        "        self.player_state_action = []\n",
        "        self.rewards = []\n",
        "        self.state = (0, 0, False)  # initial state\n",
        "        self.end = False\n",
        "\n",
        "    # modified to implement N-step TD method\n",
        "    def _giveCredit(self,player_value, dealer_value, is_end):\n",
        "        # update state value and win count\n",
        "        if is_end:\n",
        "            # give reward only to last state\n",
        "            last_state = self.player_states[-1]\n",
        "            if player_value > 21:\n",
        "                if dealer_value > 21:\n",
        "                    # draw\n",
        "                    self.player_draw += 1\n",
        "                else:\n",
        "                    self.player_lose +=1\n",
        "\n",
        "            else:\n",
        "                if dealer_value > 21:\n",
        "                    self.player_win += 1\n",
        "\n",
        "                else:\n",
        "                    if player_value < dealer_value:\n",
        "                        self.player_lose+=1\n",
        "                    elif player_value > dealer_value:\n",
        "                        self.player_win += 1\n",
        "                    else:\n",
        "                        # draw\n",
        "                        self.player_draw += 1\n",
        "\n",
        "\n",
        "\n",
        "\n",
        "    def play(self, rounds=1000):\n",
        "        for i in np.arange(rounds):\n",
        "            #self.reset()\n",
        "            #if i % 10000 == 0:\n",
        "            #    print(\"round\", i)\n",
        "            # hit 2 cards each\n",
        "            dealer_value, player_value = 0, 0\n",
        "            show_card = 0\n",
        "\n",
        "            # give dealer 2 cards and show 1\n",
        "            dealer_value += self.giveCard()\n",
        "            show_card = dealer_value\n",
        "            dealer_value += self.giveCard()\n",
        "\n",
        "            # player's turn\n",
        "            # always hit if less than 12\n",
        "            usable_ace, is_end = False, False\n",
        "\n",
        "            lis_states = []\n",
        "            while True:\n",
        "                player_value, usable_ace, is_end = self.playerPolicy(player_value, show_card, usable_ace, is_end)\n",
        "\n",
        "                # when value goes higher than 12, record states\n",
        "                if (player_value >= 12) and (player_value <= 21):\n",
        "                    lis_states.append((player_value, show_card, usable_ace))\n",
        "\n",
        "                if is_end:\n",
        "                    break\n",
        "            self.player_states.append(lis_states)\n",
        "            # print(\"player card sum\", player_value)\n",
        "\n",
        "            # dealer's turn\n",
        "            usable_ace, is_end = False, False\n",
        "            while not is_end:\n",
        "                dealer_value, usable_ace, is_end = self.dealerPolicy(dealer_value, usable_ace, is_end)\n",
        "            # print(\"dealer card sum\", dealer_value)\n",
        "\n",
        "            # judge winner\n",
        "\n",
        "            self._giveCredit(player_value,dealer_value,is_end)\n",
        "\n",
        "\n",
        "\n",
        "\n",
        "\n",
        "\n",
        "\n",
        "\n",
        "\n",
        "\n",
        "\n",
        "\n"
      ],
      "metadata": {
        "id": "GUiCky1pVSfw"
      },
      "execution_count": 18,
      "outputs": []
    },
    {
      "cell_type": "code",
      "source": [
        "np.random.seed(500)\n",
        "n_Step_Sarsa_rerun=BlackJack_estimate_rerun(policy_prob=final_policy_n_step_Sarsa)\n",
        "n_Step_Sarsa_rerun.play(10000)"
      ],
      "metadata": {
        "id": "PDlVZ4bhXpkN"
      },
      "execution_count": 95,
      "outputs": []
    },
    {
      "cell_type": "markdown",
      "source": [
        "Now we finally check our winning rate based on policies chosen by off policy N_Step Sarsa method"
      ],
      "metadata": {
        "id": "oZLu-9OPXuYn"
      }
    },
    {
      "cell_type": "code",
      "source": [
        "n_Step_Sarsa_rerun.player_win,n_Step_Sarsa_rerun.player_draw,n_Step_Sarsa_rerun.player_lose"
      ],
      "metadata": {
        "colab": {
          "base_uri": "https://localhost:8080/"
        },
        "id": "tCEEgQ4TZFB8",
        "outputId": "391f3d64-660f-401a-85f9-c7e6f0695395"
      },
      "execution_count": 96,
      "outputs": [
        {
          "output_type": "execute_result",
          "data": {
            "text/plain": [
              "(3737, 1966, 4297)"
            ]
          },
          "metadata": {},
          "execution_count": 96
        }
      ]
    },
    {
      "cell_type": "code",
      "source": [
        "print(\"n Step Sarsa winning rate:\",n_Step_Sarsa_rerun.player_win/10000)"
      ],
      "metadata": {
        "colab": {
          "base_uri": "https://localhost:8080/"
        },
        "id": "raufSqAXXtrH",
        "outputId": "6205b4fa-8313-44be-fb49-e68fb268b02a"
      },
      "execution_count": 97,
      "outputs": [
        {
          "output_type": "stream",
          "name": "stdout",
          "text": [
            "n Step Sarsa winning rate: 0.3737\n"
          ]
        }
      ]
    },
    {
      "cell_type": "markdown",
      "source": [
        "Unfortunately we did not beat the dealer, however, we managed to have an improved winning rate from the original 1000000 runs with our fit policy.  \n",
        "The improvement is from 30.6% to 37.4%."
      ],
      "metadata": {
        "id": "iT3qPSgrhbFL"
      }
    },
    {
      "cell_type": "code",
      "source": [],
      "metadata": {
        "id": "VcQm9CEPhYiF"
      },
      "execution_count": null,
      "outputs": []
    },
    {
      "cell_type": "markdown",
      "source": [
        "## Section: n_Step TD"
      ],
      "metadata": {
        "id": "bPuk1huI0WIh"
      }
    },
    {
      "cell_type": "markdown",
      "source": [
        "This is our implemented n_Step TD evaluation algorithm. Mostly, the class below is borrowed from online article \"Reinforcement Learning — Solving Blackjack\" by Jeremy Zhang.\n",
        "Except the part that we reare our own list of rewards and the final block of the code in this class \"BlackJack_N_step_TD_eval\" that updates state value by N_step TD method as in page 144 ot textbook, \"n-step TD for estimating $V\\approx v_\\pi$\".  "
      ],
      "metadata": {
        "id": "pvXF66O50ZnO"
      }
    },
    {
      "cell_type": "markdown",
      "source": [],
      "metadata": {
        "id": "04rElY290_qK"
      }
    },
    {
      "cell_type": "code",
      "source": [
        "class BlackJack_N_step_TD_eval(object):\n",
        "\n",
        "    def __init__(self):\n",
        "        #self.player_state_value = {}\n",
        "        self.player_states = []\n",
        "        self.player_win = 0\n",
        "        self.player_draw = 0\n",
        "        self.rewards = []\n",
        "        self.lis_rewards=[]\n",
        "        self.lr = 0.1\n",
        "        self.max_T = []\n",
        "\n",
        "        self.player_V_Values={}\n",
        "        self.player_final_rewards = []\n",
        "        self.chosen_state_value = []\n",
        "\n",
        "\n",
        "        # initialise V values | (12-21) x (1-10) x (True, False) 200 in total\n",
        "\n",
        "        for i in range(12, 22):\n",
        "            for j in range(1, 11):\n",
        "                for k in [True, False]:\n",
        "                    self.player_V_Values[(i, j, k)] = 0\n",
        "\n",
        "    # give card\n",
        "    # giveCard() function is borrowed from BlackJack base code\n",
        "    @staticmethod\n",
        "    def giveCard():\n",
        "        # 1 stands for ace\n",
        "        c_list = list(range(1, 11)) + [10, 10, 10]\n",
        "        return np.random.choice(c_list)\n",
        "\n",
        "    # dealerPolicy() function is borrowed from BlackJack base code\n",
        "    def dealerPolicy(self, current_value, usable_ace, is_end):\n",
        "        if current_value > 21:\n",
        "            if usable_ace:\n",
        "                current_value -= 10\n",
        "                usable_ace = False\n",
        "            else:\n",
        "                return current_value, usable_ace, True\n",
        "        # HIT17\n",
        "        if current_value >= 17:\n",
        "            return current_value, usable_ace, True\n",
        "        else:\n",
        "            card = self.giveCard()\n",
        "            if card == 1:\n",
        "                if current_value <= 10:\n",
        "                    return current_value+11, True, False\n",
        "                return current_value+1, usable_ace, False\n",
        "            else:\n",
        "                return current_value+card, usable_ace, False\n",
        "\n",
        "    # one can only has 1 usable ace\n",
        "    # playerPolicy() function is borrowed from BlackJack base code\n",
        "    def playerPolicy(self, current_value, usable_ace, is_end):\n",
        "        \"\"\"_summary_\n",
        "\n",
        "        Args:\n",
        "            current_value (_type_): _description_\n",
        "            usable_ace (_type_): _description_\n",
        "            is_end (bool): _description_\n",
        "\n",
        "        Returns:\n",
        "            state: return the next state\n",
        "            reward: temporal reward\n",
        "        \"\"\"\n",
        "        if current_value > 21:\n",
        "            if usable_ace:\n",
        "                current_value -= 10\n",
        "                usable_ace = False\n",
        "            else:\n",
        "                return (current_value, usable_ace, True),-1\n",
        "        # HIT20\n",
        "        if current_value >= 20:\n",
        "            return (current_value, usable_ace, True),0\n",
        "        else:\n",
        "            card = self.giveCard()\n",
        "            if card == 1:\n",
        "                if current_value <= 10:\n",
        "                    return (current_value+11, True, False),0\n",
        "                return (current_value+1, usable_ace, False),0\n",
        "            else:\n",
        "                return (current_value+card, usable_ace, False),0\n",
        "\n",
        "\n",
        "    def reset(self):\n",
        "        self.player_state_action = []\n",
        "        self.rewards = []\n",
        "        self.state = (0, 0, False)  # initial state\n",
        "        self.end = False\n",
        "\n",
        "    # modified to implement N-step TD method\n",
        "    def _giveCredit(self,player_value, dealer_value, is_end):\n",
        "        # update state value and win count\n",
        "        if is_end:\n",
        "            # give reward only to last state\n",
        "            last_state = self.player_states[-1]\n",
        "            if player_value > 21:\n",
        "                if dealer_value > 21:\n",
        "                    # draw\n",
        "                    self.player_draw += 1\n",
        "                    self.player_final_rewards.append(0)\n",
        "                else:\n",
        "                    #self.player_state_value[last_state] -= 1\n",
        "                    self.player_final_rewards.append(-1)\n",
        "            else:\n",
        "                if dealer_value > 21:\n",
        "                    #self.player_state_value[last_state] += 1\n",
        "                    self.player_win += 1\n",
        "                    self.player_final_rewards.append(1)\n",
        "                else:\n",
        "                    if player_value < dealer_value:\n",
        "                        #self.player_state_value[last_state] -= 1\n",
        "                        self.player_final_rewards.append(-1)\n",
        "                    elif player_value > dealer_value:\n",
        "                        #self.player_state_value[last_state] += 1\n",
        "                        self.player_win += 1\n",
        "                        self.player_final_rewards.append(1)\n",
        "                    else:\n",
        "                        # draw\n",
        "                        self.player_draw += 1\n",
        "                        self.player_final_rewards.append(0)\n",
        "\n",
        "\n",
        "\n",
        "\n",
        "    def play(self, rounds=1000,n=3,chosen_state=(13,1,True)):\n",
        "        for i in np.arange(rounds):\n",
        "            #self.reset()\n",
        "            #if i % 10000 == 0:\n",
        "            #    print(\"round\", i)\n",
        "            # hit 2 cards each\n",
        "            dealer_value, player_value = 0, 0\n",
        "            show_card = 0\n",
        "\n",
        "            # give dealer 2 cards and show 1\n",
        "            dealer_value += self.giveCard()\n",
        "            show_card = dealer_value\n",
        "            dealer_value += self.giveCard()\n",
        "\n",
        "            # player's turn\n",
        "            # always hit if less than 12\n",
        "            usable_ace, is_end = False, False\n",
        "\n",
        "            lis_states = []\n",
        "            while True:\n",
        "                state,reward = self.playerPolicy(player_value, usable_ace, is_end)\n",
        "                player_value, usable_ace, is_end = state\n",
        "\n",
        "                # when value goes higher than 12, record states\n",
        "                if (player_value >= 12) and (player_value <= 21):\n",
        "                    lis_states.append((player_value, show_card, usable_ace))\n",
        "                    self.rewards.append(reward)\n",
        "\n",
        "                if is_end:\n",
        "                    break\n",
        "            self.player_states.append(lis_states)\n",
        "            # print(\"player card sum\", player_value)\n",
        "\n",
        "            # dealer's turn\n",
        "            usable_ace, is_end = False, False\n",
        "            while not is_end:\n",
        "                dealer_value, usable_ace, is_end = self.dealerPolicy(dealer_value, usable_ace, is_end)\n",
        "            # print(\"dealer card sum\", dealer_value)\n",
        "\n",
        "            # judge winner\n",
        "            # set intermediate state to 0\n",
        "            #for s in self.player_states:\n",
        "            #    self.player_state_value[s] = 0 if self.player_state_value.get(s) is None else self.player_state_value.get(s)\n",
        "\n",
        "            self._giveCredit(player_value,dealer_value,is_end)\n",
        "\n",
        "            #creating list of rewards\n",
        "            rewards_here = list(np.zeros(len(self.player_states[i])-1))+[self.player_final_rewards[i]]\n",
        "            #following code borrowed from my own solution in programming assignment 2\n",
        "            #off policy n_step sarsa algorithm\n",
        "            #help from class txt book, page 144, n step TD method estimating V approximately equivalent to v_pi\n",
        "            t=0\n",
        "            T=len(self.player_states[i])\n",
        "            tau=0-n+1\n",
        "            for t in range(0,T+n-1):\n",
        "                tau=t-n+1\n",
        "                if tau>=0:\n",
        "                    upper = np.min([tau+n,T])\n",
        "                    G=0\n",
        "                    for ind in range(tau+1,upper+1):\n",
        "                        G=G+rewards_here[ind-1]\n",
        "                    if tau + n < T:\n",
        "                        s_tau_n = self.player_states[i][tau + n]\n",
        "                        G += self.player_V_Values[s_tau_n]\n",
        "                    # Update the value for the state at time tau\n",
        "                    state_to_update = self.player_states[i][tau]\n",
        "\n",
        "\n",
        "                    # Update value function value V(s_tau)\n",
        "                    cur_val = self.player_V_Values[state_to_update]\n",
        "                    self.player_V_Values[state_to_update]=cur_val+self.lr * (G - cur_val)\n",
        "            self.chosen_state_value.append(self.player_V_Values[chosen_state])\n",
        "\n",
        "\n",
        "\n",
        "\n",
        "\n",
        "\n",
        "\n",
        "\n",
        "\n"
      ],
      "metadata": {
        "id": "IBK85N631AzU"
      },
      "execution_count": 37,
      "outputs": []
    },
    {
      "cell_type": "code",
      "source": [
        "state_eval = 0\n",
        "chosen_state_val_lis01 = []\n",
        "for ind in range(100):\n",
        "    np.random.seed(ind)\n",
        "    print(\" seed: \",ind)\n",
        "    b_N_TD_eval = BlackJack_N_step_TD_eval()\n",
        "    b_N_TD_eval.play(rounds=10000)\n",
        "    #print(b_N_step_eval.player_V_Values[(13,1,True)])\n",
        "    state_eval +=b_N_TD_eval.player_V_Values[(13,1,True)]\n",
        "    chosen_state_val_lis01.append(b_N_TD_eval.chosen_state_value)\n"
      ],
      "metadata": {
        "colab": {
          "base_uri": "https://localhost:8080/"
        },
        "id": "5ylKvayH1kf0",
        "outputId": "2eeee95e-5024-4906-c72f-4d55db763770"
      },
      "execution_count": 38,
      "outputs": [
        {
          "output_type": "stream",
          "name": "stdout",
          "text": [
            " seed:  0\n",
            " seed:  1\n",
            " seed:  2\n",
            " seed:  3\n",
            " seed:  4\n",
            " seed:  5\n",
            " seed:  6\n",
            " seed:  7\n",
            " seed:  8\n",
            " seed:  9\n",
            " seed:  10\n",
            " seed:  11\n",
            " seed:  12\n",
            " seed:  13\n",
            " seed:  14\n",
            " seed:  15\n",
            " seed:  16\n",
            " seed:  17\n",
            " seed:  18\n",
            " seed:  19\n",
            " seed:  20\n",
            " seed:  21\n",
            " seed:  22\n",
            " seed:  23\n",
            " seed:  24\n",
            " seed:  25\n",
            " seed:  26\n",
            " seed:  27\n",
            " seed:  28\n",
            " seed:  29\n",
            " seed:  30\n",
            " seed:  31\n",
            " seed:  32\n",
            " seed:  33\n",
            " seed:  34\n",
            " seed:  35\n",
            " seed:  36\n",
            " seed:  37\n",
            " seed:  38\n",
            " seed:  39\n",
            " seed:  40\n",
            " seed:  41\n",
            " seed:  42\n",
            " seed:  43\n",
            " seed:  44\n",
            " seed:  45\n",
            " seed:  46\n",
            " seed:  47\n",
            " seed:  48\n",
            " seed:  49\n",
            " seed:  50\n",
            " seed:  51\n",
            " seed:  52\n",
            " seed:  53\n",
            " seed:  54\n",
            " seed:  55\n",
            " seed:  56\n",
            " seed:  57\n",
            " seed:  58\n",
            " seed:  59\n",
            " seed:  60\n",
            " seed:  61\n",
            " seed:  62\n",
            " seed:  63\n",
            " seed:  64\n",
            " seed:  65\n",
            " seed:  66\n",
            " seed:  67\n",
            " seed:  68\n",
            " seed:  69\n",
            " seed:  70\n",
            " seed:  71\n",
            " seed:  72\n",
            " seed:  73\n",
            " seed:  74\n",
            " seed:  75\n",
            " seed:  76\n",
            " seed:  77\n",
            " seed:  78\n",
            " seed:  79\n",
            " seed:  80\n",
            " seed:  81\n",
            " seed:  82\n",
            " seed:  83\n",
            " seed:  84\n",
            " seed:  85\n",
            " seed:  86\n",
            " seed:  87\n",
            " seed:  88\n",
            " seed:  89\n",
            " seed:  90\n",
            " seed:  91\n",
            " seed:  92\n",
            " seed:  93\n",
            " seed:  94\n",
            " seed:  95\n",
            " seed:  96\n",
            " seed:  97\n",
            " seed:  98\n",
            " seed:  99\n"
          ]
        }
      ]
    },
    {
      "cell_type": "markdown",
      "source": [
        "We check our n-step TD method's performance on estimating state value for state player sum is 13, player has an usable ace and dealer shows an ace."
      ],
      "metadata": {
        "id": "XuwM1-la1w_X"
      }
    },
    {
      "cell_type": "code",
      "source": [
        "state_eval/100"
      ],
      "metadata": {
        "colab": {
          "base_uri": "https://localhost:8080/"
        },
        "id": "a4aVjGXR3nv6",
        "outputId": "3d1b3a43-57e8-40ab-ecb4-960c51abf9d3"
      },
      "execution_count": 42,
      "outputs": [
        {
          "output_type": "execute_result",
          "data": {
            "text/plain": [
              "-0.09156168999950279"
            ]
          },
          "metadata": {},
          "execution_count": 42
        }
      ]
    },
    {
      "cell_type": "code",
      "source": [
        "basline_val"
      ],
      "metadata": {
        "colab": {
          "base_uri": "https://localhost:8080/"
        },
        "id": "9W43bm623n8A",
        "outputId": "36e68000-9356-4be7-9eb6-cda005d6cc5a"
      },
      "execution_count": 43,
      "outputs": [
        {
          "output_type": "execute_result",
          "data": {
            "text/plain": [
              "-0.19499478623566194"
            ]
          },
          "metadata": {},
          "execution_count": 43
        }
      ]
    },
    {
      "cell_type": "markdown",
      "source": [
        "This is not close from baseline value for state (13,1,True). We will have a further check of our n-Step TD method's performance on estimating state value for state player sum is 13, player has an usable ace and dealer shows an ace through computing an mean square error of our off_policy n-step Sarsa method's estimation of state value for state (13,1,True) throughout the 10000 iterations, and averaged over all 100 runs."
      ],
      "metadata": {
        "id": "ToPua9V332HO"
      }
    },
    {
      "cell_type": "markdown",
      "source": [
        "Computing mean square error averaging our off policy n_step Sarsa method over 100 runs for each of episode."
      ],
      "metadata": {
        "id": "qlRpr4kB4H7e"
      }
    },
    {
      "cell_type": "markdown",
      "source": [],
      "metadata": {
        "id": "J92dzx9E4I8Q"
      }
    },
    {
      "cell_type": "code",
      "source": [
        "len(chosen_state_val_lis01)"
      ],
      "metadata": {
        "colab": {
          "base_uri": "https://localhost:8080/"
        },
        "id": "20RFTCc64eVs",
        "outputId": "c7fa8adc-c7eb-4fd6-bf42-dd0bce53a7f2"
      },
      "execution_count": 46,
      "outputs": [
        {
          "output_type": "execute_result",
          "data": {
            "text/plain": [
              "100"
            ]
          },
          "metadata": {},
          "execution_count": 46
        }
      ]
    },
    {
      "cell_type": "code",
      "source": [
        "MSE_col_n_Step_TD = []\n",
        "\n",
        "for iter in range(0,10000):\n",
        "    MSE = 0\n",
        "    N=0\n",
        "    for j in range(0,100):\n",
        "        N=N+1\n",
        "        mse_cur = (chosen_state_val_lis01[j][iter]-basline_val)**2\n",
        "        MSE = MSE+(1/N)*(mse_cur-MSE)\n",
        "    MSE_col_n_Step_TD.append(MSE)"
      ],
      "metadata": {
        "id": "wQ3V7gsx4ZLT"
      },
      "execution_count": 47,
      "outputs": []
    },
    {
      "cell_type": "code",
      "source": [
        "plt.plot(MSE_col_n_Step_TD)\n",
        "plt.title(\"MSE plot for N step TD method\")\n",
        "plt.ylabel(\"Mean square error, average over 100 runs\")\n",
        "plt.xlabel(\"episodes\")"
      ],
      "metadata": {
        "colab": {
          "base_uri": "https://localhost:8080/",
          "height": 489
        },
        "id": "cJbgNhNV43bP",
        "outputId": "735c912f-309a-43af-cf3b-c5a87af87086"
      },
      "execution_count": 48,
      "outputs": [
        {
          "output_type": "execute_result",
          "data": {
            "text/plain": [
              "Text(0.5, 0, 'episodes')"
            ]
          },
          "metadata": {},
          "execution_count": 48
        },
        {
          "output_type": "display_data",
          "data": {
            "text/plain": [
              "<Figure size 640x480 with 1 Axes>"
            ],
            "image/png": "[encoded data removed]"
          },
          "metadata": {}
        }
      ]
    },
    {
      "cell_type": "markdown",
      "source": [
        "The plot for MSE for n-Step TD method over 10000 iterations showed that MSE has some fluctuation, but the overall value is quite small compared to the case of n-Step SARSA method. When we view the tred of MSE, MSE generally decrease a little bit a first, then increase to iteration number around 400, then flutuated for iteration 4000 to 8000 and finally dropped after iteration 8000. For the case of n-Step Sarsa, the MSE curve never drop. Possible reason for this difference in trend of MSE plot and magnitude of MSE is that in n-Step TD, there is no factor $\\rho$ what will possibly enlarge any errors made in calcutation."
      ],
      "metadata": {
        "id": "MhWmZ2RE5B7V"
      }
    },
    {
      "cell_type": "markdown",
      "source": [
        "Now we try to figure out a epsilon-greedy policy for playing blackjack by using our **n_Step TD control** METHOD.  \n",
        "  \n",
        "This is our implemented n_Step TD control algorithm findind an optimal policy playing Blakcjack. Mostly, the class below is borrowed from online article \"Reinforcement Learning — Solving Blackjack\" by Jeremy Zhang.\n",
        "Except the part that we reare our own list of rewards and the final block of the code in this class \"BlackJack_N_step_Sarsa_eval\" that updates state value by N_step Sarsa method as in page 144 of textbook, \"n-Step TD for estimating $V\\approx v_\\pi$\"."
      ],
      "metadata": {
        "id": "L4rtPUrS5-y0"
      }
    },
    {
      "cell_type": "code",
      "source": [
        "class BlackJack_n_Step_TD_control(object):\n",
        "    # init function borrowed from website article \"Reinforcement Learning — Solving Blackjack\"\n",
        "    # by Jeremy Zhang in towardsdatascience.com\n",
        "    # initizliation function of blackjack object\n",
        "    def __init__(self,epsilon=0.1):\n",
        "        #self.player_state_value = {}\n",
        "        self.epsilon=epsilon\n",
        "        self.lr = 0.1\n",
        "        self.player_Q_Values={}\n",
        "        self.policy = {} #initialize a epsilon-soft policy\n",
        "        self.player_states = []\n",
        "        self.player_final_rewards=[]\n",
        "        self.player_draw = 0\n",
        "        self.player_win=0\n",
        "\n",
        "\n",
        "        # initialise V values | (12-21) x (1-10) x (True, False) x (1,0) 400 in total\n",
        "\n",
        "        for i in range(12, 22):\n",
        "            for j in range(1, 11):\n",
        "                for k in [True, False]:\n",
        "                    self.player_Q_Values[(i, j, k)] = {}\n",
        "                    self.player_Q_Values[(i,j,k)][1]=0\n",
        "                    self.player_Q_Values[(i,j,k)][0]=0\n",
        "                    self.policy[(i,j,k)]=[0.5,0.5]\n",
        "    # give card\n",
        "    # give card function borrowed from website article \"Reinforcement Learning — Solving Blackjack\"\n",
        "    # by Jeremy Zhang in towardsdatascience.com\n",
        "    @staticmethod\n",
        "    def giveCard():\n",
        "        # 1 stands for ace\n",
        "        c_list = list(range(1, 11)) + [10, 10, 10]\n",
        "        return np.random.choice(c_list)\n",
        "    # dealer policy and player policy function borrowed from website article\n",
        "    # \"Reinforcement Learning — Solving Blackjack\"\n",
        "    # by Jeremy Zhang in towardsdatascience.com\n",
        "    def dealerPolicy(self, current_value, usable_ace, is_end):\n",
        "        if current_value > 21:\n",
        "            if usable_ace:\n",
        "                current_value -= 10\n",
        "                usable_ace = False\n",
        "            else:\n",
        "                return current_value, usable_ace, True\n",
        "        # HIT17\n",
        "        if current_value >= 17:\n",
        "            return current_value, usable_ace, True\n",
        "        else:\n",
        "            card = self.giveCard()\n",
        "            if card == 1:\n",
        "                if current_value <= 10:\n",
        "                    return current_value+11, True, False\n",
        "                return current_value+1, usable_ace, False\n",
        "            else:\n",
        "                return current_value+card, usable_ace, False\n",
        "\n",
        "    # one can only has 1 usable ace\n",
        "    def playerPolicy(self, current_value, show_card, usable_ace, is_end):\n",
        "        if current_value > 21:\n",
        "            if usable_ace:\n",
        "                current_value -= 10\n",
        "                usable_ace = False\n",
        "            else:\n",
        "                return current_value, usable_ace, None, True\n",
        "\n",
        "        #always hit when total sum smaller than 12\n",
        "        if current_value < 12:\n",
        "            card = self.giveCard()\n",
        "            if card == 1:\n",
        "                if current_value <= 10:\n",
        "                    return current_value+11, True, 1, False\n",
        "                return current_value+1, usable_ace, 1, False\n",
        "            else:\n",
        "                return current_value+card, usable_ace, 1, False\n",
        "        # epsilon-soft policy here performed\n",
        "        action = np.random.choice([0,1],p=self.policy[(current_value,show_card,usable_ace)])\n",
        "        if action==0:\n",
        "            return current_value, usable_ace, 0, True\n",
        "        else:\n",
        "            card = self.giveCard()\n",
        "            if card == 1:\n",
        "                if current_value <= 10:\n",
        "                    return current_value+11, True, 1, False\n",
        "                return current_value+1, usable_ace, 1, False\n",
        "            else:\n",
        "                return current_value+card, usable_ace, 1, False\n",
        "\n",
        "\n",
        "    # give credit function borrowed from website article\n",
        "    # \"Reinforcement Learning — Solving Blackjack\"\n",
        "    # by Jeremy Zhang in towardsdatascience.com\n",
        "    def _giveCredit(self, player_value, dealer_value, cur_traj, is_end=True):\n",
        "        if is_end:\n",
        "            if player_value > 21:\n",
        "                if dealer_value > 21:\n",
        "                    # draw\n",
        "                    self.player_draw += 1\n",
        "                    self.player_final_rewards.append(0)\n",
        "                else:\n",
        "                    self.player_final_rewards.append(-1)\n",
        "            else:\n",
        "                if dealer_value > 21:\n",
        "                    self.player_final_rewards.append(1)\n",
        "                    self.player_win += 1\n",
        "                else:\n",
        "                    if player_value < dealer_value:\n",
        "                        self.player_final_rewards.append(-1)\n",
        "                    elif player_value > dealer_value:\n",
        "                        self.player_final_rewards.append(1)\n",
        "                        self.player_win += 1\n",
        "                    else:\n",
        "                        # draw\n",
        "                        self.player_draw += 1\n",
        "                        self.player_final_rewards.append(0)\n",
        "    def play(self, rounds=1000,n=3):\n",
        "        for i in range(rounds):\n",
        "            if i % 10000 == 0:\n",
        "                print(\"round\", i)\n",
        "\n",
        "\n",
        "\n",
        "\n",
        "            # hit 2 cards each\n",
        "            dealer_value, player_value = 0, 0\n",
        "            show_card = 0\n",
        "\n",
        "            # give dealer 2 cards and show 1\n",
        "            dealer_value += self.giveCard()\n",
        "            show_card = dealer_value\n",
        "            dealer_value += self.giveCard()\n",
        "\n",
        "            #list of states for players\n",
        "            lis_player_states = []\n",
        "\n",
        "            #col of actions\n",
        "            col_actions = {}\n",
        "            # player's turn\n",
        "            # always hit if less than 12\n",
        "            usable_ace, is_end = False, False\n",
        "            while True:\n",
        "\n",
        "                player_value, usable_ace, action, is_end = self.playerPolicy(player_value, show_card, usable_ace, is_end)\n",
        "                col_actions[(player_value, show_card, usable_ace)]=action\n",
        "\n",
        "                # when value goes higher than 12, record states\n",
        "                if (player_value >= 12) and (player_value <= 21):\n",
        "                    lis_player_states.append((player_value, show_card, usable_ace))\n",
        "\n",
        "                    #self.player_state_count[(player_value, show_card, usable_ace)]+=1\n",
        "\n",
        "                if is_end:\n",
        "                    break\n",
        "\n",
        "            self.player_states.append(lis_player_states)\n",
        "            # print(\"player card sum\", player_value)\n",
        "\n",
        "            # dealer's turn\n",
        "            usable_ace, is_end = False, False\n",
        "            while not is_end:\n",
        "                dealer_value, usable_ace, is_end = self.dealerPolicy(dealer_value, usable_ace, is_end)\n",
        "\n",
        "            # judge winner\n",
        "            # set intermediate state to 0\n",
        "            #for s in self.player_states:\n",
        "            #    self.player_state_value[s] = 0 if self.player_state_value.get(s) is None else self.player_state_value.get(s)\n",
        "\n",
        "            self._giveCredit(player_value, dealer_value,self.player_states[-1])\n",
        "\n",
        "            #creating list of rewards\n",
        "            rewards_here = list(np.zeros(len(self.player_states[i])-1))+[self.player_final_rewards[i]]\n",
        "\n",
        "            #following code borrowed from my own solution in programming assignment 2\n",
        "            #off policy n_step sarsa algorithm\n",
        "            #help from class txt book, page 144, n step TD method estimating V approximately equivalent to v_pi\n",
        "            t=0\n",
        "            T=len(self.player_states[i])\n",
        "            tau=0-n+1\n",
        "            for t in range(0,T+n-1):\n",
        "                tau=t-n+1\n",
        "                if tau>=0:\n",
        "                    upper = np.min([tau+n,T])\n",
        "                    G=0\n",
        "                    for ind in range(tau+1,upper+1):\n",
        "                        G=G+rewards_here[ind-1]\n",
        "                    if tau + n < T:\n",
        "                        s_tau_n = self.player_states[i][tau + n]\n",
        "                        a_tau_n = col_actions[s_tau_n]\n",
        "                        G += self.player_Q_Values[s_tau_n][a_tau_n]\n",
        "                    # Update the value for the state at time tau\n",
        "                    s_tau = self.player_states[i][tau]\n",
        "                    a_tau= col_actions[s_tau]\n",
        "\n",
        "\n",
        "\n",
        "\n",
        "                    # Update value function value V(s_tau)\n",
        "                    cur_val = self.player_Q_Values[s_tau][a_tau]\n",
        "                    self.player_Q_Values[s_tau][a_tau]=cur_val+self.lr * (G - cur_val)\n",
        "                    a_star = np.argmax([self.player_Q_Values[s_tau][0],self.player_Q_Values[s_tau][1]])\n",
        "\n",
        "                    for a in range(2):\n",
        "                        if a==a_star:\n",
        "                            self.policy[s_tau][a]=1-self.epsilon+self.epsilon/2\n",
        "                        else:\n",
        "                            self.policy[s_tau][a]=self.epsilon/2\n",
        "\n",
        "\n",
        "\n"
      ],
      "metadata": {
        "id": "Ds8-JnVu5BP5"
      },
      "execution_count": 49,
      "outputs": []
    },
    {
      "cell_type": "markdown",
      "source": [
        "We develop an averaged policy for playing Blakcjack through using 5 seeds, and averaging the policy probabilities generated by the 5 seeds, 300 to 304."
      ],
      "metadata": {
        "id": "EGihKA2y8GcU"
      }
    },
    {
      "cell_type": "code",
      "source": [
        "policies_TD = []\n",
        "for i in range(300,305):\n",
        "    np.random.seed(i)\n",
        "    b_N_TD_control = BlackJack_n_Step_TD_control()\n",
        "    b_N_TD_control.play(rounds=10000)\n",
        "    policies_TD.append(b_N_TD_control.policy)"
      ],
      "metadata": {
        "colab": {
          "base_uri": "https://localhost:8080/"
        },
        "id": "W8COsAaw6liz",
        "outputId": "c7b14866-af3a-447b-f8ab-5845c8b98b5a"
      },
      "execution_count": 50,
      "outputs": [
        {
          "output_type": "stream",
          "name": "stdout",
          "text": [
            "round 0\n",
            "round 0\n",
            "round 0\n",
            "round 0\n",
            "round 0\n"
          ]
        }
      ]
    },
    {
      "cell_type": "code",
      "source": [
        "final_policy_n_step_TD = {}\n",
        "for i in range(12, 22):\n",
        "    for j in range(1, 11):\n",
        "        for k in [True, False]:\n",
        "            final_policy_n_step_TD[(i,j,k)]=[0,0]\n",
        "N=0\n",
        "for ind in range(0,5):\n",
        "    N=N+1\n",
        "    for i in range(12, 22):\n",
        "        for j in range(1, 11):\n",
        "            for k in [True, False]:\n",
        "                update_prob=policies_TD[ind][(i,j,k)]\n",
        "                cur_prob=final_policy_n_step_TD[(i,j,k)]\n",
        "\n",
        "                final_policy_n_step_TD[(i,j,k)][0]=cur_prob[0]+(1/N)*(update_prob[0]-cur_prob[0])\n",
        "                final_policy_n_step_TD[(i,j,k)][1]=cur_prob[1]+(1/N)*(update_prob[1]-cur_prob[1])"
      ],
      "metadata": {
        "id": "jA2a7q-H7fPf"
      },
      "execution_count": 51,
      "outputs": []
    },
    {
      "cell_type": "code",
      "source": [
        "final_policy_n_step_TD"
      ],
      "metadata": {
        "colab": {
          "base_uri": "https://localhost:8080/"
        },
        "id": "f8Rl0rOs8Iam",
        "outputId": "91a82a26-3d54-42df-c396-8a6f84494937"
      },
      "execution_count": 52,
      "outputs": [
        {
          "output_type": "execute_result",
          "data": {
            "text/plain": [
              "{(12, 1, True): [0.5900000000000001, 0.41000000000000003],\n",
              " (12, 1, False): [0.05, 0.9500000000000001],\n",
              " (12, 2, True): [0.41, 0.5900000000000001],\n",
              " (12, 2, False): [0.41, 0.5900000000000001],\n",
              " (12, 3, True): [0.41, 0.5900000000000001],\n",
              " (12, 3, False): [0.05, 0.9500000000000001],\n",
              " (12, 4, True): [0.05, 0.9500000000000001],\n",
              " (12, 4, False): [0.05, 0.9500000000000001],\n",
              " (12, 5, True): [0.23000000000000004, 0.77],\n",
              " (12, 5, False): [0.05, 0.9500000000000001],\n",
              " (12, 6, True): [0.41, 0.5900000000000001],\n",
              " (12, 6, False): [0.41, 0.5900000000000001],\n",
              " (12, 7, True): [0.05, 0.9500000000000001],\n",
              " (12, 7, False): [0.22999999999999998, 0.7700000000000001],\n",
              " (12, 8, True): [0.05, 0.9500000000000001],\n",
              " (12, 8, False): [0.23, 0.7700000000000001],\n",
              " (12, 9, True): [0.14, 0.86],\n",
              " (12, 9, False): [0.05, 0.9500000000000001],\n",
              " (12, 10, True): [0.05, 0.9500000000000001],\n",
              " (12, 10, False): [0.22999999999999998, 0.7700000000000001],\n",
              " (13, 1, True): [0.23000000000000004, 0.77],\n",
              " (13, 1, False): [0.05, 0.9500000000000001],\n",
              " (13, 2, True): [0.05, 0.9500000000000001],\n",
              " (13, 2, False): [0.05, 0.9500000000000001],\n",
              " (13, 3, True): [0.22999999999999998, 0.7700000000000001],\n",
              " (13, 3, False): [0.05, 0.9500000000000001],\n",
              " (13, 4, True): [0.41, 0.5900000000000001],\n",
              " (13, 4, False): [0.05, 0.9500000000000001],\n",
              " (13, 5, True): [0.23000000000000004, 0.77],\n",
              " (13, 5, False): [0.22999999999999998, 0.7700000000000001],\n",
              " (13, 6, True): [0.23000000000000004, 0.77],\n",
              " (13, 6, False): [0.05, 0.9500000000000001],\n",
              " (13, 7, True): [0.22999999999999998, 0.7700000000000001],\n",
              " (13, 7, False): [0.22999999999999998, 0.7700000000000001],\n",
              " (13, 8, True): [0.05, 0.9500000000000001],\n",
              " (13, 8, False): [0.05, 0.9500000000000001],\n",
              " (13, 9, True): [0.05, 0.9500000000000001],\n",
              " (13, 9, False): [0.05, 0.9500000000000001],\n",
              " (13, 10, True): [0.05, 0.9500000000000001],\n",
              " (13, 10, False): [0.05, 0.9500000000000001],\n",
              " (14, 1, True): [0.05, 0.9500000000000001],\n",
              " (14, 1, False): [0.05, 0.9500000000000001],\n",
              " (14, 2, True): [0.22999999999999998, 0.7700000000000001],\n",
              " (14, 2, False): [0.05, 0.9500000000000001],\n",
              " (14, 3, True): [0.41, 0.5900000000000001],\n",
              " (14, 3, False): [0.23, 0.7700000000000001],\n",
              " (14, 4, True): [0.05, 0.9500000000000001],\n",
              " (14, 4, False): [0.05, 0.9500000000000001],\n",
              " (14, 5, True): [0.05, 0.9500000000000001],\n",
              " (14, 5, False): [0.22999999999999998, 0.7700000000000001],\n",
              " (14, 6, True): [0.23000000000000004, 0.77],\n",
              " (14, 6, False): [0.05, 0.9500000000000001],\n",
              " (14, 7, True): [0.05, 0.9500000000000001],\n",
              " (14, 7, False): [0.23000000000000004, 0.77],\n",
              " (14, 8, True): [0.05, 0.9500000000000001],\n",
              " (14, 8, False): [0.05, 0.9500000000000001],\n",
              " (14, 9, True): [0.05, 0.9500000000000001],\n",
              " (14, 9, False): [0.05, 0.9500000000000001],\n",
              " (14, 10, True): [0.05, 0.9500000000000001],\n",
              " (14, 10, False): [0.05, 0.9500000000000001],\n",
              " (15, 1, True): [0.41, 0.5900000000000001],\n",
              " (15, 1, False): [0.05, 0.9500000000000001],\n",
              " (15, 2, True): [0.05, 0.9500000000000001],\n",
              " (15, 2, False): [0.23, 0.7700000000000001],\n",
              " (15, 3, True): [0.05, 0.9500000000000001],\n",
              " (15, 3, False): [0.05, 0.9500000000000001],\n",
              " (15, 4, True): [0.22999999999999998, 0.7700000000000001],\n",
              " (15, 4, False): [0.41000000000000003, 0.5900000000000001],\n",
              " (15, 5, True): [0.41, 0.5900000000000001],\n",
              " (15, 5, False): [0.41, 0.5900000000000001],\n",
              " (15, 6, True): [0.05, 0.9500000000000001],\n",
              " (15, 6, False): [0.05, 0.9500000000000001],\n",
              " (15, 7, True): [0.22999999999999998, 0.7700000000000001],\n",
              " (15, 7, False): [0.41, 0.5900000000000001],\n",
              " (15, 8, True): [0.23, 0.7700000000000001],\n",
              " (15, 8, False): [0.05, 0.9500000000000001],\n",
              " (15, 9, True): [0.41, 0.5900000000000001],\n",
              " (15, 9, False): [0.05, 0.9500000000000001],\n",
              " (15, 10, True): [0.05, 0.9500000000000001],\n",
              " (15, 10, False): [0.22999999999999998, 0.7700000000000001],\n",
              " (16, 1, True): [0.22999999999999998, 0.7700000000000001],\n",
              " (16, 1, False): [0.05, 0.9500000000000001],\n",
              " (16, 2, True): [0.22999999999999998, 0.7700000000000001],\n",
              " (16, 2, False): [0.05, 0.9500000000000001],\n",
              " (16, 3, True): [0.41000000000000003, 0.5900000000000001],\n",
              " (16, 3, False): [0.5900000000000001, 0.4100000000000001],\n",
              " (16, 4, True): [0.05, 0.9500000000000001],\n",
              " (16, 4, False): [0.05, 0.9500000000000001],\n",
              " (16, 5, True): [0.23, 0.7700000000000001],\n",
              " (16, 5, False): [0.05, 0.9500000000000001],\n",
              " (16, 6, True): [0.4100000000000001, 0.5900000000000001],\n",
              " (16, 6, False): [0.5900000000000001, 0.41],\n",
              " (16, 7, True): [0.41, 0.5900000000000001],\n",
              " (16, 7, False): [0.05, 0.9500000000000001],\n",
              " (16, 8, True): [0.4100000000000001, 0.5900000000000001],\n",
              " (16, 8, False): [0.05, 0.9500000000000001],\n",
              " (16, 9, True): [0.22999999999999998, 0.7700000000000001],\n",
              " (16, 9, False): [0.23, 0.7700000000000001],\n",
              " (16, 10, True): [0.05, 0.9500000000000001],\n",
              " (16, 10, False): [0.22999999999999998, 0.7700000000000001],\n",
              " (17, 1, True): [0.23000000000000004, 0.77],\n",
              " (17, 1, False): [0.05, 0.9500000000000001],\n",
              " (17, 2, True): [0.41, 0.5900000000000001],\n",
              " (17, 2, False): [0.41, 0.5900000000000001],\n",
              " (17, 3, True): [0.05, 0.9500000000000001],\n",
              " (17, 3, False): [0.41, 0.5900000000000001],\n",
              " (17, 4, True): [0.05, 0.9500000000000001],\n",
              " (17, 4, False): [0.23, 0.7700000000000001],\n",
              " (17, 5, True): [0.22999999999999998, 0.7700000000000001],\n",
              " (17, 5, False): [0.41, 0.5900000000000001],\n",
              " (17, 6, True): [0.05, 0.9500000000000001],\n",
              " (17, 6, False): [0.5900000000000001, 0.41],\n",
              " (17, 7, True): [0.41, 0.5900000000000001],\n",
              " (17, 7, False): [0.5900000000000001, 0.41],\n",
              " (17, 8, True): [0.05, 0.9500000000000001],\n",
              " (17, 8, False): [0.22999999999999998, 0.7700000000000001],\n",
              " (17, 9, True): [0.41, 0.5900000000000001],\n",
              " (17, 9, False): [0.23, 0.7700000000000001],\n",
              " (17, 10, True): [0.05, 0.9500000000000001],\n",
              " (17, 10, False): [0.23000000000000004, 0.77],\n",
              " (18, 1, True): [0.23, 0.7700000000000001],\n",
              " (18, 1, False): [0.5900000000000001, 0.41],\n",
              " (18, 2, True): [0.5900000000000001, 0.41],\n",
              " (18, 2, False): [0.9500000000000001, 0.05],\n",
              " (18, 3, True): [0.5900000000000001, 0.4100000000000001],\n",
              " (18, 3, False): [0.9500000000000001, 0.05],\n",
              " (18, 4, True): [0.41, 0.5900000000000001],\n",
              " (18, 4, False): [0.5900000000000001, 0.41],\n",
              " (18, 5, True): [0.41, 0.5900000000000001],\n",
              " (18, 5, False): [0.7700000000000001, 0.22999999999999998],\n",
              " (18, 6, True): [0.5900000000000001, 0.41],\n",
              " (18, 6, False): [0.9500000000000001, 0.05],\n",
              " (18, 7, True): [0.5900000000000001, 0.4100000000000001],\n",
              " (18, 7, False): [0.9500000000000001, 0.05],\n",
              " (18, 8, True): [0.41, 0.5900000000000001],\n",
              " (18, 8, False): [0.9500000000000001, 0.05],\n",
              " (18, 9, True): [0.23000000000000004, 0.77],\n",
              " (18, 9, False): [0.22999999999999998, 0.7700000000000001],\n",
              " (18, 10, True): [0.23000000000000004, 0.77],\n",
              " (18, 10, False): [0.7700000000000001, 0.22999999999999998],\n",
              " (19, 1, True): [0.41, 0.5900000000000001],\n",
              " (19, 1, False): [0.9500000000000001, 0.05],\n",
              " (19, 2, True): [0.5900000000000001, 0.41],\n",
              " (19, 2, False): [0.9500000000000001, 0.05],\n",
              " (19, 3, True): [0.5900000000000001, 0.41],\n",
              " (19, 3, False): [0.9500000000000001, 0.05],\n",
              " (19, 4, True): [0.7700000000000001, 0.22999999999999998],\n",
              " (19, 4, False): [0.9500000000000001, 0.05],\n",
              " (19, 5, True): [0.7700000000000001, 0.22999999999999998],\n",
              " (19, 5, False): [0.9500000000000001, 0.05],\n",
              " (19, 6, True): [0.5900000000000001, 0.41],\n",
              " (19, 6, False): [0.9500000000000001, 0.05],\n",
              " (19, 7, True): [0.7700000000000001, 0.23],\n",
              " (19, 7, False): [0.9500000000000001, 0.05],\n",
              " (19, 8, True): [0.7700000000000001, 0.22999999999999998],\n",
              " (19, 8, False): [0.9500000000000001, 0.05],\n",
              " (19, 9, True): [0.9500000000000001, 0.05],\n",
              " (19, 9, False): [0.9500000000000001, 0.05],\n",
              " (19, 10, True): [0.23, 0.7700000000000001],\n",
              " (19, 10, False): [0.7700000000000001, 0.22999999999999998],\n",
              " (20, 1, True): [0.77, 0.23000000000000004],\n",
              " (20, 1, False): [0.9500000000000001, 0.05],\n",
              " (20, 2, True): [0.9500000000000001, 0.05],\n",
              " (20, 2, False): [0.9500000000000001, 0.05],\n",
              " (20, 3, True): [0.77, 0.23000000000000004],\n",
              " (20, 3, False): [0.9500000000000001, 0.05],\n",
              " (20, 4, True): [0.9500000000000001, 0.05],\n",
              " (20, 4, False): [0.9500000000000001, 0.05],\n",
              " (20, 5, True): [0.7700000000000001, 0.23],\n",
              " (20, 5, False): [0.9500000000000001, 0.05],\n",
              " (20, 6, True): [0.9500000000000001, 0.05],\n",
              " (20, 6, False): [0.9500000000000001, 0.05],\n",
              " (20, 7, True): [0.9500000000000001, 0.05],\n",
              " (20, 7, False): [0.9500000000000001, 0.05],\n",
              " (20, 8, True): [0.9500000000000001, 0.05],\n",
              " (20, 8, False): [0.9500000000000001, 0.05],\n",
              " (20, 9, True): [0.5900000000000001, 0.41],\n",
              " (20, 9, False): [0.9500000000000001, 0.05],\n",
              " (20, 10, True): [0.9500000000000001, 0.05],\n",
              " (20, 10, False): [0.9500000000000001, 0.05],\n",
              " (21, 1, True): [0.9500000000000001, 0.05],\n",
              " (21, 1, False): [0.9500000000000001, 0.05],\n",
              " (21, 2, True): [0.7700000000000001, 0.22999999999999998],\n",
              " (21, 2, False): [0.9500000000000001, 0.05],\n",
              " (21, 3, True): [0.9500000000000001, 0.05],\n",
              " (21, 3, False): [0.9500000000000001, 0.05],\n",
              " (21, 4, True): [0.9500000000000001, 0.05],\n",
              " (21, 4, False): [0.9500000000000001, 0.05],\n",
              " (21, 5, True): [0.9500000000000001, 0.05],\n",
              " (21, 5, False): [0.9500000000000001, 0.05],\n",
              " (21, 6, True): [0.9500000000000001, 0.05],\n",
              " (21, 6, False): [0.9500000000000001, 0.05],\n",
              " (21, 7, True): [0.9500000000000001, 0.05],\n",
              " (21, 7, False): [0.9500000000000001, 0.05],\n",
              " (21, 8, True): [0.9500000000000001, 0.05],\n",
              " (21, 8, False): [0.9500000000000001, 0.05],\n",
              " (21, 9, True): [0.9500000000000001, 0.05],\n",
              " (21, 9, False): [0.9500000000000001, 0.05],\n",
              " (21, 10, True): [0.9500000000000001, 0.05],\n",
              " (21, 10, False): [0.9500000000000001, 0.05]}"
            ]
          },
          "metadata": {},
          "execution_count": 52
        }
      ]
    },
    {
      "cell_type": "code",
      "source": [
        "np.random.seed(500)\n",
        "n_Step_TD_rerun=BlackJack_estimate_rerun(policy_prob=final_policy_n_step_TD)\n",
        "n_Step_TD_rerun.play(10000)"
      ],
      "metadata": {
        "id": "3DUFO2xM8kXg"
      },
      "execution_count": 67,
      "outputs": []
    },
    {
      "cell_type": "markdown",
      "source": [
        "Now we check the winning rate by policy chosen from n-Step TD method."
      ],
      "metadata": {
        "id": "p5V3quVj8q_1"
      }
    },
    {
      "cell_type": "code",
      "source": [
        "n_Step_TD_rerun.player_win,n_Step_TD_rerun.player_lose,n_Step_TD_rerun.player_draw"
      ],
      "metadata": {
        "colab": {
          "base_uri": "https://localhost:8080/"
        },
        "id": "lwacyWcX8x4_",
        "outputId": "091daf6f-296b-4b0d-b306-faac80b89443"
      },
      "execution_count": 68,
      "outputs": [
        {
          "output_type": "execute_result",
          "data": {
            "text/plain": [
              "(3997, 4121, 1882)"
            ]
          },
          "metadata": {},
          "execution_count": 68
        }
      ]
    },
    {
      "cell_type": "code",
      "source": [
        "print(\"n-Step TD winning rate: \",n_Step_TD_rerun.player_win/10000)"
      ],
      "metadata": {
        "colab": {
          "base_uri": "https://localhost:8080/"
        },
        "id": "HuUUUa_I8_sX",
        "outputId": "52091cdc-85fb-4372-e4a4-31d2e6fbc4c1"
      },
      "execution_count": 69,
      "outputs": [
        {
          "output_type": "stream",
          "name": "stdout",
          "text": [
            "n-Step TD winning rate:  0.3997\n"
          ]
        }
      ]
    },
    {
      "cell_type": "markdown",
      "source": [
        "Still, we did not beat the dealer. However, compared to off policy n-Step SARSA case, our winning rate increased from 37.4% to 39.97%."
      ],
      "metadata": {
        "id": "x5xqMVZF9HRZ"
      }
    },
    {
      "cell_type": "markdown",
      "source": [
        "## Section: Unweighted importance sampling Monteo Carlo"
      ],
      "metadata": {
        "id": "_lxVmkXSipYP"
      }
    },
    {
      "cell_type": "markdown",
      "source": [
        "First, we need to use following method to generate trajectories for Unweighted importance sampling Monte Carlo method."
      ],
      "metadata": {
        "id": "vjFBY5n4itgT"
      }
    },
    {
      "cell_type": "markdown",
      "source": [
        "This is our implemented unweighted Monte Carlo running algorithm generating trajcetories for further investigation. Mostly, the class below is borrowed from online article \"Reinforcement Learning — Solving Blackjack\" by Jeremy Zhang.  \n",
        "Except the part that we add list of states in a single trajectory to our general list og trajectories \"self.player_states\". This part of code is inspired by our class test file from our class skeleton code for programming assignment 2.\n"
      ],
      "metadata": {
        "id": "fLBDjaymi7c4"
      }
    },
    {
      "cell_type": "code",
      "source": [
        "class BlackJackMC_run(object):\n",
        "    # init function borrowed from website article \"Reinforcement Learning — Solving Blackjack\"\n",
        "    # by Jeremy Zhang in towardsdatascience.com\n",
        "    # initizliation function of blackjack object\n",
        "    def __init__(self):\n",
        "\n",
        "        self.player_states = []\n",
        "        self.player_final_rewards = []\n",
        "\n",
        "\n",
        "        self.player_win = 0\n",
        "        self.player_draw = 0\n",
        "\n",
        "\n",
        "\n",
        "\n",
        "    # give card\n",
        "    # give card function borrowed from website article \"Reinforcement Learning — Solving Blackjack\"\n",
        "    # by Jeremy Zhang in towardsdatascience.com\n",
        "    @staticmethod\n",
        "    def giveCard():\n",
        "        # 1 stands for ace\n",
        "        c_list = list(range(1, 11)) + [10, 10, 10]\n",
        "        return np.random.choice(c_list)\n",
        "    # dealer policy and player policy function borrowed from website article\n",
        "    # \"Reinforcement Learning — Solving Blackjack\"\n",
        "    # by Jeremy Zhang in towardsdatascience.com\n",
        "    def dealerPolicy(self, current_value, usable_ace, is_end):\n",
        "        if current_value > 21:\n",
        "            if usable_ace:\n",
        "                current_value -= 10\n",
        "                usable_ace = False\n",
        "            else:\n",
        "                return current_value, usable_ace, True\n",
        "        # HIT17\n",
        "        if current_value >= 17:\n",
        "            return current_value, usable_ace, True\n",
        "        else:\n",
        "            card = self.giveCard()\n",
        "            if card == 1:\n",
        "                if current_value <= 10:\n",
        "                    return current_value+11, True, False\n",
        "                return current_value+1, usable_ace, False\n",
        "            else:\n",
        "                return current_value+card, usable_ace, False\n",
        "\n",
        "    # one can only has 1 usable ace\n",
        "    def playerPolicy(self, current_value, usable_ace, is_end):\n",
        "        if current_value > 21:\n",
        "            if usable_ace:\n",
        "                current_value -= 10\n",
        "                usable_ace = False\n",
        "            else:\n",
        "                return current_value, usable_ace, True\n",
        "        # HIT20\n",
        "        if current_value >= 20:\n",
        "            return current_value, usable_ace, True\n",
        "        else:\n",
        "            card = self.giveCard()\n",
        "            if card == 1:\n",
        "                if current_value <= 10:\n",
        "                    return current_value+11, True, False\n",
        "                return current_value+1, usable_ace, False\n",
        "            else:\n",
        "                return current_value+card, usable_ace, False\n",
        "\n",
        "    # give credit function borrowed from website article\n",
        "    # \"Reinforcement Learning — Solving Blackjack\"\n",
        "    # by Jeremy Zhang in towardsdatascience.com\n",
        "    def _giveCredit(self, player_value, dealer_value, cur_traj, is_end=True):\n",
        "        if is_end:\n",
        "            # give reward only to last state\n",
        "            # last_state = self.player_states[-1]\n",
        "            if player_value > 21:\n",
        "                if dealer_value > 21:\n",
        "                    # draw\n",
        "                    self.player_draw += 1\n",
        "                    self.player_final_rewards.append(0)\n",
        "                    #self.player_state_count[cur_traj[-1]] +=1\n",
        "                else:\n",
        "                    #self.player_state_value[last_state] -= 1\n",
        "                    self.player_final_rewards.append(-1)\n",
        "                    #self.player_V_Values[cur_traj[-1]] -=1\n",
        "                    #self.player_state_count[cur_traj[-1]] +=1\n",
        "            else:\n",
        "                if dealer_value > 21:\n",
        "                    # self.player_state_value[last_state] += 1\n",
        "                    self.player_final_rewards.append(1)\n",
        "                    #self.player_V_Values[cur_traj[-1]] +=1\n",
        "                    #self.player_state_count[cur_traj[-1]] +=1\n",
        "                    self.player_win += 1\n",
        "                else:\n",
        "                    if player_value < dealer_value:\n",
        "                        #self.player_state_value[last_state] -= 1\n",
        "                        self.player_final_rewards.append(-1)\n",
        "                        #self.player_V_Values[cur_traj[-1]] -=1\n",
        "                        #self.player_state_count[cur_traj[-1]] +=1\n",
        "                    elif player_value > dealer_value:\n",
        "                        #self.player_state_value[last_state] += 1\n",
        "                        self.player_final_rewards.append(1)\n",
        "                        #self.player_V_Values[cur_traj[-1]] +=1\n",
        "                        #self.player_state_count[cur_traj[-1]] +=1\n",
        "                        self.player_win += 1\n",
        "                    else:\n",
        "                        # draw\n",
        "                        self.player_draw += 1\n",
        "                        self.player_final_rewards.append(0)\n",
        "                        #self.player_state_count[cur_traj[-1]] +=1\n",
        "\n",
        "\n",
        "    def play(self, rounds=1000):\n",
        "        for i in range(rounds):\n",
        "            #if i % 10000 == 0:\n",
        "            #    print(\"round\", i)\n",
        "            # hit 2 cards each\n",
        "            dealer_value, player_value = 0, 0\n",
        "            show_card = 0\n",
        "\n",
        "            # give dealer 2 cards and show 1\n",
        "            dealer_value += self.giveCard()\n",
        "            show_card = dealer_value\n",
        "            dealer_value += self.giveCard()\n",
        "\n",
        "            #list of states for players\n",
        "            lis_player_states = []\n",
        "\n",
        "            # player's turn\n",
        "            # always hit if less than 12\n",
        "            usable_ace, is_end = False, False\n",
        "            while True:\n",
        "                player_value, usable_ace, is_end = self.playerPolicy(player_value, usable_ace, is_end)\n",
        "\n",
        "                if is_end:\n",
        "                    break\n",
        "                # when value goes higher than 12, record states\n",
        "                if (player_value >= 12) and (player_value <= 21):\n",
        "                    lis_player_states.append((player_value, show_card, usable_ace))\n",
        "\n",
        "\n",
        "            self.player_states.append(lis_player_states)\n",
        "            # print(\"player card sum\", player_value)\n",
        "\n",
        "            # dealer's turn\n",
        "            usable_ace, is_end = False, False\n",
        "            while not is_end:\n",
        "                dealer_value, usable_ace, is_end = self.dealerPolicy(dealer_value, usable_ace, is_end)\n",
        "            # print(\"dealer card sum\", dealer_value)\n",
        "\n",
        "            # judge winner\n",
        "\n",
        "\n",
        "            self._giveCredit(player_value, dealer_value,self.player_states[-1])\n"
      ],
      "metadata": {
        "id": "GVWLi_ljjg78"
      },
      "execution_count": 22,
      "outputs": []
    },
    {
      "cell_type": "markdown",
      "source": [
        "This is our implemented unweighted Monte Carlo **evaluation** algorithm generating trajcetories for further investigation. Mostly, the class below is borrowed from online article \"Reinforcement Learning — Solving Blackjack\" by Jeremy Zhang.  \n",
        "Except the part that we create our own list of rewards and updating state value through Unweighted Monteh Carlo update, as given in page 109-110 of textbook, \"Off-policy MC prediction (policy evaluation) for estimatin $Q\\approx q_\\pi$\" in section 5.6 and page 104 of textbook, section 5.5, **equation 5.3, 5.4 and 5.5**.  \n"
      ],
      "metadata": {
        "id": "KUnK2WHRkG-T"
      }
    },
    {
      "cell_type": "code",
      "source": [
        "class BlackJackMC_eval(object):\n",
        "    # init function borrowed from website article \"Reinforcement Learning — Solving Blackjack\"\n",
        "    # by Jeremy Zhang in towardsdatascience.com\n",
        "    # initizliation function of blackjack object\n",
        "    def __init__(self,traj,chosen_state=(13,1,True)):\n",
        "        #self.player_state_value = {}\n",
        "        self.player_states = traj[0]\n",
        "        self.player_final_rewards = traj[1]\n",
        "        self.player_V_Values={}\n",
        "        self.state_count={}\n",
        "        self.chosen_state=chosen_state\n",
        "        self.chosen_state_value = []\n",
        "\n",
        "\n",
        "        # initialise V values | (12-21) x (1-10) x (True, False) 200 in total\n",
        "\n",
        "        for i in range(12, 22):\n",
        "            for j in range(1, 11):\n",
        "                for k in [True, False]:\n",
        "                    self.player_V_Values[(i, j, k)] = 0\n",
        "                    #borrowed for my own programming assignment 2, method Monteo Carlo\n",
        "                    self.state_count[(i, j, k)]= 0\n",
        "\n",
        "\n",
        "\n",
        "\n",
        "\n",
        "    def play(self, rounds=1000):\n",
        "        for i in range(rounds):\n",
        "            #if i % 10000 == 0:\n",
        "            #    print(\"round\", i)\n",
        "\n",
        "\n",
        "            #creating list of rewards\n",
        "            rewards_here = list(np.zeros(len(self.player_states[i])-1))+[self.player_final_rewards[i]]\n",
        "\n",
        "            #estimating state-action values\n",
        "            #computing return\n",
        "            G=0\n",
        "\n",
        "            ratio=1\n",
        "            #borrowed from my own programming assignment 2 code\n",
        "            for j in range (len(self.player_states[i])-1,-1,-1):\n",
        "                G=G+rewards_here[j]\n",
        "                s_t = self.player_states[i][j]\n",
        "                self.state_count[s_t] = self.state_count[s_t]+1\n",
        "                ratio=ratio*2\n",
        "                cur_val = self.player_V_Values[s_t]\n",
        "                self.player_V_Values[s_t]=cur_val+(1/self.state_count[s_t])*(ratio*G-cur_val)\n",
        "\n",
        "            self.chosen_state_value.append(self.player_V_Values[self.chosen_state])"
      ],
      "metadata": {
        "id": "Db6q7E8pkNOo"
      },
      "execution_count": 23,
      "outputs": []
    },
    {
      "cell_type": "code",
      "source": [
        "# taking 100 runs of our Unweighted Sampling Monte Carlo Method for estimating state values.\n",
        "# Each 10000 episodes.\n",
        "# Average result over the 100 runs to compute MSE errors at different episode."
      ],
      "metadata": {
        "id": "LrHqsFDlk7wZ"
      },
      "execution_count": 24,
      "outputs": []
    },
    {
      "cell_type": "code",
      "source": [
        "state_eval = 0\n",
        "chosen_state_val_lis = []\n",
        "for ind in range(100):\n",
        "    np.random.seed(ind)\n",
        "    print(ind,\" seed: \",ind)\n",
        "    b_run = BlackJackMC_run()\n",
        "    b_run.play(10000)\n",
        "    traj=[b_run.player_states,b_run.player_final_rewards]\n",
        "    b_eval = BlackJackMC_eval(traj=traj)\n",
        "    b_eval.play(10000)\n",
        "    state_eval +=b_eval.player_V_Values[(13,1,True)]\n",
        "    chosen_state_val_lis.append(b_eval.chosen_state_value)"
      ],
      "metadata": {
        "colab": {
          "base_uri": "https://localhost:8080/"
        },
        "id": "6BsQqyNDlIyj",
        "outputId": "e504066c-aca9-4293-e820-4d500adafeb1"
      },
      "execution_count": 25,
      "outputs": [
        {
          "output_type": "stream",
          "name": "stdout",
          "text": [
            "0  seed:  0\n",
            "1  seed:  1\n",
            "2  seed:  2\n",
            "3  seed:  3\n",
            "4  seed:  4\n",
            "5  seed:  5\n",
            "6  seed:  6\n",
            "7  seed:  7\n",
            "8  seed:  8\n",
            "9  seed:  9\n",
            "10  seed:  10\n",
            "11  seed:  11\n",
            "12  seed:  12\n",
            "13  seed:  13\n",
            "14  seed:  14\n",
            "15  seed:  15\n",
            "16  seed:  16\n",
            "17  seed:  17\n",
            "18  seed:  18\n",
            "19  seed:  19\n",
            "20  seed:  20\n",
            "21  seed:  21\n",
            "22  seed:  22\n",
            "23  seed:  23\n",
            "24  seed:  24\n",
            "25  seed:  25\n",
            "26  seed:  26\n",
            "27  seed:  27\n",
            "28  seed:  28\n",
            "29  seed:  29\n",
            "30  seed:  30\n",
            "31  seed:  31\n",
            "32  seed:  32\n",
            "33  seed:  33\n",
            "34  seed:  34\n",
            "35  seed:  35\n",
            "36  seed:  36\n",
            "37  seed:  37\n",
            "38  seed:  38\n",
            "39  seed:  39\n",
            "40  seed:  40\n",
            "41  seed:  41\n",
            "42  seed:  42\n",
            "43  seed:  43\n",
            "44  seed:  44\n",
            "45  seed:  45\n",
            "46  seed:  46\n",
            "47  seed:  47\n",
            "48  seed:  48\n",
            "49  seed:  49\n",
            "50  seed:  50\n",
            "51  seed:  51\n",
            "52  seed:  52\n",
            "53  seed:  53\n",
            "54  seed:  54\n",
            "55  seed:  55\n",
            "56  seed:  56\n",
            "57  seed:  57\n",
            "58  seed:  58\n",
            "59  seed:  59\n",
            "60  seed:  60\n",
            "61  seed:  61\n",
            "62  seed:  62\n",
            "63  seed:  63\n",
            "64  seed:  64\n",
            "65  seed:  65\n",
            "66  seed:  66\n",
            "67  seed:  67\n",
            "68  seed:  68\n",
            "69  seed:  69\n",
            "70  seed:  70\n",
            "71  seed:  71\n",
            "72  seed:  72\n",
            "73  seed:  73\n",
            "74  seed:  74\n",
            "75  seed:  75\n",
            "76  seed:  76\n",
            "77  seed:  77\n",
            "78  seed:  78\n",
            "79  seed:  79\n",
            "80  seed:  80\n",
            "81  seed:  81\n",
            "82  seed:  82\n",
            "83  seed:  83\n",
            "84  seed:  84\n",
            "85  seed:  85\n",
            "86  seed:  86\n",
            "87  seed:  87\n",
            "88  seed:  88\n",
            "89  seed:  89\n",
            "90  seed:  90\n",
            "91  seed:  91\n",
            "92  seed:  92\n",
            "93  seed:  93\n",
            "94  seed:  94\n",
            "95  seed:  95\n",
            "96  seed:  96\n",
            "97  seed:  97\n",
            "98  seed:  98\n",
            "99  seed:  99\n"
          ]
        }
      ]
    },
    {
      "cell_type": "markdown",
      "source": [
        "We check our unweighted sampling Monte Carlo method's performance on estimating state value for state player sum is 13, player has an usable ace and dealer shows an ace."
      ],
      "metadata": {
        "id": "TMrv00lqnmk0"
      }
    },
    {
      "cell_type": "code",
      "source": [
        "state_eval/100"
      ],
      "metadata": {
        "colab": {
          "base_uri": "https://localhost:8080/"
        },
        "id": "zcrf0w9angQa",
        "outputId": "ce692d6f-5a48-47ac-9d63-015a3289aff4"
      },
      "execution_count": 26,
      "outputs": [
        {
          "output_type": "execute_result",
          "data": {
            "text/plain": [
              "-0.3119228288051818"
            ]
          },
          "metadata": {},
          "execution_count": 26
        }
      ]
    },
    {
      "cell_type": "code",
      "source": [
        "basline_val"
      ],
      "metadata": {
        "colab": {
          "base_uri": "https://localhost:8080/"
        },
        "id": "a-cdu19NnzIL",
        "outputId": "4a311cb5-03fb-4adc-873d-f516a099060c"
      },
      "execution_count": 27,
      "outputs": [
        {
          "output_type": "execute_result",
          "data": {
            "text/plain": [
              "-0.19499478623566194"
            ]
          },
          "metadata": {},
          "execution_count": 27
        }
      ]
    },
    {
      "cell_type": "markdown",
      "source": [
        "This is still not close from baseline value for state (13,1,True). However, the result is better compared to the case of off-policy n-Step Sarsa method's performace. For off-policy n-Step Sarsa method's case, the difference is between 0.048 and -0.19, about 0.24. In this unweighted sampling Monte Carlo Case, the difference is betwwen -0.31 and -0.19, about -0.12.     \n",
        "We will have a further check of our unweighted sampling Monte Carlo method's performance on estimating state value for state player sum is 13, player has an usable ace and dealer shows an ace through computing an mean square error of our off_policy n-step Sarsa method's estimation of state value for state (13,1,True) throughout the 10000 iterations, and averaged over all 100 runs."
      ],
      "metadata": {
        "id": "ZSFMdPGwpLgA"
      }
    },
    {
      "cell_type": "markdown",
      "source": [
        "Computing mean square error averaging our unweighted sampling Monte Carlo method over 100 runs for each of episode."
      ],
      "metadata": {
        "id": "44wlxIcJpcqd"
      }
    },
    {
      "cell_type": "code",
      "source": [
        "MSE_UW_col = []\n",
        "\n",
        "for iter in range(0,10000):\n",
        "    MSE = 0\n",
        "    N=0\n",
        "    for j in range(0,100):\n",
        "        N=N+1\n",
        "        mse_cur = (chosen_state_val_lis[j][iter]-basline_val)**2\n",
        "        MSE = MSE+(1/N)*(mse_cur-MSE)\n",
        "    MSE_UW_col.append(MSE)"
      ],
      "metadata": {
        "id": "N9wvM2NgpaNX"
      },
      "execution_count": 28,
      "outputs": []
    },
    {
      "cell_type": "code",
      "source": [
        "plt.plot(MSE_UW_col)\n",
        "plt.title(\"MSE plot for Unweighted sampling Monte Carlo method\")\n",
        "plt.ylabel(\"Mean square error, average over 100 runs\")\n",
        "plt.xlabel(\"episodes\")"
      ],
      "metadata": {
        "colab": {
          "base_uri": "https://localhost:8080/",
          "height": 489
        },
        "id": "mowhIa0_pxjk",
        "outputId": "bf8c65f9-adba-4bb5-c6cc-4e6e12d82051"
      },
      "execution_count": 29,
      "outputs": [
        {
          "output_type": "execute_result",
          "data": {
            "text/plain": [
              "Text(0.5, 0, 'episodes')"
            ]
          },
          "metadata": {},
          "execution_count": 29
        },
        {
          "output_type": "display_data",
          "data": {
            "text/plain": [
              "<Figure size 640x480 with 1 Axes>"
            ],
            "image/png": "[encoded data removed]"
          },
          "metadata": {}
        }
      ]
    },
    {
      "cell_type": "markdown",
      "source": [
        "The estimation error is generatlly far worse compared to the plot for n-step Sarsa, with MSE error staying below 0.225.  \n",
        "  \n",
        "However, the trend of MSE shown in plot for unweighted sampling Monte Carlo method is better, with a clear trend of decreasing MSE after around 3000 episodes.  "
      ],
      "metadata": {
        "id": "ynj3HbicqoSj"
      }
    },
    {
      "cell_type": "markdown",
      "source": [
        "This is probably due to the fact that in our unweighted importance sampling Monte Carlo method, each state value is updated by only a ratio of 2 multiplying the return G, which means any error in our unweighted importance sampling Monte Carlo method enlarge and propagate at a smaller scale compared to that of off policy n-step Sarsa method."
      ],
      "metadata": {
        "id": "WZv68BolrHM_"
      }
    },
    {
      "cell_type": "markdown",
      "source": [
        "Now we try to figure out a epsilon-greedy policy for playing blackjack by using our unweighted sampling Monte Carlo method."
      ],
      "metadata": {
        "id": "hoY5aKbprhhS"
      }
    },
    {
      "cell_type": "markdown",
      "source": [
        "This is our implemented unweighted Monte Carlo **control** algorithm finding a best policy of playing Blackjack. Mostly, the class below is borrowed from online article \"Reinforcement Learning — Solving Blackjack\" by Jeremy Zhang.  \n",
        "Except the part that we create our own list of rewards and updating state value through Unweighted Monteh Carlo update, as given in page 109-110 of textbook, \"Off-policy MC prediction (policy evaluation) for estimatin $Q\\approx q_\\pi$\" in section 5.6 and page 104 of textbook, section 5.5, **equation 5.3, 5.4 and 5.5**.  \n",
        "For the playerpolicy function below, the part of using a policy probability to choose action is inspired by programming assignment 1 skelenton code. The rest of parts are borrowed from online article \"Reinforcement Learning — Solving Blackjack\" by Jeremy Zhang.      \n"
      ],
      "metadata": {
        "id": "QeeVXECMr6zz"
      }
    },
    {
      "cell_type": "code",
      "source": [
        "class BlackJackMC_control(object):\n",
        "    # init function borrowed from website article \"Reinforcement Learning — Solving Blackjack\"\n",
        "    # by Jeremy Zhang in towardsdatascience.com\n",
        "    # initizliation function of blackjack object\n",
        "    def __init__(self,epsilon=0.1):\n",
        "        #self.player_state_value = {}\n",
        "        self.epsilon=epsilon\n",
        "        self.trajs = []\n",
        "        self.player_Q_Values={}\n",
        "        self.state_action_count={}\n",
        "        self.policy = {} #initialize a epsilon-soft policy\n",
        "        self.player_states = []\n",
        "        self.player_final_rewards=[]\n",
        "        self.player_draw = 0\n",
        "        self.player_win=0\n",
        "\n",
        "\n",
        "        # initialise V values | (12-21) x (1-10) x (True, False) x (1,0) 400 in total\n",
        "\n",
        "        for i in range(12, 22):\n",
        "            for j in range(1, 11):\n",
        "                for k in [True, False]:\n",
        "                    self.player_Q_Values[(i, j, k)] = {}\n",
        "                    self.player_Q_Values[(i,j,k)][1]=0\n",
        "                    self.player_Q_Values[(i,j,k)][0]=0\n",
        "                    self.state_action_count[(i, j, k)]={}\n",
        "                    self.state_action_count[(i, j, k)][1] = 0\n",
        "                    self.state_action_count[(i, j, k)][0] = 0\n",
        "                    self.policy[(i,j,k)]=[0.5,0.5]\n",
        "    # give card\n",
        "    # give card function borrowed from website article \"Reinforcement Learning — Solving Blackjack\"\n",
        "    # by Jeremy Zhang in towardsdatascience.com\n",
        "    @staticmethod\n",
        "    def giveCard():\n",
        "        # 1 stands for ace\n",
        "        c_list = list(range(1, 11)) + [10, 10, 10]\n",
        "        return np.random.choice(c_list)\n",
        "    # dealer policy and player policy function borrowed from website article\n",
        "    # \"Reinforcement Learning — Solving Blackjack\"\n",
        "    # by Jeremy Zhang in towardsdatascience.com\n",
        "    def dealerPolicy(self, current_value, usable_ace, is_end):\n",
        "        if current_value > 21:\n",
        "            if usable_ace:\n",
        "                current_value -= 10\n",
        "                usable_ace = False\n",
        "            else:\n",
        "                return current_value, usable_ace, True\n",
        "        # HIT17\n",
        "        if current_value >= 17:\n",
        "            return current_value, usable_ace, True\n",
        "        else:\n",
        "            card = self.giveCard()\n",
        "            if card == 1:\n",
        "                if current_value <= 10:\n",
        "                    return current_value+11, True, False\n",
        "                return current_value+1, usable_ace, False\n",
        "            else:\n",
        "                return current_value+card, usable_ace, False\n",
        "\n",
        "    # one can only has 1 usable ace\n",
        "    def playerPolicy(self, current_value, show_card, usable_ace, is_end):\n",
        "        if current_value > 21:\n",
        "            if usable_ace:\n",
        "                current_value -= 10\n",
        "                usable_ace = False\n",
        "            else:\n",
        "                return current_value, usable_ace, None, True\n",
        "\n",
        "        #always hit when total sum smaller than 12\n",
        "        if current_value < 12:\n",
        "            card = self.giveCard()\n",
        "            if card == 1:\n",
        "                if current_value <= 10:\n",
        "                    return current_value+11, True, 1, False\n",
        "                return current_value+1, usable_ace, 1, False\n",
        "            else:\n",
        "                return current_value+card, usable_ace, 1, False\n",
        "        # epsilon-soft policy here performed\n",
        "        action = np.random.choice([0,1],p=self.policy[(current_value,show_card,usable_ace)])\n",
        "        if action==0:\n",
        "            return current_value, usable_ace, 0, True\n",
        "        else:\n",
        "            card = self.giveCard()\n",
        "            if card == 1:\n",
        "                if current_value <= 10:\n",
        "                    return current_value+11, True, 1, False\n",
        "                return current_value+1, usable_ace, 1, False\n",
        "            else:\n",
        "                return current_value+card, usable_ace, 1, False\n",
        "\n",
        "\n",
        "    # give credit function borrowed from website article\n",
        "    # \"Reinforcement Learning — Solving Blackjack\"\n",
        "    # by Jeremy Zhang in towardsdatascience.com\n",
        "    def _giveCredit(self, player_value, dealer_value, cur_traj, is_end=True):\n",
        "        if is_end:\n",
        "            if player_value > 21:\n",
        "                if dealer_value > 21:\n",
        "                    # draw\n",
        "                    self.player_draw += 1\n",
        "                    self.player_final_rewards.append(0)\n",
        "                else:\n",
        "                    self.player_final_rewards.append(-1)\n",
        "            else:\n",
        "                if dealer_value > 21:\n",
        "                    self.player_final_rewards.append(1)\n",
        "                    self.player_win += 1\n",
        "                else:\n",
        "                    if player_value < dealer_value:\n",
        "                        self.player_final_rewards.append(-1)\n",
        "                    elif player_value > dealer_value:\n",
        "                        self.player_final_rewards.append(1)\n",
        "                        self.player_win += 1\n",
        "                    else:\n",
        "                        # draw\n",
        "                        self.player_draw += 1\n",
        "                        self.player_final_rewards.append(0)\n",
        "    def play(self, rounds=1000):\n",
        "        for i in range(rounds):\n",
        "            if i % 10000 == 0:\n",
        "                print(\"round\", i)\n",
        "\n",
        "\n",
        "\n",
        "\n",
        "            # hit 2 cards each\n",
        "            dealer_value, player_value = 0, 0\n",
        "            show_card = 0\n",
        "\n",
        "            # give dealer 2 cards and show 1\n",
        "            dealer_value += self.giveCard()\n",
        "            show_card = dealer_value\n",
        "            dealer_value += self.giveCard()\n",
        "\n",
        "            #list of states for players\n",
        "            lis_player_states = []\n",
        "\n",
        "            #col of actions\n",
        "            col_actions = {}\n",
        "            # player's turn\n",
        "            # always hit if less than 12\n",
        "            usable_ace, is_end = False, False\n",
        "            while True:\n",
        "\n",
        "                player_value, usable_ace, action, is_end = self.playerPolicy(player_value, show_card, usable_ace, is_end)\n",
        "                col_actions[(player_value, show_card, usable_ace)]=action\n",
        "\n",
        "                # when value goes higher than 12, record states\n",
        "                if (player_value >= 12) and (player_value <= 21):\n",
        "                    lis_player_states.append((player_value, show_card, usable_ace))\n",
        "\n",
        "                    #self.player_state_count[(player_value, show_card, usable_ace)]+=1\n",
        "\n",
        "                if is_end:\n",
        "                    break\n",
        "\n",
        "            self.player_states.append(lis_player_states)\n",
        "            # print(\"player card sum\", player_value)\n",
        "\n",
        "            # dealer's turn\n",
        "            usable_ace, is_end = False, False\n",
        "            while not is_end:\n",
        "                dealer_value, usable_ace, is_end = self.dealerPolicy(dealer_value, usable_ace, is_end)\n",
        "\n",
        "            # judge winner\n",
        "            # set intermediate state to 0\n",
        "            #for s in self.player_states:\n",
        "            #    self.player_state_value[s] = 0 if self.player_state_value.get(s) is None else self.player_state_value.get(s)\n",
        "\n",
        "            self._giveCredit(player_value, dealer_value,self.player_states[-1])\n",
        "\n",
        "            #creating list of rewards\n",
        "            rewards_here = list(np.zeros(len(self.player_states[i])-1))+[self.player_final_rewards[i]]\n",
        "\n",
        "\n",
        "            #estimating state-action values\n",
        "            G=0\n",
        "\n",
        "            ratio=1\n",
        "            #borrowed from my own programming assignment 2 code\n",
        "            for j in range (len(self.player_states[i])-1,-1,-1):\n",
        "                G=G+rewards_here[j]\n",
        "                s_t = self.player_states[i][j]\n",
        "                a_t= col_actions[s_t]\n",
        "                self.state_action_count[s_t][a_t] = self.state_action_count[s_t][a_t]+1\n",
        "                rt = self.policy[s_t][a_t] / 0.5\n",
        "                ratio=ratio*rt\n",
        "                cur_val = self.player_Q_Values[s_t][a_t]\n",
        "                N = self.state_action_count[s_t][a_t]\n",
        "                self.player_Q_Values[s_t][a_t]=cur_val+(1/N)*(ratio*G-cur_val)\n",
        "\n",
        "                a_star = np.argmax([self.player_Q_Values[s_t][0],self.player_Q_Values[s_t][1]])\n",
        "\n",
        "                for a in range(2):\n",
        "                    if a==a_star:\n",
        "                        self.policy[s_t][a]=1-self.epsilon+self.epsilon/2\n",
        "                    else:\n",
        "                        self.policy[s_t][a]=self.epsilon/2\n",
        "\n"
      ],
      "metadata": {
        "id": "2yAYvVzjr53e"
      },
      "execution_count": 75,
      "outputs": []
    },
    {
      "cell_type": "markdown",
      "source": [
        "We develop an averaged policy for playing Blakcjack through using 5 seeds, and averaging the policy probabilities generated by the 5 seeds, 300 to 304."
      ],
      "metadata": {
        "id": "rXpZksBCtdHZ"
      }
    },
    {
      "cell_type": "code",
      "source": [
        "policies_UW_MonteCarlo = []\n",
        "for i in range(300,305):\n",
        "    np.random.seed(i)\n",
        "    b_UWMC_control = BlackJackMC_control()\n",
        "    b_UWMC_control.play(rounds=10000)\n",
        "    policies_UW_MonteCarlo.append(b_UWMC_control.policy)"
      ],
      "metadata": {
        "colab": {
          "base_uri": "https://localhost:8080/"
        },
        "id": "lFn3ISg6qld5",
        "outputId": "bd528b59-5dfa-4ed4-ce6c-6cc1b8e492e5"
      },
      "execution_count": 76,
      "outputs": [
        {
          "output_type": "stream",
          "name": "stdout",
          "text": [
            "round 0\n",
            "round 0\n",
            "round 0\n",
            "round 0\n",
            "round 0\n"
          ]
        }
      ]
    },
    {
      "cell_type": "code",
      "source": [
        "final_policy_UW_MonteCarlo = {}\n",
        "for i in range(12, 22):\n",
        "    for j in range(1, 11):\n",
        "        for k in [True, False]:\n",
        "            final_policy_UW_MonteCarlo[(i,j,k)]=[0,0]\n",
        "N=0\n",
        "for ind in range(0,5):\n",
        "    N=N+1\n",
        "    for i in range(12, 22):\n",
        "        for j in range(1, 11):\n",
        "            for k in [True, False]:\n",
        "                update_prob=policies_UW_MonteCarlo[ind][(i,j,k)]\n",
        "                cur_prob=final_policy_UW_MonteCarlo[(i,j,k)]\n",
        "\n",
        "                final_policy_UW_MonteCarlo[(i,j,k)][0]=cur_prob[0]+(1/N)*(update_prob[0]-cur_prob[0])\n",
        "                final_policy_UW_MonteCarlo[(i,j,k)][1]=cur_prob[1]+(1/N)*(update_prob[1]-cur_prob[1])"
      ],
      "metadata": {
        "id": "W-zdd4ass-uQ"
      },
      "execution_count": 77,
      "outputs": []
    },
    {
      "cell_type": "code",
      "source": [
        "final_policy_UW_MonteCarlo"
      ],
      "metadata": {
        "colab": {
          "base_uri": "https://localhost:8080/"
        },
        "id": "VyzAkpB7tuFg",
        "outputId": "f55b09d4-5906-442d-b2f1-f6dcb0f90386"
      },
      "execution_count": 78,
      "outputs": [
        {
          "output_type": "execute_result",
          "data": {
            "text/plain": [
              "{(12, 1, True): [0.22999999999999998, 0.7700000000000001],\n",
              " (12, 1, False): [0.05, 0.9500000000000001],\n",
              " (12, 2, True): [0.5900000000000001, 0.41],\n",
              " (12, 2, False): [0.41, 0.5900000000000001],\n",
              " (12, 3, True): [0.41, 0.5900000000000001],\n",
              " (12, 3, False): [0.9500000000000001, 0.05],\n",
              " (12, 4, True): [0.41, 0.5900000000000001],\n",
              " (12, 4, False): [0.23, 0.7700000000000001],\n",
              " (12, 5, True): [0.5900000000000001, 0.41],\n",
              " (12, 5, False): [0.23000000000000004, 0.77],\n",
              " (12, 6, True): [0.41, 0.5900000000000001],\n",
              " (12, 6, False): [0.22999999999999998, 0.7700000000000001],\n",
              " (12, 7, True): [0.5900000000000001, 0.41000000000000003],\n",
              " (12, 7, False): [0.41, 0.5900000000000001],\n",
              " (12, 8, True): [0.5900000000000001, 0.41],\n",
              " (12, 8, False): [0.22999999999999998, 0.7700000000000001],\n",
              " (12, 9, True): [0.77, 0.23000000000000004],\n",
              " (12, 9, False): [0.22999999999999998, 0.7700000000000001],\n",
              " (12, 10, True): [0.41, 0.5900000000000001],\n",
              " (12, 10, False): [0.22999999999999998, 0.7700000000000001],\n",
              " (13, 1, True): [0.7700000000000001, 0.22999999999999998],\n",
              " (13, 1, False): [0.5900000000000001, 0.41],\n",
              " (13, 2, True): [0.5900000000000001, 0.4100000000000001],\n",
              " (13, 2, False): [0.7700000000000001, 0.22999999999999998],\n",
              " (13, 3, True): [0.7700000000000001, 0.22999999999999998],\n",
              " (13, 3, False): [0.5900000000000001, 0.41],\n",
              " (13, 4, True): [0.41, 0.5900000000000001],\n",
              " (13, 4, False): [0.7700000000000001, 0.22999999999999998],\n",
              " (13, 5, True): [0.7700000000000001, 0.22999999999999998],\n",
              " (13, 5, False): [0.22999999999999998, 0.7700000000000001],\n",
              " (13, 6, True): [0.5900000000000001, 0.41],\n",
              " (13, 6, False): [0.41, 0.5900000000000001],\n",
              " (13, 7, True): [0.22999999999999998, 0.7700000000000001],\n",
              " (13, 7, False): [0.05, 0.9500000000000001],\n",
              " (13, 8, True): [0.4100000000000001, 0.5900000000000001],\n",
              " (13, 8, False): [0.22999999999999998, 0.7700000000000001],\n",
              " (13, 9, True): [0.41, 0.5900000000000001],\n",
              " (13, 9, False): [0.41, 0.5900000000000001],\n",
              " (13, 10, True): [0.5900000000000001, 0.41],\n",
              " (13, 10, False): [0.05, 0.9500000000000001],\n",
              " (14, 1, True): [0.41, 0.5900000000000001],\n",
              " (14, 1, False): [0.7700000000000001, 0.22999999999999998],\n",
              " (14, 2, True): [0.7700000000000001, 0.22999999999999998],\n",
              " (14, 2, False): [0.22999999999999998, 0.7700000000000001],\n",
              " (14, 3, True): [0.22999999999999998, 0.7700000000000001],\n",
              " (14, 3, False): [0.5900000000000001, 0.41],\n",
              " (14, 4, True): [0.7700000000000001, 0.22999999999999998],\n",
              " (14, 4, False): [0.23000000000000004, 0.77],\n",
              " (14, 5, True): [0.22999999999999998, 0.7700000000000001],\n",
              " (14, 5, False): [0.41, 0.5900000000000001],\n",
              " (14, 6, True): [0.5900000000000001, 0.41],\n",
              " (14, 6, False): [0.5900000000000001, 0.41],\n",
              " (14, 7, True): [0.41, 0.5900000000000001],\n",
              " (14, 7, False): [0.41, 0.5900000000000001],\n",
              " (14, 8, True): [0.9500000000000001, 0.05],\n",
              " (14, 8, False): [0.23, 0.7700000000000001],\n",
              " (14, 9, True): [0.41, 0.5900000000000001],\n",
              " (14, 9, False): [0.22999999999999998, 0.7700000000000001],\n",
              " (14, 10, True): [0.41, 0.5900000000000001],\n",
              " (14, 10, False): [0.05, 0.9500000000000001],\n",
              " (15, 1, True): [0.5900000000000001, 0.41],\n",
              " (15, 1, False): [0.23, 0.7700000000000001],\n",
              " (15, 2, True): [0.5900000000000001, 0.41],\n",
              " (15, 2, False): [0.41, 0.5900000000000001],\n",
              " (15, 3, True): [0.5900000000000001, 0.41],\n",
              " (15, 3, False): [0.41, 0.5900000000000001],\n",
              " (15, 4, True): [0.5900000000000001, 0.4100000000000001],\n",
              " (15, 4, False): [0.23000000000000004, 0.77],\n",
              " (15, 5, True): [0.23, 0.7700000000000001],\n",
              " (15, 5, False): [0.5900000000000001, 0.41],\n",
              " (15, 6, True): [0.41, 0.5900000000000001],\n",
              " (15, 6, False): [0.5900000000000001, 0.41000000000000003],\n",
              " (15, 7, True): [0.5900000000000001, 0.41],\n",
              " (15, 7, False): [0.22999999999999998, 0.7700000000000001],\n",
              " (15, 8, True): [0.41000000000000003, 0.5900000000000001],\n",
              " (15, 8, False): [0.05, 0.9500000000000001],\n",
              " (15, 9, True): [0.5900000000000001, 0.41],\n",
              " (15, 9, False): [0.22999999999999998, 0.7700000000000001],\n",
              " (15, 10, True): [0.5900000000000001, 0.41],\n",
              " (15, 10, False): [0.05, 0.9500000000000001],\n",
              " (16, 1, True): [0.41, 0.5900000000000001],\n",
              " (16, 1, False): [0.5900000000000001, 0.4100000000000001],\n",
              " (16, 2, True): [0.41, 0.5900000000000001],\n",
              " (16, 2, False): [0.05, 0.9500000000000001],\n",
              " (16, 3, True): [0.5900000000000001, 0.4100000000000001],\n",
              " (16, 3, False): [0.41, 0.5900000000000001],\n",
              " (16, 4, True): [0.5900000000000001, 0.41],\n",
              " (16, 4, False): [0.41, 0.5900000000000001],\n",
              " (16, 5, True): [0.23000000000000004, 0.77],\n",
              " (16, 5, False): [0.23000000000000004, 0.77],\n",
              " (16, 6, True): [0.41, 0.5900000000000001],\n",
              " (16, 6, False): [0.41, 0.5900000000000001],\n",
              " (16, 7, True): [0.22999999999999998, 0.7700000000000001],\n",
              " (16, 7, False): [0.22999999999999998, 0.7700000000000001],\n",
              " (16, 8, True): [0.5900000000000001, 0.41],\n",
              " (16, 8, False): [0.23, 0.7700000000000001],\n",
              " (16, 9, True): [0.41, 0.5900000000000001],\n",
              " (16, 9, False): [0.05, 0.9500000000000001],\n",
              " (16, 10, True): [0.5900000000000001, 0.41],\n",
              " (16, 10, False): [0.05, 0.9500000000000001],\n",
              " (17, 1, True): [0.41, 0.5900000000000001],\n",
              " (17, 1, False): [0.7700000000000001, 0.23],\n",
              " (17, 2, True): [0.41, 0.5900000000000001],\n",
              " (17, 2, False): [0.5900000000000001, 0.41],\n",
              " (17, 3, True): [0.7700000000000001, 0.23],\n",
              " (17, 3, False): [0.7700000000000001, 0.22999999999999998],\n",
              " (17, 4, True): [0.22999999999999998, 0.7700000000000001],\n",
              " (17, 4, False): [0.7700000000000001, 0.22999999999999998],\n",
              " (17, 5, True): [0.5900000000000001, 0.41],\n",
              " (17, 5, False): [0.23000000000000004, 0.77],\n",
              " (17, 6, True): [0.22999999999999998, 0.7700000000000001],\n",
              " (17, 6, False): [0.22999999999999998, 0.7700000000000001],\n",
              " (17, 7, True): [0.7700000000000001, 0.23],\n",
              " (17, 7, False): [0.5900000000000001, 0.41],\n",
              " (17, 8, True): [0.41, 0.5900000000000001],\n",
              " (17, 8, False): [0.41, 0.5900000000000001],\n",
              " (17, 9, True): [0.7700000000000001, 0.22999999999999998],\n",
              " (17, 9, False): [0.41000000000000003, 0.5900000000000001],\n",
              " (17, 10, True): [0.41, 0.5900000000000001],\n",
              " (17, 10, False): [0.05, 0.9500000000000001],\n",
              " (18, 1, True): [0.7700000000000001, 0.23],\n",
              " (18, 1, False): [0.9500000000000001, 0.05],\n",
              " (18, 2, True): [0.7700000000000001, 0.23],\n",
              " (18, 2, False): [0.7700000000000001, 0.22999999999999998],\n",
              " (18, 3, True): [0.5900000000000001, 0.4100000000000001],\n",
              " (18, 3, False): [0.9500000000000001, 0.05],\n",
              " (18, 4, True): [0.7700000000000001, 0.22999999999999998],\n",
              " (18, 4, False): [0.9500000000000001, 0.05],\n",
              " (18, 5, True): [0.41, 0.5900000000000001],\n",
              " (18, 5, False): [0.77, 0.23000000000000004],\n",
              " (18, 6, True): [0.23, 0.7700000000000001],\n",
              " (18, 6, False): [0.9500000000000001, 0.05],\n",
              " (18, 7, True): [0.7700000000000001, 0.23],\n",
              " (18, 7, False): [0.9500000000000001, 0.05],\n",
              " (18, 8, True): [0.77, 0.23000000000000004],\n",
              " (18, 8, False): [0.9500000000000001, 0.05],\n",
              " (18, 9, True): [0.41, 0.5900000000000001],\n",
              " (18, 9, False): [0.77, 0.23000000000000004],\n",
              " (18, 10, True): [0.5900000000000001, 0.41],\n",
              " (18, 10, False): [0.41, 0.5900000000000001],\n",
              " (19, 1, True): [0.5900000000000001, 0.41],\n",
              " (19, 1, False): [0.9500000000000001, 0.05],\n",
              " (19, 2, True): [0.22999999999999998, 0.7700000000000001],\n",
              " (19, 2, False): [0.9500000000000001, 0.05],\n",
              " (19, 3, True): [0.7700000000000001, 0.22999999999999998],\n",
              " (19, 3, False): [0.7700000000000001, 0.23],\n",
              " (19, 4, True): [0.77, 0.23000000000000004],\n",
              " (19, 4, False): [0.7700000000000001, 0.22999999999999998],\n",
              " (19, 5, True): [0.5900000000000001, 0.41],\n",
              " (19, 5, False): [0.9500000000000001, 0.05],\n",
              " (19, 6, True): [0.7700000000000001, 0.23],\n",
              " (19, 6, False): [0.5900000000000001, 0.41],\n",
              " (19, 7, True): [0.41, 0.5900000000000001],\n",
              " (19, 7, False): [0.9500000000000001, 0.05],\n",
              " (19, 8, True): [0.7700000000000001, 0.22999999999999998],\n",
              " (19, 8, False): [0.9500000000000001, 0.05],\n",
              " (19, 9, True): [0.77, 0.23000000000000004],\n",
              " (19, 9, False): [0.9500000000000001, 0.05],\n",
              " (19, 10, True): [0.23000000000000004, 0.77],\n",
              " (19, 10, False): [0.9500000000000001, 0.05],\n",
              " (20, 1, True): [0.7700000000000001, 0.22999999999999998],\n",
              " (20, 1, False): [0.9500000000000001, 0.05],\n",
              " (20, 2, True): [0.9500000000000001, 0.05],\n",
              " (20, 2, False): [0.9500000000000001, 0.05],\n",
              " (20, 3, True): [0.7700000000000001, 0.22999999999999998],\n",
              " (20, 3, False): [0.9500000000000001, 0.05],\n",
              " (20, 4, True): [0.77, 0.23000000000000004],\n",
              " (20, 4, False): [0.9500000000000001, 0.05],\n",
              " (20, 5, True): [0.7700000000000001, 0.22999999999999998],\n",
              " (20, 5, False): [0.9500000000000001, 0.05],\n",
              " (20, 6, True): [0.77, 0.23000000000000004],\n",
              " (20, 6, False): [0.9500000000000001, 0.05],\n",
              " (20, 7, True): [0.9500000000000001, 0.05],\n",
              " (20, 7, False): [0.9500000000000001, 0.05],\n",
              " (20, 8, True): [0.9500000000000001, 0.05],\n",
              " (20, 8, False): [0.9500000000000001, 0.05],\n",
              " (20, 9, True): [0.9500000000000001, 0.05],\n",
              " (20, 9, False): [0.9500000000000001, 0.05],\n",
              " (20, 10, True): [0.9500000000000001, 0.05],\n",
              " (20, 10, False): [0.9500000000000001, 0.05],\n",
              " (21, 1, True): [0.9500000000000001, 0.05],\n",
              " (21, 1, False): [0.9500000000000001, 0.05],\n",
              " (21, 2, True): [0.9500000000000001, 0.05],\n",
              " (21, 2, False): [0.9500000000000001, 0.05],\n",
              " (21, 3, True): [0.7700000000000001, 0.22999999999999998],\n",
              " (21, 3, False): [0.9500000000000001, 0.05],\n",
              " (21, 4, True): [0.9500000000000001, 0.05],\n",
              " (21, 4, False): [0.9500000000000001, 0.05],\n",
              " (21, 5, True): [0.7700000000000001, 0.22999999999999998],\n",
              " (21, 5, False): [0.9500000000000001, 0.05],\n",
              " (21, 6, True): [0.9500000000000001, 0.05],\n",
              " (21, 6, False): [0.9500000000000001, 0.05],\n",
              " (21, 7, True): [0.9500000000000001, 0.05],\n",
              " (21, 7, False): [0.9500000000000001, 0.05],\n",
              " (21, 8, True): [0.9500000000000001, 0.05],\n",
              " (21, 8, False): [0.9500000000000001, 0.05],\n",
              " (21, 9, True): [0.9500000000000001, 0.05],\n",
              " (21, 9, False): [0.9500000000000001, 0.05],\n",
              " (21, 10, True): [0.9500000000000001, 0.05],\n",
              " (21, 10, False): [0.9500000000000001, 0.05]}"
            ]
          },
          "metadata": {},
          "execution_count": 78
        }
      ]
    },
    {
      "cell_type": "code",
      "source": [
        "np.random.seed(500)\n",
        "UWMC_rerun=BlackJack_estimate_rerun(policy_prob=final_policy_UW_MonteCarlo)\n",
        "UWMC_rerun.play(10000)\n",
        "UWMC_rerun.player_win,UWMC_rerun.player_draw,UWMC_rerun.player_lose"
      ],
      "metadata": {
        "colab": {
          "base_uri": "https://localhost:8080/"
        },
        "id": "DJ7wJrJEt5Sz",
        "outputId": "1ba58109-ba0a-4679-ed35-380150ecff05"
      },
      "execution_count": 79,
      "outputs": [
        {
          "output_type": "execute_result",
          "data": {
            "text/plain": [
              "(3927, 1691, 4382)"
            ]
          },
          "metadata": {},
          "execution_count": 79
        }
      ]
    },
    {
      "cell_type": "code",
      "source": [
        "print(\"Unweighted sampling Monte Carlo winning rate: \",UWMC_rerun.player_win/10000)\n",
        "print(\"Unweighted sampling Monte Carlo draw rate: \",UWMC_rerun.player_draw/10000)"
      ],
      "metadata": {
        "colab": {
          "base_uri": "https://localhost:8080/"
        },
        "id": "zbOodYqpuqAq",
        "outputId": "91bafe21-690b-43d8-fab2-a1e5229998f3"
      },
      "execution_count": 80,
      "outputs": [
        {
          "output_type": "stream",
          "name": "stdout",
          "text": [
            "Unweighted sampling Monte Carlo winning rate:  0.3927\n",
            "Unweighted sampling Monte Carlo draw rate:  0.1691\n"
          ]
        }
      ]
    },
    {
      "cell_type": "markdown",
      "source": [
        "Unfortunately we still fail to beat the dealer, however, we managed to have an improved winning rate from the original 1000000 runs with our fit policy and an improved winning rate over the case of off policy n_step Sarsa method.  \n",
        "The improvement is from 30.6% to 37.4% by off policy n_step Sarsa method and finally to 39.27% by unweighted sampling Monte Carlo method.  \n",
        "However, slightly lower than 39.97% by n-Step TD method."
      ],
      "metadata": {
        "id": "8Bho0MFEuXTT"
      }
    },
    {
      "cell_type": "markdown",
      "source": [
        "## Section: Weighted Monte Carlo"
      ],
      "metadata": {
        "id": "weAnxxU2_YLm"
      }
    },
    {
      "cell_type": "markdown",
      "source": [
        "This is our implemented Weighted Monte Carlo evaluation algorithm generating trajcetories for further investigation. Mostly, the class below is borrowed from online article \"Reinforcement Learning — Solving Blackjack\" by Jeremy Zhang.\n",
        "Except the part that we create our own list of rewards and updating state value through Unweighted Monteh Carlo update, as given in page 109-110 of textbook, \"Off-policy MC prediction (policy evaluation) for estimatin  Q≈qπ \" in section 5.6 and page 104 of textbook, section 5.5, equation 5.3, 5.4 and 5.5."
      ],
      "metadata": {
        "id": "5O2Pd7DiAPIJ"
      }
    },
    {
      "cell_type": "code",
      "source": [
        "class BlackJack_WMC_eval(object):\n",
        "    # init function borrowed from website article \"Reinforcement Learning — Solving Blackjack\"\n",
        "    # by Jeremy Zhang in towardsdatascience.com\n",
        "    # initizliation function of blackjack object\n",
        "    def __init__(self,traj,chosen_state=(13,1,True)):\n",
        "        #self.player_state_value = {}\n",
        "        self.player_states = traj[0]\n",
        "        self.player_final_rewards = traj[1]\n",
        "        self.player_V_Values={}\n",
        "        self.state_count={}\n",
        "        self.chosen_state=chosen_state\n",
        "        self.chosen_state_value = []\n",
        "\n",
        "\n",
        "        # initialise V values | (12-21) x (1-10) x (True, False) 200 in total\n",
        "\n",
        "        for i in range(12, 22):\n",
        "            for j in range(1, 11):\n",
        "                for k in [True, False]:\n",
        "                    self.player_V_Values[(i, j, k)] = 0\n",
        "                    #borrowed for my own programming assignment 2, method Monteo Carlo\n",
        "                    self.state_count[(i, j, k)]= 0\n",
        "\n",
        "\n",
        "\n",
        "\n",
        "\n",
        "    def play(self, rounds=1000):\n",
        "        for i in range(rounds):\n",
        "            #if i % 10000 == 0:\n",
        "            #    print(\"round\", i)\n",
        "\n",
        "\n",
        "            #creating list of rewards\n",
        "            rewards_here = list(np.zeros(len(self.player_states[i])-1))+[self.player_final_rewards[i]]\n",
        "\n",
        "            #estimating state-action values\n",
        "            #computing return\n",
        "            G=0\n",
        "\n",
        "            W=1\n",
        "            #borrowed from my own programming assignment 2 code\n",
        "            for j in range (len(self.player_states[i])-1,-1,-1):\n",
        "                G=G+rewards_here[j]\n",
        "                s_t = self.player_states[i][j]\n",
        "                self.state_count[s_t] = self.state_count[s_t]+W\n",
        "                cur_val = self.player_V_Values[s_t]\n",
        "                self.player_V_Values[s_t]=cur_val+(W/self.state_count[s_t])*(G-cur_val)\n",
        "                W=W*2\n",
        "\n",
        "            self.chosen_state_value.append(self.player_V_Values[self.chosen_state])"
      ],
      "metadata": {
        "id": "ce9uvft2uPSv"
      },
      "execution_count": 81,
      "outputs": []
    },
    {
      "cell_type": "code",
      "source": [],
      "metadata": {
        "id": "6t5mYKLyC_vN"
      },
      "execution_count": null,
      "outputs": []
    },
    {
      "cell_type": "code",
      "source": [
        "state_eval = 0\n",
        "chosen_state_val_lis_02 = []\n",
        "for ind in range(100):\n",
        "    np.random.seed(ind)\n",
        "    print(\" seed: \",ind)\n",
        "    b_run = BlackJackMC_run()\n",
        "    b_run.play(10000)\n",
        "    traj=[b_run.player_states,b_run.player_final_rewards]\n",
        "    b_W_eval = BlackJack_WMC_eval(traj=traj)\n",
        "    b_W_eval.play(10000)\n",
        "    state_eval +=b_W_eval.player_V_Values[(13,1,True)]\n",
        "    chosen_state_val_lis_02.append(b_W_eval.chosen_state_value)"
      ],
      "metadata": {
        "colab": {
          "base_uri": "https://localhost:8080/"
        },
        "outputId": "db304784-2056-40f5-9859-ba5d438baa67",
        "id": "VrAR_7Q1DBBF"
      },
      "execution_count": 82,
      "outputs": [
        {
          "output_type": "stream",
          "name": "stdout",
          "text": [
            " seed:  0\n",
            " seed:  1\n",
            " seed:  2\n",
            " seed:  3\n",
            " seed:  4\n",
            " seed:  5\n",
            " seed:  6\n",
            " seed:  7\n",
            " seed:  8\n",
            " seed:  9\n",
            " seed:  10\n",
            " seed:  11\n",
            " seed:  12\n",
            " seed:  13\n",
            " seed:  14\n",
            " seed:  15\n",
            " seed:  16\n",
            " seed:  17\n",
            " seed:  18\n",
            " seed:  19\n",
            " seed:  20\n",
            " seed:  21\n",
            " seed:  22\n",
            " seed:  23\n",
            " seed:  24\n",
            " seed:  25\n",
            " seed:  26\n",
            " seed:  27\n",
            " seed:  28\n",
            " seed:  29\n",
            " seed:  30\n",
            " seed:  31\n",
            " seed:  32\n",
            " seed:  33\n",
            " seed:  34\n",
            " seed:  35\n",
            " seed:  36\n",
            " seed:  37\n",
            " seed:  38\n",
            " seed:  39\n",
            " seed:  40\n",
            " seed:  41\n",
            " seed:  42\n",
            " seed:  43\n",
            " seed:  44\n",
            " seed:  45\n",
            " seed:  46\n",
            " seed:  47\n",
            " seed:  48\n",
            " seed:  49\n",
            " seed:  50\n",
            " seed:  51\n",
            " seed:  52\n",
            " seed:  53\n",
            " seed:  54\n",
            " seed:  55\n",
            " seed:  56\n",
            " seed:  57\n",
            " seed:  58\n",
            " seed:  59\n",
            " seed:  60\n",
            " seed:  61\n",
            " seed:  62\n",
            " seed:  63\n",
            " seed:  64\n",
            " seed:  65\n",
            " seed:  66\n",
            " seed:  67\n",
            " seed:  68\n",
            " seed:  69\n",
            " seed:  70\n",
            " seed:  71\n",
            " seed:  72\n",
            " seed:  73\n",
            " seed:  74\n",
            " seed:  75\n",
            " seed:  76\n",
            " seed:  77\n",
            " seed:  78\n",
            " seed:  79\n",
            " seed:  80\n",
            " seed:  81\n",
            " seed:  82\n",
            " seed:  83\n",
            " seed:  84\n",
            " seed:  85\n",
            " seed:  86\n",
            " seed:  87\n",
            " seed:  88\n",
            " seed:  89\n",
            " seed:  90\n",
            " seed:  91\n",
            " seed:  92\n",
            " seed:  93\n",
            " seed:  94\n",
            " seed:  95\n",
            " seed:  96\n",
            " seed:  97\n",
            " seed:  98\n",
            " seed:  99\n"
          ]
        }
      ]
    },
    {
      "cell_type": "markdown",
      "source": [
        "We check our unweighted sampling Monte Carlo method's performance on estimating state value for state player sum is 13, player has an usable ace and dealer shows an ace."
      ],
      "metadata": {
        "id": "EQEE66GmGWXU"
      }
    },
    {
      "cell_type": "code",
      "source": [
        "state_eval/100"
      ],
      "metadata": {
        "colab": {
          "base_uri": "https://localhost:8080/"
        },
        "id": "Pt4sWhSsGX2z",
        "outputId": "4c0234ed-cd27-496a-da1f-530aa4920453"
      },
      "execution_count": 83,
      "outputs": [
        {
          "output_type": "execute_result",
          "data": {
            "text/plain": [
              "-0.06859879474131947"
            ]
          },
          "metadata": {},
          "execution_count": 83
        }
      ]
    },
    {
      "cell_type": "code",
      "source": [
        "basline_val"
      ],
      "metadata": {
        "colab": {
          "base_uri": "https://localhost:8080/"
        },
        "id": "aDm1XloaGayD",
        "outputId": "6baad0f6-6599-4e17-a332-cb49e4bbfd15"
      },
      "execution_count": 84,
      "outputs": [
        {
          "output_type": "execute_result",
          "data": {
            "text/plain": [
              "-0.19499478623566194"
            ]
          },
          "metadata": {},
          "execution_count": 84
        }
      ]
    },
    {
      "cell_type": "markdown",
      "source": [
        "This is not close from baseline value for state (13,1,True), but the performance here is better compared to performance of off policy n-Step SARSA method, not as good as case of n-Step TD method. We will have a further check of our n-Step TD method's performance on estimating state value for state player sum is 13, player has an usable ace and dealer shows an ace through computing an mean square error of our off_policy n-step Sarsa method's estimation of state value for state (13,1,True) throughout the 10000 iterations, and averaged over all 100 runs.\n",
        "\n",
        "Computing mean square error averaging our Weighted sampling Monte Carlo method over 100 runs for each of episode."
      ],
      "metadata": {
        "id": "iDqhzHz9GpzB"
      }
    },
    {
      "cell_type": "code",
      "source": [
        "MSE_WMC_col = []\n",
        "\n",
        "for iter in range(0,10000):\n",
        "    MSE = 0\n",
        "    N=0\n",
        "    for j in range(0,100):\n",
        "        N=N+1\n",
        "        mse_cur = (chosen_state_val_lis_02[j][iter]-basline_val)**2\n",
        "        MSE = MSE+(1/N)*(mse_cur-MSE)\n",
        "    MSE_WMC_col.append(MSE)"
      ],
      "metadata": {
        "id": "j6zgdeMWGowE"
      },
      "execution_count": 88,
      "outputs": []
    },
    {
      "cell_type": "code",
      "source": [
        "plt.plot(MSE_WMC_col)\n",
        "plt.title(\"MSE plot for Weighted importance sampling Method\")\n",
        "plt.ylabel(\"Mean square error, average over 100 runs\")\n",
        "plt.xlabel(\"episodes\")"
      ],
      "metadata": {
        "colab": {
          "base_uri": "https://localhost:8080/",
          "height": 489
        },
        "id": "qoVC1977Hrmi",
        "outputId": "2d3ddc97-9260-4cb6-a4fc-13061ba9f65a"
      },
      "execution_count": 89,
      "outputs": [
        {
          "output_type": "execute_result",
          "data": {
            "text/plain": [
              "Text(0.5, 0, 'episodes')"
            ]
          },
          "metadata": {},
          "execution_count": 89
        },
        {
          "output_type": "display_data",
          "data": {
            "text/plain": [
              "<Figure size 640x480 with 1 Axes>"
            ],
            "image/png": "[encoded data removed]"
          },
          "metadata": {}
        }
      ]
    },
    {
      "cell_type": "markdown",
      "source": [
        "The estimation error is generatlly far worse compared to the plot for n-step TD, with MSE error staying below 0.05. The trend are different that in plot above, MSE error decrease after iteration 2000 while in plot for n-Step TD, MSE error fluctuated but not decrease from iteration 4000 to 8000 and decrease after around iteration 8000.\n",
        "\n",
        "The trend of MSE shown in plot for Weighted sampling Monte Carlo method is similar to the trend in ploat for unweighted sampling Monte Carlo method, with a clear trend of decreasing MSE after around 2000 episodes."
      ],
      "metadata": {
        "id": "oKELTTOwIl50"
      }
    },
    {
      "cell_type": "markdown",
      "source": [
        "Now we try to figure out a epsilon-greedy policy for playing blackjack by using our **Weighted sampling Monte Carlo method**.\n",
        "\n",
        "This is our implemented unweighted Monte Carlo control algorithm finding a best policy of playing Blackjack. Mostly, the class below is borrowed from online article \"Reinforcement Learning — Solving Blackjack\" by Jeremy Zhang.\n",
        "Except the part that we create our own list of rewards and updating state value through Unweighted Monteh Carlo update, as given in page 109-110 of textbook, \"Off-policy MC prediction (policy evaluation) for estimatin Q≈qπ\" in section 5.6 and page 104 of textbook, section 5.5, equation 5.3, 5.4 and 5.5.\n",
        "For the playerpolicy function below, the part of using a policy probability to choose action is inspired by programming assignment 1 skelenton code. The rest of parts are borrowed from online article \"Reinforcement Learning — Solving Blackjack\" by Jeremy Zhang."
      ],
      "metadata": {
        "id": "UtJGrSxKJQsr"
      }
    },
    {
      "cell_type": "code",
      "source": [
        "class BlackJack_WMC_control(object):\n",
        "    # init function borrowed from website article \"Reinforcement Learning — Solving Blackjack\"\n",
        "    # by Jeremy Zhang in towardsdatascience.com\n",
        "    # initizliation function of blackjack object\n",
        "    def __init__(self,epsilon=0.1):\n",
        "        #self.player_state_value = {}\n",
        "        self.epsilon=epsilon\n",
        "        self.trajs = []\n",
        "        self.player_Q_Values={}\n",
        "        self.state_action_count={}\n",
        "        self.policy = {} #initialize a epsilon-soft policy\n",
        "        self.player_states = []\n",
        "        self.player_final_rewards=[]\n",
        "        self.player_draw = 0\n",
        "        self.player_win=0\n",
        "\n",
        "\n",
        "        # initialise V values | (12-21) x (1-10) x (True, False) x (1,0) 400 in total\n",
        "\n",
        "        for i in range(12, 22):\n",
        "            for j in range(1, 11):\n",
        "                for k in [True, False]:\n",
        "                    self.player_Q_Values[(i, j, k)] = {}\n",
        "                    self.player_Q_Values[(i,j,k)][1]=0\n",
        "                    self.player_Q_Values[(i,j,k)][0]=0\n",
        "                    self.state_action_count[(i, j, k)]={}\n",
        "                    self.state_action_count[(i, j, k)][1] = 0\n",
        "                    self.state_action_count[(i, j, k)][0] = 0\n",
        "                    self.policy[(i,j,k)]=[0.5,0.5]\n",
        "    # give card\n",
        "    # give card function borrowed from website article \"Reinforcement Learning — Solving Blackjack\"\n",
        "    # by Jeremy Zhang in towardsdatascience.com\n",
        "    @staticmethod\n",
        "    def giveCard():\n",
        "        # 1 stands for ace\n",
        "        c_list = list(range(1, 11)) + [10, 10, 10]\n",
        "        return np.random.choice(c_list)\n",
        "    # dealer policy and player policy function borrowed from website article\n",
        "    # \"Reinforcement Learning — Solving Blackjack\"\n",
        "    # by Jeremy Zhang in towardsdatascience.com\n",
        "    def dealerPolicy(self, current_value, usable_ace, is_end):\n",
        "        if current_value > 21:\n",
        "            if usable_ace:\n",
        "                current_value -= 10\n",
        "                usable_ace = False\n",
        "            else:\n",
        "                return current_value, usable_ace, True\n",
        "        # HIT17\n",
        "        if current_value >= 17:\n",
        "            return current_value, usable_ace, True\n",
        "        else:\n",
        "            card = self.giveCard()\n",
        "            if card == 1:\n",
        "                if current_value <= 10:\n",
        "                    return current_value+11, True, False\n",
        "                return current_value+1, usable_ace, False\n",
        "            else:\n",
        "                return current_value+card, usable_ace, False\n",
        "\n",
        "    # one can only has 1 usable ace\n",
        "    def playerPolicy(self, current_value, show_card, usable_ace, is_end):\n",
        "        if current_value > 21:\n",
        "            if usable_ace:\n",
        "                current_value -= 10\n",
        "                usable_ace = False\n",
        "            else:\n",
        "                return current_value, usable_ace, None, True\n",
        "\n",
        "        #always hit when total sum smaller than 12\n",
        "        if current_value < 12:\n",
        "            card = self.giveCard()\n",
        "            if card == 1:\n",
        "                if current_value <= 10:\n",
        "                    return current_value+11, True, 1, False\n",
        "                return current_value+1, usable_ace, 1, False\n",
        "            else:\n",
        "                return current_value+card, usable_ace, 1, False\n",
        "        # epsilon-soft policy here performed\n",
        "        action = np.random.choice([0,1],p=self.policy[(current_value,show_card,usable_ace)])\n",
        "        if action==0:\n",
        "            return current_value, usable_ace, 0, True\n",
        "        else:\n",
        "            card = self.giveCard()\n",
        "            if card == 1:\n",
        "                if current_value <= 10:\n",
        "                    return current_value+11, True, 1, False\n",
        "                return current_value+1, usable_ace, 1, False\n",
        "            else:\n",
        "                return current_value+card, usable_ace, 1, False\n",
        "\n",
        "\n",
        "    # give credit function borrowed from website article\n",
        "    # \"Reinforcement Learning — Solving Blackjack\"\n",
        "    # by Jeremy Zhang in towardsdatascience.com\n",
        "    def _giveCredit(self, player_value, dealer_value, cur_traj, is_end=True):\n",
        "        if is_end:\n",
        "            if player_value > 21:\n",
        "                if dealer_value > 21:\n",
        "                    # draw\n",
        "                    self.player_draw += 1\n",
        "                    self.player_final_rewards.append(0)\n",
        "                else:\n",
        "                    self.player_final_rewards.append(-1)\n",
        "            else:\n",
        "                if dealer_value > 21:\n",
        "                    self.player_final_rewards.append(1)\n",
        "                    self.player_win += 1\n",
        "                else:\n",
        "                    if player_value < dealer_value:\n",
        "                        self.player_final_rewards.append(-1)\n",
        "                    elif player_value > dealer_value:\n",
        "                        self.player_final_rewards.append(1)\n",
        "                        self.player_win += 1\n",
        "                    else:\n",
        "                        # draw\n",
        "                        self.player_draw += 1\n",
        "                        self.player_final_rewards.append(0)\n",
        "    def play(self, rounds=1000):\n",
        "        for i in range(rounds):\n",
        "            if i % 10000 == 0:\n",
        "                print(\"round\", i)\n",
        "\n",
        "\n",
        "\n",
        "\n",
        "            # hit 2 cards each\n",
        "            dealer_value, player_value = 0, 0\n",
        "            show_card = 0\n",
        "\n",
        "            # give dealer 2 cards and show 1\n",
        "            dealer_value += self.giveCard()\n",
        "            show_card = dealer_value\n",
        "            dealer_value += self.giveCard()\n",
        "\n",
        "            #list of states for players\n",
        "            lis_player_states = []\n",
        "\n",
        "            #col of actions\n",
        "            col_actions = {}\n",
        "            # player's turn\n",
        "            # always hit if less than 12\n",
        "            usable_ace, is_end = False, False\n",
        "            while True:\n",
        "\n",
        "                player_value, usable_ace, action, is_end = self.playerPolicy(player_value, show_card, usable_ace, is_end)\n",
        "                col_actions[(player_value, show_card, usable_ace)]=action\n",
        "\n",
        "                # when value goes higher than 12, record states\n",
        "                if (player_value >= 12) and (player_value <= 21):\n",
        "                    lis_player_states.append((player_value, show_card, usable_ace))\n",
        "\n",
        "                    #self.player_state_count[(player_value, show_card, usable_ace)]+=1\n",
        "\n",
        "                if is_end:\n",
        "                    break\n",
        "\n",
        "            self.player_states.append(lis_player_states)\n",
        "            # print(\"player card sum\", player_value)\n",
        "\n",
        "            # dealer's turn\n",
        "            usable_ace, is_end = False, False\n",
        "            while not is_end:\n",
        "                dealer_value, usable_ace, is_end = self.dealerPolicy(dealer_value, usable_ace, is_end)\n",
        "\n",
        "            # judge winner\n",
        "            # set intermediate state to 0\n",
        "            #for s in self.player_states:\n",
        "            #    self.player_state_value[s] = 0 if self.player_state_value.get(s) is None else self.player_state_value.get(s)\n",
        "\n",
        "            self._giveCredit(player_value, dealer_value,self.player_states[-1])\n",
        "\n",
        "            #creating list of rewards\n",
        "            rewards_here = list(np.zeros(len(self.player_states[i])-1))+[self.player_final_rewards[i]]\n",
        "\n",
        "\n",
        "            #estimating state-action values\n",
        "            G=0\n",
        "\n",
        "            W=1\n",
        "            #borrowed from my own programming assignment 2 code\n",
        "            for j in range (len(self.player_states[i])-1,-1,-1):\n",
        "                G=G+rewards_here[j]\n",
        "                s_t = self.player_states[i][j]\n",
        "                a_t= col_actions[s_t]\n",
        "                self.state_action_count[s_t][a_t] = self.state_action_count[s_t][a_t]+W\n",
        "\n",
        "                cur_val = self.player_Q_Values[s_t][a_t]\n",
        "                self.player_Q_Values[s_t][a_t]=cur_val+(W/self.state_action_count[s_t][a_t])*(G-cur_val)\n",
        "\n",
        "                rt = self.policy[s_t][a_t] / 0.5\n",
        "                W=W*rt\n",
        "                a_star = np.argmax([self.player_Q_Values[s_t][0],self.player_Q_Values[s_t][1]])\n",
        "\n",
        "                for a in range(2):\n",
        "                    if a==a_star:\n",
        "                        self.policy[s_t][a]=1-self.epsilon+self.epsilon/2\n",
        "                    else:\n",
        "                        self.policy[s_t][a]=self.epsilon/2\n",
        "\n"
      ],
      "metadata": {
        "id": "w5d9p-jMIlNU"
      },
      "execution_count": 90,
      "outputs": []
    },
    {
      "cell_type": "code",
      "source": [],
      "metadata": {
        "id": "ofQBj5keKh34"
      },
      "execution_count": null,
      "outputs": []
    },
    {
      "cell_type": "code",
      "source": [
        "policies_WMC_MonteCarlo = []\n",
        "for i in range(300,305):\n",
        "    np.random.seed(i)\n",
        "    b_WMC_control = BlackJack_WMC_control()\n",
        "    b_WMC_control.play(rounds=10000)\n",
        "    policies_WMC_MonteCarlo.append(b_WMC_control.policy)"
      ],
      "metadata": {
        "colab": {
          "base_uri": "https://localhost:8080/"
        },
        "outputId": "d9ca6d73-48ae-476f-fbee-dfd7f4f8ceaa",
        "id": "OvCNPjKgKiNn"
      },
      "execution_count": 94,
      "outputs": [
        {
          "output_type": "stream",
          "name": "stdout",
          "text": [
            "round 0\n",
            "round 0\n",
            "round 0\n",
            "round 0\n",
            "round 0\n"
          ]
        }
      ]
    },
    {
      "cell_type": "code",
      "source": [
        "final_policy_WMC_MonteCarlo = {}\n",
        "for i in range(12, 22):\n",
        "    for j in range(1, 11):\n",
        "        for k in [True, False]:\n",
        "            final_policy_WMC_MonteCarlo[(i,j,k)]=[0,0]\n",
        "N=0\n",
        "for ind in range(0,5):\n",
        "    N=N+1\n",
        "    for i in range(12, 22):\n",
        "        for j in range(1, 11):\n",
        "            for k in [True, False]:\n",
        "                update_prob=policies_WMC_MonteCarlo[ind][(i,j,k)]\n",
        "                cur_prob=final_policy_WMC_MonteCarlo[(i,j,k)]\n",
        "\n",
        "                final_policy_WMC_MonteCarlo[(i,j,k)][0]=cur_prob[0]+(1/N)*(update_prob[0]-cur_prob[0])\n",
        "                final_policy_WMC_MonteCarlo[(i,j,k)][1]=cur_prob[1]+(1/N)*(update_prob[1]-cur_prob[1])"
      ],
      "metadata": {
        "id": "_w1-z3AMKsxB"
      },
      "execution_count": 98,
      "outputs": []
    },
    {
      "cell_type": "code",
      "source": [
        "final_policy_WMC_MonteCarlo"
      ],
      "metadata": {
        "colab": {
          "base_uri": "https://localhost:8080/"
        },
        "id": "dfaaaCd1MDJZ",
        "outputId": "399f2a4e-22e9-4ea0-8588-96393b2b9049"
      },
      "execution_count": 99,
      "outputs": [
        {
          "output_type": "execute_result",
          "data": {
            "text/plain": [
              "{(12, 1, True): [0.9500000000000001, 0.05],\n",
              " (12, 1, False): [0.05, 0.9500000000000001],\n",
              " (12, 2, True): [0.41, 0.5900000000000001],\n",
              " (12, 2, False): [0.22999999999999998, 0.7700000000000001],\n",
              " (12, 3, True): [0.5900000000000001, 0.41],\n",
              " (12, 3, False): [0.23, 0.7700000000000001],\n",
              " (12, 4, True): [0.41, 0.5900000000000001],\n",
              " (12, 4, False): [0.05, 0.9500000000000001],\n",
              " (12, 5, True): [0.41, 0.5900000000000001],\n",
              " (12, 5, False): [0.23000000000000004, 0.77],\n",
              " (12, 6, True): [0.7700000000000001, 0.22999999999999998],\n",
              " (12, 6, False): [0.05, 0.9500000000000001],\n",
              " (12, 7, True): [0.7700000000000001, 0.23],\n",
              " (12, 7, False): [0.23000000000000004, 0.77],\n",
              " (12, 8, True): [0.5900000000000001, 0.41],\n",
              " (12, 8, False): [0.23, 0.7700000000000001],\n",
              " (12, 9, True): [0.5900000000000001, 0.41],\n",
              " (12, 9, False): [0.22999999999999998, 0.7700000000000001],\n",
              " (12, 10, True): [0.41000000000000003, 0.5900000000000001],\n",
              " (12, 10, False): [0.05, 0.9500000000000001],\n",
              " (13, 1, True): [0.22999999999999998, 0.7700000000000001],\n",
              " (13, 1, False): [0.22999999999999998, 0.7700000000000001],\n",
              " (13, 2, True): [0.22999999999999998, 0.7700000000000001],\n",
              " (13, 2, False): [0.23000000000000004, 0.77],\n",
              " (13, 3, True): [0.41, 0.5900000000000001],\n",
              " (13, 3, False): [0.41, 0.5900000000000001],\n",
              " (13, 4, True): [0.41, 0.5900000000000001],\n",
              " (13, 4, False): [0.23000000000000004, 0.77],\n",
              " (13, 5, True): [0.5900000000000001, 0.41],\n",
              " (13, 5, False): [0.22999999999999998, 0.7700000000000001],\n",
              " (13, 6, True): [0.5900000000000001, 0.41],\n",
              " (13, 6, False): [0.22999999999999998, 0.7700000000000001],\n",
              " (13, 7, True): [0.5900000000000001, 0.41],\n",
              " (13, 7, False): [0.23000000000000004, 0.77],\n",
              " (13, 8, True): [0.22999999999999998, 0.7700000000000001],\n",
              " (13, 8, False): [0.77, 0.23000000000000004],\n",
              " (13, 9, True): [0.22999999999999998, 0.7700000000000001],\n",
              " (13, 9, False): [0.05, 0.9500000000000001],\n",
              " (13, 10, True): [0.23, 0.7700000000000001],\n",
              " (13, 10, False): [0.05, 0.9500000000000001],\n",
              " (14, 1, True): [0.23, 0.7700000000000001],\n",
              " (14, 1, False): [0.41, 0.5900000000000001],\n",
              " (14, 2, True): [0.23000000000000004, 0.77],\n",
              " (14, 2, False): [0.05, 0.9500000000000001],\n",
              " (14, 3, True): [0.22999999999999998, 0.7700000000000001],\n",
              " (14, 3, False): [0.41, 0.5900000000000001],\n",
              " (14, 4, True): [0.5900000000000001, 0.41000000000000003],\n",
              " (14, 4, False): [0.22999999999999998, 0.7700000000000001],\n",
              " (14, 5, True): [0.05, 0.9500000000000001],\n",
              " (14, 5, False): [0.23000000000000004, 0.77],\n",
              " (14, 6, True): [0.5900000000000001, 0.41],\n",
              " (14, 6, False): [0.5900000000000001, 0.4100000000000001],\n",
              " (14, 7, True): [0.7700000000000001, 0.22999999999999998],\n",
              " (14, 7, False): [0.05, 0.9500000000000001],\n",
              " (14, 8, True): [0.7700000000000001, 0.22999999999999998],\n",
              " (14, 8, False): [0.41000000000000003, 0.5900000000000001],\n",
              " (14, 9, True): [0.77, 0.23000000000000004],\n",
              " (14, 9, False): [0.22999999999999998, 0.7700000000000001],\n",
              " (14, 10, True): [0.05, 0.9500000000000001],\n",
              " (14, 10, False): [0.05, 0.9500000000000001],\n",
              " (15, 1, True): [0.23, 0.7700000000000001],\n",
              " (15, 1, False): [0.77, 0.23000000000000004],\n",
              " (15, 2, True): [0.41, 0.5900000000000001],\n",
              " (15, 2, False): [0.5900000000000001, 0.41],\n",
              " (15, 3, True): [0.5900000000000001, 0.41],\n",
              " (15, 3, False): [0.5900000000000001, 0.41],\n",
              " (15, 4, True): [0.5900000000000001, 0.41],\n",
              " (15, 4, False): [0.22999999999999998, 0.7700000000000001],\n",
              " (15, 5, True): [0.5900000000000001, 0.41],\n",
              " (15, 5, False): [0.05, 0.9500000000000001],\n",
              " (15, 6, True): [0.41, 0.5900000000000001],\n",
              " (15, 6, False): [0.05, 0.9500000000000001],\n",
              " (15, 7, True): [0.41, 0.5900000000000001],\n",
              " (15, 7, False): [0.23, 0.7700000000000001],\n",
              " (15, 8, True): [0.23000000000000004, 0.77],\n",
              " (15, 8, False): [0.41, 0.5900000000000001],\n",
              " (15, 9, True): [0.41, 0.5900000000000001],\n",
              " (15, 9, False): [0.23000000000000004, 0.77],\n",
              " (15, 10, True): [0.41, 0.5900000000000001],\n",
              " (15, 10, False): [0.05, 0.9500000000000001],\n",
              " (16, 1, True): [0.22999999999999998, 0.7700000000000001],\n",
              " (16, 1, False): [0.22999999999999998, 0.7700000000000001],\n",
              " (16, 2, True): [0.41, 0.5900000000000001],\n",
              " (16, 2, False): [0.05, 0.9500000000000001],\n",
              " (16, 3, True): [0.7700000000000001, 0.22999999999999998],\n",
              " (16, 3, False): [0.41000000000000003, 0.5900000000000001],\n",
              " (16, 4, True): [0.5900000000000001, 0.41],\n",
              " (16, 4, False): [0.22999999999999998, 0.7700000000000001],\n",
              " (16, 5, True): [0.22999999999999998, 0.7700000000000001],\n",
              " (16, 5, False): [0.23000000000000004, 0.77],\n",
              " (16, 6, True): [0.7700000000000001, 0.23],\n",
              " (16, 6, False): [0.5900000000000001, 0.41],\n",
              " (16, 7, True): [0.5900000000000001, 0.41],\n",
              " (16, 7, False): [0.41, 0.5900000000000001],\n",
              " (16, 8, True): [0.7700000000000001, 0.22999999999999998],\n",
              " (16, 8, False): [0.41000000000000003, 0.5900000000000001],\n",
              " (16, 9, True): [0.5900000000000001, 0.41],\n",
              " (16, 9, False): [0.4100000000000001, 0.5900000000000001],\n",
              " (16, 10, True): [0.5900000000000001, 0.41000000000000003],\n",
              " (16, 10, False): [0.05, 0.9500000000000001],\n",
              " (17, 1, True): [0.5900000000000001, 0.41],\n",
              " (17, 1, False): [0.5900000000000001, 0.41],\n",
              " (17, 2, True): [0.4100000000000001, 0.5900000000000001],\n",
              " (17, 2, False): [0.41000000000000003, 0.5900000000000001],\n",
              " (17, 3, True): [0.23000000000000004, 0.77],\n",
              " (17, 3, False): [0.5900000000000001, 0.41],\n",
              " (17, 4, True): [0.22999999999999998, 0.7700000000000001],\n",
              " (17, 4, False): [0.41, 0.5900000000000001],\n",
              " (17, 5, True): [0.41, 0.5900000000000001],\n",
              " (17, 5, False): [0.41, 0.5900000000000001],\n",
              " (17, 6, True): [0.5900000000000001, 0.41],\n",
              " (17, 6, False): [0.4100000000000001, 0.5900000000000001],\n",
              " (17, 7, True): [0.41, 0.5900000000000001],\n",
              " (17, 7, False): [0.22999999999999998, 0.7700000000000001],\n",
              " (17, 8, True): [0.41, 0.5900000000000001],\n",
              " (17, 8, False): [0.7700000000000001, 0.22999999999999998],\n",
              " (17, 9, True): [0.7700000000000001, 0.23],\n",
              " (17, 9, False): [0.41, 0.5900000000000001],\n",
              " (17, 10, True): [0.05, 0.9500000000000001],\n",
              " (17, 10, False): [0.05, 0.9500000000000001],\n",
              " (18, 1, True): [0.41, 0.5900000000000001],\n",
              " (18, 1, False): [0.7700000000000001, 0.22999999999999998],\n",
              " (18, 2, True): [0.9500000000000001, 0.05],\n",
              " (18, 2, False): [0.5900000000000001, 0.41],\n",
              " (18, 3, True): [0.41000000000000003, 0.5900000000000001],\n",
              " (18, 3, False): [0.7700000000000001, 0.23],\n",
              " (18, 4, True): [0.9500000000000001, 0.05],\n",
              " (18, 4, False): [0.7700000000000001, 0.22999999999999998],\n",
              " (18, 5, True): [0.5900000000000001, 0.41],\n",
              " (18, 5, False): [0.7700000000000001, 0.23],\n",
              " (18, 6, True): [0.41, 0.5900000000000001],\n",
              " (18, 6, False): [0.9500000000000001, 0.05],\n",
              " (18, 7, True): [0.7700000000000001, 0.22999999999999998],\n",
              " (18, 7, False): [0.9500000000000001, 0.05],\n",
              " (18, 8, True): [0.5900000000000001, 0.41],\n",
              " (18, 8, False): [0.5900000000000001, 0.41],\n",
              " (18, 9, True): [0.5900000000000001, 0.41],\n",
              " (18, 9, False): [0.23000000000000004, 0.77],\n",
              " (18, 10, True): [0.41, 0.5900000000000001],\n",
              " (18, 10, False): [0.7700000000000001, 0.22999999999999998],\n",
              " (19, 1, True): [0.7700000000000001, 0.22999999999999998],\n",
              " (19, 1, False): [0.9500000000000001, 0.05],\n",
              " (19, 2, True): [0.4100000000000001, 0.5900000000000001],\n",
              " (19, 2, False): [0.9500000000000001, 0.05],\n",
              " (19, 3, True): [0.7700000000000001, 0.23],\n",
              " (19, 3, False): [0.7700000000000001, 0.22999999999999998],\n",
              " (19, 4, True): [0.5900000000000001, 0.41000000000000003],\n",
              " (19, 4, False): [0.9500000000000001, 0.05],\n",
              " (19, 5, True): [0.5900000000000001, 0.41000000000000003],\n",
              " (19, 5, False): [0.7700000000000001, 0.22999999999999998],\n",
              " (19, 6, True): [0.41, 0.5900000000000001],\n",
              " (19, 6, False): [0.5900000000000001, 0.41],\n",
              " (19, 7, True): [0.7700000000000001, 0.23],\n",
              " (19, 7, False): [0.9500000000000001, 0.05],\n",
              " (19, 8, True): [0.77, 0.23000000000000004],\n",
              " (19, 8, False): [0.9500000000000001, 0.05],\n",
              " (19, 9, True): [0.5900000000000001, 0.41],\n",
              " (19, 9, False): [0.9500000000000001, 0.05],\n",
              " (19, 10, True): [0.41, 0.5900000000000001],\n",
              " (19, 10, False): [0.9500000000000001, 0.05],\n",
              " (20, 1, True): [0.7700000000000001, 0.22999999999999998],\n",
              " (20, 1, False): [0.9500000000000001, 0.05],\n",
              " (20, 2, True): [0.9500000000000001, 0.05],\n",
              " (20, 2, False): [0.9500000000000001, 0.05],\n",
              " (20, 3, True): [0.7700000000000001, 0.22999999999999998],\n",
              " (20, 3, False): [0.9500000000000001, 0.05],\n",
              " (20, 4, True): [0.7700000000000001, 0.22999999999999998],\n",
              " (20, 4, False): [0.9500000000000001, 0.05],\n",
              " (20, 5, True): [0.9500000000000001, 0.05],\n",
              " (20, 5, False): [0.9500000000000001, 0.05],\n",
              " (20, 6, True): [0.7700000000000001, 0.23],\n",
              " (20, 6, False): [0.9500000000000001, 0.05],\n",
              " (20, 7, True): [0.7700000000000001, 0.22999999999999998],\n",
              " (20, 7, False): [0.9500000000000001, 0.05],\n",
              " (20, 8, True): [0.9500000000000001, 0.05],\n",
              " (20, 8, False): [0.9500000000000001, 0.05],\n",
              " (20, 9, True): [0.41, 0.5900000000000001],\n",
              " (20, 9, False): [0.9500000000000001, 0.05],\n",
              " (20, 10, True): [0.9500000000000001, 0.05],\n",
              " (20, 10, False): [0.9500000000000001, 0.05],\n",
              " (21, 1, True): [0.9500000000000001, 0.05],\n",
              " (21, 1, False): [0.9500000000000001, 0.05],\n",
              " (21, 2, True): [0.5900000000000001, 0.4100000000000001],\n",
              " (21, 2, False): [0.9500000000000001, 0.05],\n",
              " (21, 3, True): [0.9500000000000001, 0.05],\n",
              " (21, 3, False): [0.9500000000000001, 0.05],\n",
              " (21, 4, True): [0.9500000000000001, 0.05],\n",
              " (21, 4, False): [0.9500000000000001, 0.05],\n",
              " (21, 5, True): [0.7700000000000001, 0.22999999999999998],\n",
              " (21, 5, False): [0.9500000000000001, 0.05],\n",
              " (21, 6, True): [0.9500000000000001, 0.05],\n",
              " (21, 6, False): [0.9500000000000001, 0.05],\n",
              " (21, 7, True): [0.9500000000000001, 0.05],\n",
              " (21, 7, False): [0.9500000000000001, 0.05],\n",
              " (21, 8, True): [0.7700000000000001, 0.22999999999999998],\n",
              " (21, 8, False): [0.9500000000000001, 0.05],\n",
              " (21, 9, True): [0.9500000000000001, 0.05],\n",
              " (21, 9, False): [0.9500000000000001, 0.05],\n",
              " (21, 10, True): [0.9500000000000001, 0.05],\n",
              " (21, 10, False): [0.9500000000000001, 0.05]}"
            ]
          },
          "metadata": {},
          "execution_count": 99
        }
      ]
    },
    {
      "cell_type": "markdown",
      "source": [
        "Now we check winning rate of policy chosen by Weighted sampling Monte Carlo method playing Blackjack."
      ],
      "metadata": {
        "id": "tbg_Z0ZXLvGc"
      }
    },
    {
      "cell_type": "code",
      "source": [
        "np.random.seed(500)\n",
        "WMC_rerun=BlackJack_estimate_rerun(policy_prob=final_policy_WMC_MonteCarlo)\n",
        "WMC_rerun.play(10000)\n",
        "WMC_rerun.player_win,UWMC_rerun.player_draw,UWMC_rerun.player_lose"
      ],
      "metadata": {
        "colab": {
          "base_uri": "https://localhost:8080/"
        },
        "id": "jIn7GYsBL4hv",
        "outputId": "84096563-0283-4204-88d9-abf479db41f0"
      },
      "execution_count": 101,
      "outputs": [
        {
          "output_type": "execute_result",
          "data": {
            "text/plain": [
              "(3962, 1691, 4382)"
            ]
          },
          "metadata": {},
          "execution_count": 101
        }
      ]
    },
    {
      "cell_type": "code",
      "source": [
        "print(\"Weighted MC Winning rate :\",WMC_rerun.player_win/10000)"
      ],
      "metadata": {
        "colab": {
          "base_uri": "https://localhost:8080/"
        },
        "id": "DVgj9a-9M2vh",
        "outputId": "7ed8929a-7072-4aab-f545-db8add22813d"
      },
      "execution_count": 103,
      "outputs": [
        {
          "output_type": "stream",
          "name": "stdout",
          "text": [
            "Weighted MC Winning rate : 0.3962\n"
          ]
        }
      ]
    },
    {
      "cell_type": "markdown",
      "source": [
        "Winning rate 39.62%, this is close to 39.97% winning rate for n-Step TD and 39.27% winning rate for Unweighted sampling Monte Carlo."
      ],
      "metadata": {
        "id": "NFbqxMlVM0d6"
      }
    }
  ],
  "metadata": {
    "kernelspec": {
      "display_name": "base",
      "language": "python",
      "name": "python3"
    },
    "language_info": {
      "codemirror_mode": {
        "name": "ipython",
        "version": 3
      },
      "file_extension": ".py",
      "mimetype": "text/x-python",
      "name": "python",
      "nbconvert_exporter": "python",
      "pygments_lexer": "ipython3",
      "version": "3.10.12"
    },
    "colab": {
      "provenance": []
    }
  },
  "nbformat": 4,
  "nbformat_minor": 0
}